{
 "cells": [
  {
   "cell_type": "code",
   "execution_count": 1,
   "metadata": {
    "collapsed": true,
    "ExecuteTime": {
     "start_time": "2023-06-05T21:44:22.556681Z",
     "end_time": "2023-06-05T21:44:23.016318Z"
    }
   },
   "outputs": [],
   "source": [
    "import gc\n",
    "\n",
    "import pandas as pd\n",
    "import  mbr_kernel as mkn\n",
    "import numpy as np\n",
    "import utilitaires_810 as u810\n",
    "\n",
    "from sklearn.impute import SimpleImputer\n",
    "from sklearn.preprocessing import StandardScaler, MinMaxScaler\n",
    "from sklearn.model_selection import train_test_split\n",
    "from sklearn.metrics import confusion_matrix, make_scorer, recall_score, roc_curve, auc\n",
    "from imblearn.pipeline import Pipeline\n",
    "# Estimator\n",
    "import xgboost as xgb\n",
    "from sklearn.linear_model import LogisticRegression\n",
    "from sklearn.ensemble import RandomForestClassifier\n",
    "\n",
    "# for SMOTE\n",
    "from imblearn.over_sampling import SMOTE\n",
    "from imblearn.under_sampling import RandomUnderSampler\n",
    "\n",
    "from sklearn.model_selection import train_test_split, StratifiedKFold, GridSearchCV\n",
    "\n",
    "import mlflow\n",
    "import mlflow.sklearn\n",
    "\n",
    "TEST_SIZE = 0.2\n",
    "RANDOM_STATE = 42\n",
    "GIT_FOLDER = './'\n",
    "INPUT_FOLDER = GIT_FOLDER + 'input_data/'\n",
    "DOSSIER_IMG = GIT_FOLDER+'temp_img/'\n",
    "\n",
    "# ---------------------------------------------------------------- MAKE SCRORER\n",
    "def compute_F2(y_true, y_pred) :\n",
    "    faux_negs = np.sum((y_true == 1) & (y_pred == 0))\n",
    "    faux_pos = np.sum((y_true == 0) & (y_pred == 1))\n",
    "    true_pos = np.sum((y_true == 1) & (y_pred == 1))\n",
    "    # true_negs = np.sum((y_true == 0) & (y_pred == 0))\n",
    "    f2_score = true_pos/(true_pos + 0.2 * faux_pos + 0.8 * faux_negs)\n",
    "    return f2_score\n",
    "\n",
    "def compute_F2_custom(y_true, y_pred) :\n",
    "    faux_negs = np.sum((y_true == 1) & (y_pred == 0))\n",
    "    faux_pos = np.sum((y_true == 0) & (y_pred == 1))\n",
    "    true_pos = np.sum((y_true == 1) & (y_pred == 1))\n",
    "    # true_negs = np.sum((y_true == 0) & (y_pred == 0))\n",
    "    f2_score = true_pos/(true_pos + 0.1 * faux_pos + faux_negs)\n",
    "    return f2_score\n",
    "\n",
    "F2_score = make_scorer(compute_F2, greater_is_better=True)\n",
    "F2custom_score = make_scorer(compute_F2_custom, greater_is_better=True)\n"
   ]
  },
  {
   "cell_type": "code",
   "execution_count": 2,
   "outputs": [],
   "source": [
    "def test_model(data, estimator, confusion=False, over_sampling=0.1, under_sampling=0.5, do_under=True) :\n",
    "    print(\"PREPARING MODEL\")\n",
    "    X = data.drop(columns = ['SK_ID_CURR', 'TARGET'])\n",
    "    y = data['TARGET']\n",
    "\n",
    "    X_train, X_test, y_train, y_test = train_test_split(X, y, test_size=TEST_SIZE, random_state=RANDOM_STATE, stratify=y)\n",
    "    print(f\"X_train : {X_train.shape} // X_test : {X_test.shape}\")\n",
    "    print(f\"y_train : {y_train.shape} // y_test : {y_test.shape}\")\n",
    "\n",
    "    imputer = SimpleImputer(missing_values=np.nan, strategy='median')\n",
    "    scaler = StandardScaler()\n",
    "    over = SMOTE(sampling_strategy=over_sampling, random_state=RANDOM_STATE)\n",
    "    if do_under :\n",
    "        under = RandomUnderSampler(sampling_strategy=under_sampling, random_state=RANDOM_STATE)\n",
    "    estimator = estimator\n",
    "\n",
    "    if do_under :\n",
    "        be = Pipeline([\n",
    "            (\"imputer\", imputer),\n",
    "            (\"scaler\", scaler),\n",
    "            (\"over\", over),\n",
    "            (\"under\", under),\n",
    "            (\"estimator\", estimator)\n",
    "        ])\n",
    "    else :\n",
    "        be = Pipeline([\n",
    "            (\"imputer\", imputer),\n",
    "            (\"scaler\", scaler),\n",
    "            (\"over\", over),\n",
    "            (\"estimator\", estimator)\n",
    "        ])\n",
    "\n",
    "    be.fit(X_train, y_train)\n",
    "\n",
    "    print(\"TESTING MODEL\")\n",
    "    y_pred = be.predict(X_test)\n",
    "    y_train_pred = be.predict(X_train)\n",
    "\n",
    "    fpr, tpr, thresholds = roc_curve(y_train, y_train_pred)\n",
    "    train_auc_score = auc(fpr, tpr)\n",
    "    train_F2_score = compute_F2(y_true=y_train, y_pred=y_train_pred)\n",
    "    train_F2c_score = compute_F2_custom(y_true=y_train, y_pred=y_train_pred)\n",
    "    train_rappel = recall_score(y_true=y_train, y_pred=y_train_pred)\n",
    "    print(\"TRAIN F2 score\", train_F2_score)\n",
    "    print(\"TRAIN F2Custom score\", train_F2c_score)\n",
    "    print(\"TRAIN AUC\", train_auc_score)\n",
    "    print(\"TRAIN Recall\", train_rappel)\n",
    "\n",
    "    fpr, tpr, thresholds = roc_curve(y_test, y_pred)\n",
    "    test_auc_score = auc(fpr, tpr)\n",
    "    test_F2_score = compute_F2(y_true=y_test, y_pred=y_pred)\n",
    "    test_F2c_score = compute_F2_custom(y_true=y_test, y_pred=y_pred)\n",
    "    test_rappel = recall_score(y_true=y_test, y_pred=y_pred)\n",
    "    print(\"TEST F2 score\", test_F2_score)\n",
    "    print(\"TEST F2Custom score\", test_F2c_score)\n",
    "    print(\"TEST AUC\", test_auc_score)\n",
    "    print(\"TEST Recall\", test_rappel)\n",
    "\n",
    "    if confusion :\n",
    "        u810.matrice_confusion(y_true=y_test, y_pred=y_pred, complement_titre = \" de Test\", path=DOSSIER_IMG, nomfichier=\"model_Test_cm.png\")\n",
    "    return {'model' : be, 'test_F2' : test_F2_score, 'test_aux' : test_auc_score, 'test_rappel' : test_rappel}\n",
    "\n",
    "def transform_X(X):\n",
    "    imputer = SimpleImputer(missing_values=np.nan, strategy='median')\n",
    "    scaler = StandardScaler()\n",
    "    X_imp = imputer.fit_transform(X)\n",
    "    X_sc = scaler.fit_transform(X_imp)\n",
    "    new_X=pd.DataFrame(X_sc, columns=X.columns.tolist())\n",
    "    return  new_X\n"
   ],
   "metadata": {
    "collapsed": false,
    "ExecuteTime": {
     "start_time": "2023-06-05T21:44:31.624933Z",
     "end_time": "2023-06-05T21:44:31.634172Z"
    }
   }
  },
  {
   "cell_type": "markdown",
   "source": [
    "# PREPROCESS DATA"
   ],
   "metadata": {
    "collapsed": false
   }
  },
  {
   "cell_type": "code",
   "execution_count": 3,
   "outputs": [
    {
     "name": "stdout",
     "output_type": "stream",
     "text": [
      "Forme initiale du Dataframe :  (307511, 122)\n"
     ]
    },
    {
     "name": "stderr",
     "output_type": "stream",
     "text": [
      "/home/maximorose/git_repositories/oc-ds-p07/utilitaires_810.py:77: SettingWithCopyWarning: \n",
      "A value is trying to be set on a copy of a slice from a DataFrame\n",
      "\n",
      "See the caveats in the documentation: https://pandas.pydata.org/pandas-docs/stable/user_guide/indexing.html#returning-a-view-versus-a-copy\n",
      "  res_df.drop(columns=['taux_nan'], inplace=True)\n",
      "/home/maximorose/git_repositories/oc-ds-p07/mbr_kernel.py:179: SettingWithCopyWarning: \n",
      "A value is trying to be set on a copy of a slice from a DataFrame\n",
      "\n",
      "See the caveats in the documentation: https://pandas.pydata.org/pandas-docs/stable/user_guide/indexing.html#returning-a-view-versus-a-copy\n",
      "  df.loc[:, 'DAYS_EMPLOYED'].replace(365243, np.nan, inplace=True)\n",
      "/home/maximorose/git_repositories/oc-ds-p07/mbr_kernel.py:186: SettingWithCopyWarning: \n",
      "A value is trying to be set on a copy of a slice from a DataFrame\n",
      "\n",
      "See the caveats in the documentation: https://pandas.pydata.org/pandas-docs/stable/user_guide/indexing.html#returning-a-view-versus-a-copy\n",
      "  df.drop(columns=['FLAG_OWN_CAR', 'FLAG_OWN_REALTY'], inplace=True)\n",
      "/home/maximorose/git_repositories/oc-ds-p07/mbr_kernel.py:195: SettingWithCopyWarning: \n",
      "A value is trying to be set on a copy of a slice from a DataFrame.\n",
      "Try using .loc[row_indexer,col_indexer] = value instead\n",
      "\n",
      "See the caveats in the documentation: https://pandas.pydata.org/pandas-docs/stable/user_guide/indexing.html#returning-a-view-versus-a-copy\n",
      "  df.loc[:, 'CREDIT_TO_ANNUITY_RATIO'] = df['AMT_CREDIT'] / df['AMT_ANNUITY']\n",
      "/home/maximorose/git_repositories/oc-ds-p07/mbr_kernel.py:196: SettingWithCopyWarning: \n",
      "A value is trying to be set on a copy of a slice from a DataFrame.\n",
      "Try using .loc[row_indexer,col_indexer] = value instead\n",
      "\n",
      "See the caveats in the documentation: https://pandas.pydata.org/pandas-docs/stable/user_guide/indexing.html#returning-a-view-versus-a-copy\n",
      "  df.loc[:, 'CREDIT_TO_GOODS_RATIO'] = df['AMT_CREDIT'] / df['AMT_GOODS_PRICE']\n",
      "/home/maximorose/git_repositories/oc-ds-p07/mbr_kernel.py:198: SettingWithCopyWarning: \n",
      "A value is trying to be set on a copy of a slice from a DataFrame.\n",
      "Try using .loc[row_indexer,col_indexer] = value instead\n",
      "\n",
      "See the caveats in the documentation: https://pandas.pydata.org/pandas-docs/stable/user_guide/indexing.html#returning-a-view-versus-a-copy\n",
      "  df.loc[:, 'ANNUITY_TO_INCOME_RATIO'] = df['AMT_ANNUITY'] / df['AMT_INCOME_TOTAL']\n",
      "/home/maximorose/git_repositories/oc-ds-p07/mbr_kernel.py:201: SettingWithCopyWarning: \n",
      "A value is trying to be set on a copy of a slice from a DataFrame.\n",
      "Try using .loc[row_indexer,col_indexer] = value instead\n",
      "\n",
      "See the caveats in the documentation: https://pandas.pydata.org/pandas-docs/stable/user_guide/indexing.html#returning-a-view-versus-a-copy\n",
      "  df.loc[:, 'INCOME_TO_EMPLOYED_RATIO'] = df['AMT_INCOME_TOTAL'] / df['DAYS_EMPLOYED']\n",
      "/home/maximorose/git_repositories/oc-ds-p07/mbr_kernel.py:202: SettingWithCopyWarning: \n",
      "A value is trying to be set on a copy of a slice from a DataFrame.\n",
      "Try using .loc[row_indexer,col_indexer] = value instead\n",
      "\n",
      "See the caveats in the documentation: https://pandas.pydata.org/pandas-docs/stable/user_guide/indexing.html#returning-a-view-versus-a-copy\n",
      "  df.loc[:, 'INCOME_TO_BIRTH_RATIO'] = df['AMT_INCOME_TOTAL'] / df['DAYS_BIRTH']\n"
     ]
    },
    {
     "name": "stdout",
     "output_type": "stream",
     "text": [
      "Forme du Dataframe apres traitement :  (219656, 122)\n",
      "\n",
      "Application dataframe shape:  (219656, 17)\n",
      "application processing - done in 1s\n",
      "Forme initiale du Dataframe :  (1716428, 17)\n",
      "Forme du Dataframe apres traitement :  (1716428, 17)\n",
      "Bureau dataframe shape:  (305811, 8)\n",
      "Bureau and bureau_balance processing - done in 7s\n",
      "Forme initiale du Dataframe :  (1670214, 37)\n"
     ]
    },
    {
     "name": "stderr",
     "output_type": "stream",
     "text": [
      "/home/maximorose/git_repositories/oc-ds-p07/utilitaires_810.py:77: SettingWithCopyWarning: \n",
      "A value is trying to be set on a copy of a slice from a DataFrame\n",
      "\n",
      "See the caveats in the documentation: https://pandas.pydata.org/pandas-docs/stable/user_guide/indexing.html#returning-a-view-versus-a-copy\n",
      "  res_df.drop(columns=['taux_nan'], inplace=True)\n"
     ]
    },
    {
     "name": "stdout",
     "output_type": "stream",
     "text": [
      "Forme du Dataframe apres traitement :  (1234578, 37)\n",
      "Forme initiale du Dataframe :  (13605401, 8)\n",
      "Forme du Dataframe apres traitement :  (13605401, 8)\n",
      "Previous Application dataframe shape:  (338308, 12)\n",
      "Previous application processing - done in 23s\n",
      "Pos-Cash dataframe shape:  (337252, 3)\n",
      "Pos-Cash processing - done in 5s\n",
      "Installement dataframe shape:  (339587, 7)\n",
      "Installment processing - done in 13s\n",
      "CC dataframe shape:  (103558, 6)\n",
      "CC processing - done in 6s\n",
      "X_train : (175724, 51) // X_test : (43932, 51)\n",
      "y_train : (175724,) // y_test : (43932,)\n"
     ]
    }
   ],
   "source": [
    "df_train = pd.read_csv('./input_data/application_train.csv')\n",
    "df = mkn.full_feature_engineering(df_input=df_train, df_folder='./input_data/',encoding_treshold=0.04, nan_treshold=0.4)\n",
    "X = df.drop(columns = ['SK_ID_CURR', 'TARGET'])\n",
    "y = df['TARGET']\n",
    "\n",
    "X_train, X_test, y_train, y_test = train_test_split(X, y, test_size=TEST_SIZE, random_state=RANDOM_STATE, stratify=y)\n",
    "print(f\"X_train : {X_train.shape} // X_test : {X_test.shape}\")\n",
    "print(f\"y_train : {y_train.shape} // y_test : {y_test.shape}\")"
   ],
   "metadata": {
    "collapsed": false,
    "ExecuteTime": {
     "start_time": "2023-06-05T21:44:54.286045Z",
     "end_time": "2023-06-05T21:45:51.941253Z"
    }
   }
  },
  {
   "cell_type": "markdown",
   "source": [
    "# TEST MODEL"
   ],
   "metadata": {
    "collapsed": false
   }
  },
  {
   "cell_type": "code",
   "execution_count": 4,
   "outputs": [
    {
     "name": "stdout",
     "output_type": "stream",
     "text": [
      "Fitting 5 folds for each of 27 candidates, totalling 135 fits\n",
      "[CV] END estimator__max_depth=20, estimator__min_samples_split=10, estimator__n_estimators=100; total time=  29.0s\n",
      "[CV] END estimator__max_depth=20, estimator__min_samples_split=10, estimator__n_estimators=1000; total time= 4.0min\n"
     ]
    },
    {
     "name": "stderr",
     "output_type": "stream",
     "text": [
      "/home/maximorose/.local/lib/python3.10/site-packages/joblib/externals/loky/process_executor.py:700: UserWarning: A worker stopped while some jobs were given to the executor. This can be caused by a too short worker timeout or by a memory leak.\n",
      "  warnings.warn(\n"
     ]
    },
    {
     "data": {
      "text/plain": "GridSearchCV(cv=StratifiedKFold(n_splits=5, random_state=None, shuffle=False),\n             estimator=Pipeline(steps=[('imputer',\n                                        SimpleImputer(strategy='median')),\n                                       ('scaler', StandardScaler()),\n                                       ('over',\n                                        SMOTE(random_state=42,\n                                              sampling_strategy=0.1)),\n                                       ('under',\n                                        RandomUnderSampler(random_state=42,\n                                                           sampling_strategy=0.5)),\n                                       ('estimator',\n                                        RandomForestClassifier(class_weight='balanced'))]),\n             n_jobs=-1,\n             param_grid={'estimator__max_depth': [20, 50, 100],\n                         'estimator__min_samples_split': [10, 200, 500],\n                         'estimator__n_estimators': [100, 500, 1000]},\n             return_train_score=True, scoring=make_scorer(compute_F2),\n             verbose=2)",
      "text/html": "<style>#sk-container-id-1 {color: black;background-color: white;}#sk-container-id-1 pre{padding: 0;}#sk-container-id-1 div.sk-toggleable {background-color: white;}#sk-container-id-1 label.sk-toggleable__label {cursor: pointer;display: block;width: 100%;margin-bottom: 0;padding: 0.3em;box-sizing: border-box;text-align: center;}#sk-container-id-1 label.sk-toggleable__label-arrow:before {content: \"▸\";float: left;margin-right: 0.25em;color: #696969;}#sk-container-id-1 label.sk-toggleable__label-arrow:hover:before {color: black;}#sk-container-id-1 div.sk-estimator:hover label.sk-toggleable__label-arrow:before {color: black;}#sk-container-id-1 div.sk-toggleable__content {max-height: 0;max-width: 0;overflow: hidden;text-align: left;background-color: #f0f8ff;}#sk-container-id-1 div.sk-toggleable__content pre {margin: 0.2em;color: black;border-radius: 0.25em;background-color: #f0f8ff;}#sk-container-id-1 input.sk-toggleable__control:checked~div.sk-toggleable__content {max-height: 200px;max-width: 100%;overflow: auto;}#sk-container-id-1 input.sk-toggleable__control:checked~label.sk-toggleable__label-arrow:before {content: \"▾\";}#sk-container-id-1 div.sk-estimator input.sk-toggleable__control:checked~label.sk-toggleable__label {background-color: #d4ebff;}#sk-container-id-1 div.sk-label input.sk-toggleable__control:checked~label.sk-toggleable__label {background-color: #d4ebff;}#sk-container-id-1 input.sk-hidden--visually {border: 0;clip: rect(1px 1px 1px 1px);clip: rect(1px, 1px, 1px, 1px);height: 1px;margin: -1px;overflow: hidden;padding: 0;position: absolute;width: 1px;}#sk-container-id-1 div.sk-estimator {font-family: monospace;background-color: #f0f8ff;border: 1px dotted black;border-radius: 0.25em;box-sizing: border-box;margin-bottom: 0.5em;}#sk-container-id-1 div.sk-estimator:hover {background-color: #d4ebff;}#sk-container-id-1 div.sk-parallel-item::after {content: \"\";width: 100%;border-bottom: 1px solid gray;flex-grow: 1;}#sk-container-id-1 div.sk-label:hover label.sk-toggleable__label {background-color: #d4ebff;}#sk-container-id-1 div.sk-serial::before {content: \"\";position: absolute;border-left: 1px solid gray;box-sizing: border-box;top: 0;bottom: 0;left: 50%;z-index: 0;}#sk-container-id-1 div.sk-serial {display: flex;flex-direction: column;align-items: center;background-color: white;padding-right: 0.2em;padding-left: 0.2em;position: relative;}#sk-container-id-1 div.sk-item {position: relative;z-index: 1;}#sk-container-id-1 div.sk-parallel {display: flex;align-items: stretch;justify-content: center;background-color: white;position: relative;}#sk-container-id-1 div.sk-item::before, #sk-container-id-1 div.sk-parallel-item::before {content: \"\";position: absolute;border-left: 1px solid gray;box-sizing: border-box;top: 0;bottom: 0;left: 50%;z-index: -1;}#sk-container-id-1 div.sk-parallel-item {display: flex;flex-direction: column;z-index: 1;position: relative;background-color: white;}#sk-container-id-1 div.sk-parallel-item:first-child::after {align-self: flex-end;width: 50%;}#sk-container-id-1 div.sk-parallel-item:last-child::after {align-self: flex-start;width: 50%;}#sk-container-id-1 div.sk-parallel-item:only-child::after {width: 0;}#sk-container-id-1 div.sk-dashed-wrapped {border: 1px dashed gray;margin: 0 0.4em 0.5em 0.4em;box-sizing: border-box;padding-bottom: 0.4em;background-color: white;}#sk-container-id-1 div.sk-label label {font-family: monospace;font-weight: bold;display: inline-block;line-height: 1.2em;}#sk-container-id-1 div.sk-label-container {text-align: center;}#sk-container-id-1 div.sk-container {/* jupyter's `normalize.less` sets `[hidden] { display: none; }` but bootstrap.min.css set `[hidden] { display: none !important; }` so we also need the `!important` here to be able to override the default hidden behavior on the sphinx rendered scikit-learn.org. See: https://github.com/scikit-learn/scikit-learn/issues/21755 */display: inline-block !important;position: relative;}#sk-container-id-1 div.sk-text-repr-fallback {display: none;}</style><div id=\"sk-container-id-1\" class=\"sk-top-container\"><div class=\"sk-text-repr-fallback\"><pre>GridSearchCV(cv=StratifiedKFold(n_splits=5, random_state=None, shuffle=False),\n             estimator=Pipeline(steps=[(&#x27;imputer&#x27;,\n                                        SimpleImputer(strategy=&#x27;median&#x27;)),\n                                       (&#x27;scaler&#x27;, StandardScaler()),\n                                       (&#x27;over&#x27;,\n                                        SMOTE(random_state=42,\n                                              sampling_strategy=0.1)),\n                                       (&#x27;under&#x27;,\n                                        RandomUnderSampler(random_state=42,\n                                                           sampling_strategy=0.5)),\n                                       (&#x27;estimator&#x27;,\n                                        RandomForestClassifier(class_weight=&#x27;balanced&#x27;))]),\n             n_jobs=-1,\n             param_grid={&#x27;estimator__max_depth&#x27;: [20, 50, 100],\n                         &#x27;estimator__min_samples_split&#x27;: [10, 200, 500],\n                         &#x27;estimator__n_estimators&#x27;: [100, 500, 1000]},\n             return_train_score=True, scoring=make_scorer(compute_F2),\n             verbose=2)</pre><b>In a Jupyter environment, please rerun this cell to show the HTML representation or trust the notebook. <br />On GitHub, the HTML representation is unable to render, please try loading this page with nbviewer.org.</b></div><div class=\"sk-container\" hidden><div class=\"sk-item sk-dashed-wrapped\"><div class=\"sk-label-container\"><div class=\"sk-label sk-toggleable\"><input class=\"sk-toggleable__control sk-hidden--visually\" id=\"sk-estimator-id-1\" type=\"checkbox\" ><label for=\"sk-estimator-id-1\" class=\"sk-toggleable__label sk-toggleable__label-arrow\">GridSearchCV</label><div class=\"sk-toggleable__content\"><pre>GridSearchCV(cv=StratifiedKFold(n_splits=5, random_state=None, shuffle=False),\n             estimator=Pipeline(steps=[(&#x27;imputer&#x27;,\n                                        SimpleImputer(strategy=&#x27;median&#x27;)),\n                                       (&#x27;scaler&#x27;, StandardScaler()),\n                                       (&#x27;over&#x27;,\n                                        SMOTE(random_state=42,\n                                              sampling_strategy=0.1)),\n                                       (&#x27;under&#x27;,\n                                        RandomUnderSampler(random_state=42,\n                                                           sampling_strategy=0.5)),\n                                       (&#x27;estimator&#x27;,\n                                        RandomForestClassifier(class_weight=&#x27;balanced&#x27;))]),\n             n_jobs=-1,\n             param_grid={&#x27;estimator__max_depth&#x27;: [20, 50, 100],\n                         &#x27;estimator__min_samples_split&#x27;: [10, 200, 500],\n                         &#x27;estimator__n_estimators&#x27;: [100, 500, 1000]},\n             return_train_score=True, scoring=make_scorer(compute_F2),\n             verbose=2)</pre></div></div></div><div class=\"sk-parallel\"><div class=\"sk-parallel-item\"><div class=\"sk-item\"><div class=\"sk-label-container\"><div class=\"sk-label sk-toggleable\"><input class=\"sk-toggleable__control sk-hidden--visually\" id=\"sk-estimator-id-2\" type=\"checkbox\" ><label for=\"sk-estimator-id-2\" class=\"sk-toggleable__label sk-toggleable__label-arrow\">estimator: Pipeline</label><div class=\"sk-toggleable__content\"><pre>Pipeline(steps=[(&#x27;imputer&#x27;, SimpleImputer(strategy=&#x27;median&#x27;)),\n                (&#x27;scaler&#x27;, StandardScaler()),\n                (&#x27;over&#x27;, SMOTE(random_state=42, sampling_strategy=0.1)),\n                (&#x27;under&#x27;,\n                 RandomUnderSampler(random_state=42, sampling_strategy=0.5)),\n                (&#x27;estimator&#x27;, RandomForestClassifier(class_weight=&#x27;balanced&#x27;))])</pre></div></div></div><div class=\"sk-serial\"><div class=\"sk-item\"><div class=\"sk-serial\"><div class=\"sk-item\"><div class=\"sk-estimator sk-toggleable\"><input class=\"sk-toggleable__control sk-hidden--visually\" id=\"sk-estimator-id-3\" type=\"checkbox\" ><label for=\"sk-estimator-id-3\" class=\"sk-toggleable__label sk-toggleable__label-arrow\">SimpleImputer</label><div class=\"sk-toggleable__content\"><pre>SimpleImputer(strategy=&#x27;median&#x27;)</pre></div></div></div><div class=\"sk-item\"><div class=\"sk-estimator sk-toggleable\"><input class=\"sk-toggleable__control sk-hidden--visually\" id=\"sk-estimator-id-4\" type=\"checkbox\" ><label for=\"sk-estimator-id-4\" class=\"sk-toggleable__label sk-toggleable__label-arrow\">StandardScaler</label><div class=\"sk-toggleable__content\"><pre>StandardScaler()</pre></div></div></div><div class=\"sk-item\"><div class=\"sk-estimator sk-toggleable\"><input class=\"sk-toggleable__control sk-hidden--visually\" id=\"sk-estimator-id-5\" type=\"checkbox\" ><label for=\"sk-estimator-id-5\" class=\"sk-toggleable__label sk-toggleable__label-arrow\">SMOTE</label><div class=\"sk-toggleable__content\"><pre>SMOTE(random_state=42, sampling_strategy=0.1)</pre></div></div></div><div class=\"sk-item\"><div class=\"sk-estimator sk-toggleable\"><input class=\"sk-toggleable__control sk-hidden--visually\" id=\"sk-estimator-id-6\" type=\"checkbox\" ><label for=\"sk-estimator-id-6\" class=\"sk-toggleable__label sk-toggleable__label-arrow\">RandomUnderSampler</label><div class=\"sk-toggleable__content\"><pre>RandomUnderSampler(random_state=42, sampling_strategy=0.5)</pre></div></div></div><div class=\"sk-item\"><div class=\"sk-estimator sk-toggleable\"><input class=\"sk-toggleable__control sk-hidden--visually\" id=\"sk-estimator-id-7\" type=\"checkbox\" ><label for=\"sk-estimator-id-7\" class=\"sk-toggleable__label sk-toggleable__label-arrow\">RandomForestClassifier</label><div class=\"sk-toggleable__content\"><pre>RandomForestClassifier(class_weight=&#x27;balanced&#x27;)</pre></div></div></div></div></div></div></div></div></div></div></div></div>"
     },
     "execution_count": 4,
     "metadata": {},
     "output_type": "execute_result"
    }
   ],
   "source": [
    "imputer = SimpleImputer(missing_values=np.nan, strategy='median')\n",
    "scaler = StandardScaler()\n",
    "over = SMOTE(sampling_strategy=0.1, random_state=RANDOM_STATE)\n",
    "under = RandomUnderSampler(sampling_strategy=0.5, random_state=RANDOM_STATE)\n",
    "estimator = RandomForestClassifier(class_weight='balanced')\n",
    "\n",
    "pipeline = Pipeline([\n",
    "    (\"imputer\", imputer),\n",
    "    (\"scaler\", scaler),\n",
    "    (\"over\", over),\n",
    "    (\"under\", under),\n",
    "    (\"estimator\", estimator)\n",
    "])\n",
    "\n",
    "params = {\n",
    "    'estimator__max_depth' : [20, 50, 100],\n",
    "    'estimator__min_samples_split' : [10, 200, 500],\n",
    "    'estimator__n_estimators' : [100, 500, 1000]\n",
    "}\n",
    "\n",
    "cv = StratifiedKFold(n_splits=5)\n",
    "\n",
    "model = GridSearchCV(\n",
    "    estimator=pipeline,\n",
    "    param_grid=params,\n",
    "    cv=cv,\n",
    "    scoring=F2_score,\n",
    "    return_train_score=True,\n",
    "    verbose=2,\n",
    "    n_jobs=-1\n",
    ")\n",
    "\n",
    "model.fit(X_train, y_train)\n",
    "\n",
    "model"
   ],
   "metadata": {
    "collapsed": false,
    "ExecuteTime": {
     "start_time": "2023-06-05T21:48:40.723805Z",
     "end_time": "2023-06-05T22:24:33.612338Z"
    }
   }
  },
  {
   "cell_type": "markdown",
   "source": [
    "35 minutes pour tester ca :\n",
    "params = {\n",
    "    'estimator__max_depth' : [20, 50, 100],\n",
    "    'estimator__min_samples_split' : [10, 200, 500],\n",
    "    'estimator__n_estimators' : [100, 500, 1000]\n",
    "}"
   ],
   "metadata": {
    "collapsed": false
   }
  },
  {
   "cell_type": "code",
   "execution_count": 5,
   "outputs": [
    {
     "name": "stdout",
     "output_type": "stream",
     "text": [
      "Best params :  {'estimator__max_depth': 50, 'estimator__min_samples_split': 200, 'estimator__n_estimators': 1000}\n",
      "Best F2 score :  0.4107453701534219\n"
     ]
    }
   ],
   "source": [
    "print(\"Best params : \",  model.best_params_)\n",
    "print(\"Best F2 score : \",  model.best_score_)"
   ],
   "metadata": {
    "collapsed": false,
    "ExecuteTime": {
     "start_time": "2023-06-05T22:24:33.610488Z",
     "end_time": "2023-06-05T22:24:33.612523Z"
    }
   }
  },
  {
   "cell_type": "code",
   "execution_count": 6,
   "outputs": [
    {
     "name": "stdout",
     "output_type": "stream",
     "text": [
      "PREPARING MODEL\n",
      "X_train : (175724, 51) // X_test : (43932, 51)\n",
      "y_train : (175724,) // y_test : (43932,)\n",
      "TESTING MODEL\n",
      "TRAIN F2 score 0.46318698658302165\n",
      "TRAIN F2Custom score 0.5593731232965308\n",
      "TRAIN AUC 0.7399776221468224\n",
      "TRAIN Recall 0.7423557360717297\n",
      "TEST F2 score 0.40434716173886465\n",
      "TEST F2Custom score 0.4851832328742007\n",
      "TEST AUC 0.6890995355689201\n",
      "TEST Recall 0.6489883507050889\n"
     ]
    },
    {
     "data": {
      "text/plain": "<Figure size 1200x800 with 2 Axes>",
      "image/png": "[encoded data removed]"
     },
     "metadata": {},
     "output_type": "display_data"
    }
   ],
   "source": [
    "estimator = RandomForestClassifier(class_weight='balanced', max_depth=50, min_samples_split=200, n_estimators=1000)\n",
    "dict_res = test_model(df, estimator=estimator, confusion=True)"
   ],
   "metadata": {
    "collapsed": false,
    "ExecuteTime": {
     "start_time": "2023-06-05T22:42:56.794506Z",
     "end_time": "2023-06-05T22:44:58.510405Z"
    }
   }
  },
  {
   "cell_type": "code",
   "execution_count": null,
   "outputs": [],
   "source": [],
   "metadata": {
    "collapsed": false
   }
  }
 ],
 "metadata": {
  "kernelspec": {
   "display_name": "Python 3",
   "language": "python",
   "name": "python3"
  },
  "language_info": {
   "codemirror_mode": {
    "name": "ipython",
    "version": 2
   },
   "file_extension": ".py",
   "mimetype": "text/x-python",
   "name": "python",
   "nbconvert_exporter": "python",
   "pygments_lexer": "ipython2",
   "version": "2.7.6"
  }
 },
 "nbformat": 4,
 "nbformat_minor": 0
}
