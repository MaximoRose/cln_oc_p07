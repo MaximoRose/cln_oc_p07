{
 "cells": [
  {
   "cell_type": "code",
   "execution_count": 1,
   "metadata": {
    "collapsed": true,
    "ExecuteTime": {
     "start_time": "2023-05-04T10:32:23.677139Z",
     "end_time": "2023-05-04T10:32:23.912127Z"
    }
   },
   "outputs": [],
   "source": [
    "import pandas as pd\n",
    "import numpy as np"
   ]
  },
  {
   "cell_type": "code",
   "execution_count": 2,
   "outputs": [],
   "source": [
    "input_folder = './input_data/'"
   ],
   "metadata": {
    "collapsed": false,
    "ExecuteTime": {
     "start_time": "2023-05-04T10:32:23.897981Z",
     "end_time": "2023-05-04T10:32:23.912426Z"
    }
   }
  },
  {
   "cell_type": "markdown",
   "source": [
    "# 0.0 Etude des fichiers\n",
    "## Dataframes principaux (applications test & train)"
   ],
   "metadata": {
    "collapsed": false
   }
  },
  {
   "cell_type": "code",
   "execution_count": 3,
   "outputs": [],
   "source": [
    "app_tst = pd.read_csv(input_folder+'application_test.csv')\n",
    "app_train = pd.read_csv(input_folder+'application_train.csv')"
   ],
   "metadata": {
    "collapsed": false,
    "ExecuteTime": {
     "start_time": "2023-05-04T10:32:23.901052Z",
     "end_time": "2023-05-04T10:32:26.015188Z"
    }
   }
  },
  {
   "cell_type": "code",
   "execution_count": 4,
   "outputs": [
    {
     "data": {
      "text/plain": "   SK_ID_CURR NAME_CONTRACT_TYPE CODE_GENDER FLAG_OWN_CAR FLAG_OWN_REALTY  \\\n0      100001         Cash loans           F            N               Y   \n1      100005         Cash loans           M            N               Y   \n\n   CNT_CHILDREN  AMT_INCOME_TOTAL  AMT_CREDIT  AMT_ANNUITY  AMT_GOODS_PRICE  \\\n0             0          135000.0    568800.0      20560.5         450000.0   \n1             0           99000.0    222768.0      17370.0         180000.0   \n\n   ... FLAG_DOCUMENT_18 FLAG_DOCUMENT_19 FLAG_DOCUMENT_20 FLAG_DOCUMENT_21  \\\n0  ...                0                0                0                0   \n1  ...                0                0                0                0   \n\n  AMT_REQ_CREDIT_BUREAU_HOUR  AMT_REQ_CREDIT_BUREAU_DAY  \\\n0                        0.0                        0.0   \n1                        0.0                        0.0   \n\n   AMT_REQ_CREDIT_BUREAU_WEEK  AMT_REQ_CREDIT_BUREAU_MON  \\\n0                         0.0                        0.0   \n1                         0.0                        0.0   \n\n   AMT_REQ_CREDIT_BUREAU_QRT  AMT_REQ_CREDIT_BUREAU_YEAR  \n0                        0.0                         0.0  \n1                        0.0                         3.0  \n\n[2 rows x 121 columns]",
      "text/html": "<div>\n<style scoped>\n    .dataframe tbody tr th:only-of-type {\n        vertical-align: middle;\n    }\n\n    .dataframe tbody tr th {\n        vertical-align: top;\n    }\n\n    .dataframe thead th {\n        text-align: right;\n    }\n</style>\n<table border=\"1\" class=\"dataframe\">\n  <thead>\n    <tr style=\"text-align: right;\">\n      <th></th>\n      <th>SK_ID_CURR</th>\n      <th>NAME_CONTRACT_TYPE</th>\n      <th>CODE_GENDER</th>\n      <th>FLAG_OWN_CAR</th>\n      <th>FLAG_OWN_REALTY</th>\n      <th>CNT_CHILDREN</th>\n      <th>AMT_INCOME_TOTAL</th>\n      <th>AMT_CREDIT</th>\n      <th>AMT_ANNUITY</th>\n      <th>AMT_GOODS_PRICE</th>\n      <th>...</th>\n      <th>FLAG_DOCUMENT_18</th>\n      <th>FLAG_DOCUMENT_19</th>\n      <th>FLAG_DOCUMENT_20</th>\n      <th>FLAG_DOCUMENT_21</th>\n      <th>AMT_REQ_CREDIT_BUREAU_HOUR</th>\n      <th>AMT_REQ_CREDIT_BUREAU_DAY</th>\n      <th>AMT_REQ_CREDIT_BUREAU_WEEK</th>\n      <th>AMT_REQ_CREDIT_BUREAU_MON</th>\n      <th>AMT_REQ_CREDIT_BUREAU_QRT</th>\n      <th>AMT_REQ_CREDIT_BUREAU_YEAR</th>\n    </tr>\n  </thead>\n  <tbody>\n    <tr>\n      <th>0</th>\n      <td>100001</td>\n      <td>Cash loans</td>\n      <td>F</td>\n      <td>N</td>\n      <td>Y</td>\n      <td>0</td>\n      <td>135000.0</td>\n      <td>568800.0</td>\n      <td>20560.5</td>\n      <td>450000.0</td>\n      <td>...</td>\n      <td>0</td>\n      <td>0</td>\n      <td>0</td>\n      <td>0</td>\n      <td>0.0</td>\n      <td>0.0</td>\n      <td>0.0</td>\n      <td>0.0</td>\n      <td>0.0</td>\n      <td>0.0</td>\n    </tr>\n    <tr>\n      <th>1</th>\n      <td>100005</td>\n      <td>Cash loans</td>\n      <td>M</td>\n      <td>N</td>\n      <td>Y</td>\n      <td>0</td>\n      <td>99000.0</td>\n      <td>222768.0</td>\n      <td>17370.0</td>\n      <td>180000.0</td>\n      <td>...</td>\n      <td>0</td>\n      <td>0</td>\n      <td>0</td>\n      <td>0</td>\n      <td>0.0</td>\n      <td>0.0</td>\n      <td>0.0</td>\n      <td>0.0</td>\n      <td>0.0</td>\n      <td>3.0</td>\n    </tr>\n  </tbody>\n</table>\n<p>2 rows × 121 columns</p>\n</div>"
     },
     "execution_count": 4,
     "metadata": {},
     "output_type": "execute_result"
    }
   ],
   "source": [
    "app_tst.head(2)"
   ],
   "metadata": {
    "collapsed": false,
    "ExecuteTime": {
     "start_time": "2023-05-04T10:32:26.022532Z",
     "end_time": "2023-05-04T10:32:26.028042Z"
    }
   }
  },
  {
   "cell_type": "code",
   "execution_count": 5,
   "outputs": [
    {
     "name": "stdout",
     "output_type": "stream",
     "text": [
      "Forme du tableau de test :  (48744, 121)\n",
      "Forme du tableau de train :  (307511, 122)\n",
      "Nombre d'observation de test par rapport au nombre d'observation de train : 15.85%\n"
     ]
    }
   ],
   "source": [
    "print(\"Forme du tableau de test : \", app_tst.shape)\n",
    "print(\"Forme du tableau de train : \", app_train.shape)\n",
    "print(\"Nombre d'observation de test par rapport au nombre d'observation de train : \"+str(np.round((app_tst.shape[0]/app_train.shape[0])*100, 2)) + \"%\")"
   ],
   "metadata": {
    "collapsed": false,
    "ExecuteTime": {
     "start_time": "2023-05-04T10:32:26.030993Z",
     "end_time": "2023-05-04T10:32:26.033187Z"
    }
   }
  },
  {
   "cell_type": "code",
   "execution_count": 6,
   "outputs": [
    {
     "name": "stdout",
     "output_type": "stream",
     "text": [
      "Colonnes de train non presente dans test :  ['TARGET']\n"
     ]
    }
   ],
   "source": [
    "diff_cols = [col for col in app_train.columns.to_list() if col not in app_tst.columns.to_list()]\n",
    "print(\"Colonnes de train non presente dans test : \", diff_cols)"
   ],
   "metadata": {
    "collapsed": false,
    "ExecuteTime": {
     "start_time": "2023-05-04T10:32:26.033433Z",
     "end_time": "2023-05-04T10:32:26.057711Z"
    }
   }
  },
  {
   "cell_type": "code",
   "execution_count": 7,
   "outputs": [
    {
     "data": {
      "text/plain": "AMT_ANNUITY                       12\nAMT_GOODS_PRICE                  278\nNAME_TYPE_SUITE                 1292\nOWN_CAR_AGE                   202929\nOCCUPATION_TYPE                96391\n                               ...  \nAMT_REQ_CREDIT_BUREAU_DAY      41519\nAMT_REQ_CREDIT_BUREAU_WEEK     41519\nAMT_REQ_CREDIT_BUREAU_MON      41519\nAMT_REQ_CREDIT_BUREAU_QRT      41519\nAMT_REQ_CREDIT_BUREAU_YEAR     41519\nLength: 67, dtype: int64"
     },
     "execution_count": 7,
     "metadata": {},
     "output_type": "execute_result"
    }
   ],
   "source": [
    "app_train.isna().sum()[app_train.isna().sum() != 0]"
   ],
   "metadata": {
    "collapsed": false,
    "ExecuteTime": {
     "start_time": "2023-05-04T10:32:26.039214Z",
     "end_time": "2023-05-04T10:32:26.802102Z"
    }
   }
  },
  {
   "cell_type": "markdown",
   "source": [
    "Le Dataframe de test n'a pas de colonne dediee a la Target. Ce sera donc un vrai dataset de test, et nous entrainerons nos modeles sur le dataset de train."
   ],
   "metadata": {
    "collapsed": false
   }
  },
  {
   "cell_type": "code",
   "execution_count": 8,
   "outputs": [
    {
     "data": {
      "text/plain": "0    282686\n1     24825\nName: TARGET, dtype: int64"
     },
     "execution_count": 8,
     "metadata": {},
     "output_type": "execute_result"
    }
   ],
   "source": [
    "app_train['TARGET'].value_counts()"
   ],
   "metadata": {
    "collapsed": false,
    "ExecuteTime": {
     "start_time": "2023-05-04T10:32:26.815825Z",
     "end_time": "2023-05-04T10:32:26.819422Z"
    }
   }
  },
  {
   "cell_type": "code",
   "execution_count": 9,
   "outputs": [
    {
     "data": {
      "text/plain": "0    0.919271\n1    0.080729\nName: TARGET, dtype: float64"
     },
     "execution_count": 9,
     "metadata": {},
     "output_type": "execute_result"
    }
   ],
   "source": [
    "app_train['TARGET'].value_counts(normalize=True)"
   ],
   "metadata": {
    "collapsed": false,
    "ExecuteTime": {
     "start_time": "2023-05-04T10:32:26.824547Z",
     "end_time": "2023-05-04T10:32:26.829304Z"
    }
   }
  },
  {
   "cell_type": "markdown",
   "source": [
    "Nos reponses ne sont effectivement pas equilibrees. 1 represente seulement 8% du dataset d'entrainement."
   ],
   "metadata": {
    "collapsed": false
   }
  },
  {
   "cell_type": "markdown",
   "source": [
    "## Autres"
   ],
   "metadata": {
    "collapsed": false
   }
  },
  {
   "cell_type": "code",
   "execution_count": 10,
   "outputs": [
    {
     "data": {
      "text/plain": "   SK_ID_CURR  SK_ID_BUREAU CREDIT_ACTIVE CREDIT_CURRENCY  DAYS_CREDIT  \\\n0      215354       5714462        Closed      currency 1         -497   \n1      215354       5714463        Active      currency 1         -208   \n\n   CREDIT_DAY_OVERDUE  DAYS_CREDIT_ENDDATE  DAYS_ENDDATE_FACT  \\\n0                   0               -153.0             -153.0   \n1                   0               1075.0                NaN   \n\n   AMT_CREDIT_MAX_OVERDUE  CNT_CREDIT_PROLONG  AMT_CREDIT_SUM  \\\n0                     NaN                   0         91323.0   \n1                     NaN                   0        225000.0   \n\n   AMT_CREDIT_SUM_DEBT  AMT_CREDIT_SUM_LIMIT  AMT_CREDIT_SUM_OVERDUE  \\\n0                  0.0                   NaN                     0.0   \n1             171342.0                   NaN                     0.0   \n\n       CREDIT_TYPE  DAYS_CREDIT_UPDATE  AMT_ANNUITY  \n0  Consumer credit                -131          NaN  \n1      Credit card                 -20          NaN  ",
      "text/html": "<div>\n<style scoped>\n    .dataframe tbody tr th:only-of-type {\n        vertical-align: middle;\n    }\n\n    .dataframe tbody tr th {\n        vertical-align: top;\n    }\n\n    .dataframe thead th {\n        text-align: right;\n    }\n</style>\n<table border=\"1\" class=\"dataframe\">\n  <thead>\n    <tr style=\"text-align: right;\">\n      <th></th>\n      <th>SK_ID_CURR</th>\n      <th>SK_ID_BUREAU</th>\n      <th>CREDIT_ACTIVE</th>\n      <th>CREDIT_CURRENCY</th>\n      <th>DAYS_CREDIT</th>\n      <th>CREDIT_DAY_OVERDUE</th>\n      <th>DAYS_CREDIT_ENDDATE</th>\n      <th>DAYS_ENDDATE_FACT</th>\n      <th>AMT_CREDIT_MAX_OVERDUE</th>\n      <th>CNT_CREDIT_PROLONG</th>\n      <th>AMT_CREDIT_SUM</th>\n      <th>AMT_CREDIT_SUM_DEBT</th>\n      <th>AMT_CREDIT_SUM_LIMIT</th>\n      <th>AMT_CREDIT_SUM_OVERDUE</th>\n      <th>CREDIT_TYPE</th>\n      <th>DAYS_CREDIT_UPDATE</th>\n      <th>AMT_ANNUITY</th>\n    </tr>\n  </thead>\n  <tbody>\n    <tr>\n      <th>0</th>\n      <td>215354</td>\n      <td>5714462</td>\n      <td>Closed</td>\n      <td>currency 1</td>\n      <td>-497</td>\n      <td>0</td>\n      <td>-153.0</td>\n      <td>-153.0</td>\n      <td>NaN</td>\n      <td>0</td>\n      <td>91323.0</td>\n      <td>0.0</td>\n      <td>NaN</td>\n      <td>0.0</td>\n      <td>Consumer credit</td>\n      <td>-131</td>\n      <td>NaN</td>\n    </tr>\n    <tr>\n      <th>1</th>\n      <td>215354</td>\n      <td>5714463</td>\n      <td>Active</td>\n      <td>currency 1</td>\n      <td>-208</td>\n      <td>0</td>\n      <td>1075.0</td>\n      <td>NaN</td>\n      <td>NaN</td>\n      <td>0</td>\n      <td>225000.0</td>\n      <td>171342.0</td>\n      <td>NaN</td>\n      <td>0.0</td>\n      <td>Credit card</td>\n      <td>-20</td>\n      <td>NaN</td>\n    </tr>\n  </tbody>\n</table>\n</div>"
     },
     "execution_count": 10,
     "metadata": {},
     "output_type": "execute_result"
    }
   ],
   "source": [
    "df_bureaux = pd.read_csv(input_folder+'bureau.csv')\n",
    "df_bureaux.head(2)"
   ],
   "metadata": {
    "collapsed": false,
    "ExecuteTime": {
     "start_time": "2023-05-04T10:32:26.828680Z",
     "end_time": "2023-05-04T10:32:28.325931Z"
    }
   }
  },
  {
   "cell_type": "code",
   "execution_count": 11,
   "outputs": [
    {
     "name": "stdout",
     "output_type": "stream",
     "text": [
      "Forme df Bureaux :  (1716428, 17)\n"
     ]
    }
   ],
   "source": [
    "print(\"Forme df Bureaux : \", df_bureaux.shape)"
   ],
   "metadata": {
    "collapsed": false,
    "ExecuteTime": {
     "start_time": "2023-05-04T10:32:28.327024Z",
     "end_time": "2023-05-04T10:32:28.328925Z"
    }
   }
  },
  {
   "cell_type": "code",
   "execution_count": 12,
   "outputs": [
    {
     "data": {
      "text/plain": "   SK_ID_BUREAU  MONTHS_BALANCE STATUS\n0       5715448               0      C\n1       5715448              -1      C",
      "text/html": "<div>\n<style scoped>\n    .dataframe tbody tr th:only-of-type {\n        vertical-align: middle;\n    }\n\n    .dataframe tbody tr th {\n        vertical-align: top;\n    }\n\n    .dataframe thead th {\n        text-align: right;\n    }\n</style>\n<table border=\"1\" class=\"dataframe\">\n  <thead>\n    <tr style=\"text-align: right;\">\n      <th></th>\n      <th>SK_ID_BUREAU</th>\n      <th>MONTHS_BALANCE</th>\n      <th>STATUS</th>\n    </tr>\n  </thead>\n  <tbody>\n    <tr>\n      <th>0</th>\n      <td>5715448</td>\n      <td>0</td>\n      <td>C</td>\n    </tr>\n    <tr>\n      <th>1</th>\n      <td>5715448</td>\n      <td>-1</td>\n      <td>C</td>\n    </tr>\n  </tbody>\n</table>\n</div>"
     },
     "execution_count": 12,
     "metadata": {},
     "output_type": "execute_result"
    }
   ],
   "source": [
    "df_bureaux_balance = pd.read_csv(input_folder+'bureau_balance.csv')\n",
    "df_bureaux_balance.head(2)"
   ],
   "metadata": {
    "collapsed": false,
    "ExecuteTime": {
     "start_time": "2023-05-04T10:32:28.329729Z",
     "end_time": "2023-05-04T10:32:31.522316Z"
    }
   }
  },
  {
   "cell_type": "code",
   "execution_count": 13,
   "outputs": [
    {
     "name": "stdout",
     "output_type": "stream",
     "text": [
      "Forme df Bureaux Balance :  (27299925, 3)\n"
     ]
    }
   ],
   "source": [
    "print(\"Forme df Bureaux Balance : \", df_bureaux_balance.shape)"
   ],
   "metadata": {
    "collapsed": false,
    "ExecuteTime": {
     "start_time": "2023-05-04T10:32:31.523690Z",
     "end_time": "2023-05-04T10:32:31.525397Z"
    }
   }
  },
  {
   "cell_type": "code",
   "execution_count": 14,
   "outputs": [
    {
     "data": {
      "text/plain": "   SK_ID_PREV  SK_ID_CURR  MONTHS_BALANCE  AMT_BALANCE  \\\n0     2562384      378907              -6       56.970   \n1     2582071      363914              -1    63975.555   \n\n   AMT_CREDIT_LIMIT_ACTUAL  AMT_DRAWINGS_ATM_CURRENT  AMT_DRAWINGS_CURRENT  \\\n0                   135000                       0.0                 877.5   \n1                    45000                    2250.0                2250.0   \n\n   AMT_DRAWINGS_OTHER_CURRENT  AMT_DRAWINGS_POS_CURRENT  \\\n0                         0.0                     877.5   \n1                         0.0                       0.0   \n\n   AMT_INST_MIN_REGULARITY  ...  AMT_RECIVABLE  AMT_TOTAL_RECEIVABLE  \\\n0                 1700.325  ...          0.000                 0.000   \n1                 2250.000  ...      64875.555             64875.555   \n\n   CNT_DRAWINGS_ATM_CURRENT  CNT_DRAWINGS_CURRENT  CNT_DRAWINGS_OTHER_CURRENT  \\\n0                       0.0                     1                         0.0   \n1                       1.0                     1                         0.0   \n\n   CNT_DRAWINGS_POS_CURRENT  CNT_INSTALMENT_MATURE_CUM  NAME_CONTRACT_STATUS  \\\n0                       1.0                       35.0                Active   \n1                       0.0                       69.0                Active   \n\n   SK_DPD  SK_DPD_DEF  \n0       0           0  \n1       0           0  \n\n[2 rows x 23 columns]",
      "text/html": "<div>\n<style scoped>\n    .dataframe tbody tr th:only-of-type {\n        vertical-align: middle;\n    }\n\n    .dataframe tbody tr th {\n        vertical-align: top;\n    }\n\n    .dataframe thead th {\n        text-align: right;\n    }\n</style>\n<table border=\"1\" class=\"dataframe\">\n  <thead>\n    <tr style=\"text-align: right;\">\n      <th></th>\n      <th>SK_ID_PREV</th>\n      <th>SK_ID_CURR</th>\n      <th>MONTHS_BALANCE</th>\n      <th>AMT_BALANCE</th>\n      <th>AMT_CREDIT_LIMIT_ACTUAL</th>\n      <th>AMT_DRAWINGS_ATM_CURRENT</th>\n      <th>AMT_DRAWINGS_CURRENT</th>\n      <th>AMT_DRAWINGS_OTHER_CURRENT</th>\n      <th>AMT_DRAWINGS_POS_CURRENT</th>\n      <th>AMT_INST_MIN_REGULARITY</th>\n      <th>...</th>\n      <th>AMT_RECIVABLE</th>\n      <th>AMT_TOTAL_RECEIVABLE</th>\n      <th>CNT_DRAWINGS_ATM_CURRENT</th>\n      <th>CNT_DRAWINGS_CURRENT</th>\n      <th>CNT_DRAWINGS_OTHER_CURRENT</th>\n      <th>CNT_DRAWINGS_POS_CURRENT</th>\n      <th>CNT_INSTALMENT_MATURE_CUM</th>\n      <th>NAME_CONTRACT_STATUS</th>\n      <th>SK_DPD</th>\n      <th>SK_DPD_DEF</th>\n    </tr>\n  </thead>\n  <tbody>\n    <tr>\n      <th>0</th>\n      <td>2562384</td>\n      <td>378907</td>\n      <td>-6</td>\n      <td>56.970</td>\n      <td>135000</td>\n      <td>0.0</td>\n      <td>877.5</td>\n      <td>0.0</td>\n      <td>877.5</td>\n      <td>1700.325</td>\n      <td>...</td>\n      <td>0.000</td>\n      <td>0.000</td>\n      <td>0.0</td>\n      <td>1</td>\n      <td>0.0</td>\n      <td>1.0</td>\n      <td>35.0</td>\n      <td>Active</td>\n      <td>0</td>\n      <td>0</td>\n    </tr>\n    <tr>\n      <th>1</th>\n      <td>2582071</td>\n      <td>363914</td>\n      <td>-1</td>\n      <td>63975.555</td>\n      <td>45000</td>\n      <td>2250.0</td>\n      <td>2250.0</td>\n      <td>0.0</td>\n      <td>0.0</td>\n      <td>2250.000</td>\n      <td>...</td>\n      <td>64875.555</td>\n      <td>64875.555</td>\n      <td>1.0</td>\n      <td>1</td>\n      <td>0.0</td>\n      <td>0.0</td>\n      <td>69.0</td>\n      <td>Active</td>\n      <td>0</td>\n      <td>0</td>\n    </tr>\n  </tbody>\n</table>\n<p>2 rows × 23 columns</p>\n</div>"
     },
     "execution_count": 14,
     "metadata": {},
     "output_type": "execute_result"
    }
   ],
   "source": [
    "df_creditcard_balance = pd.read_csv(input_folder+'credit_card_balance.csv')\n",
    "df_creditcard_balance.head(2)"
   ],
   "metadata": {
    "collapsed": false,
    "ExecuteTime": {
     "start_time": "2023-05-04T10:32:31.528183Z",
     "end_time": "2023-05-04T10:32:36.114019Z"
    }
   }
  },
  {
   "cell_type": "code",
   "execution_count": 15,
   "outputs": [
    {
     "name": "stdout",
     "output_type": "stream",
     "text": [
      "Forme df Credit Card Balance :  (3840312, 23)\n"
     ]
    }
   ],
   "source": [
    "print(\"Forme df Credit Card Balance : \", df_creditcard_balance.shape)"
   ],
   "metadata": {
    "collapsed": false,
    "ExecuteTime": {
     "start_time": "2023-05-04T10:32:36.114002Z",
     "end_time": "2023-05-04T10:32:36.117720Z"
    }
   }
  },
  {
   "cell_type": "code",
   "execution_count": 16,
   "outputs": [
    {
     "data": {
      "text/plain": "   SK_ID_PREV  SK_ID_CURR  NUM_INSTALMENT_VERSION  NUM_INSTALMENT_NUMBER  \\\n0     1054186      161674                     1.0                      6   \n1     1330831      151639                     0.0                     34   \n\n   DAYS_INSTALMENT  DAYS_ENTRY_PAYMENT  AMT_INSTALMENT  AMT_PAYMENT  \n0          -1180.0             -1187.0        6948.360     6948.360  \n1          -2156.0             -2156.0        1716.525     1716.525  ",
      "text/html": "<div>\n<style scoped>\n    .dataframe tbody tr th:only-of-type {\n        vertical-align: middle;\n    }\n\n    .dataframe tbody tr th {\n        vertical-align: top;\n    }\n\n    .dataframe thead th {\n        text-align: right;\n    }\n</style>\n<table border=\"1\" class=\"dataframe\">\n  <thead>\n    <tr style=\"text-align: right;\">\n      <th></th>\n      <th>SK_ID_PREV</th>\n      <th>SK_ID_CURR</th>\n      <th>NUM_INSTALMENT_VERSION</th>\n      <th>NUM_INSTALMENT_NUMBER</th>\n      <th>DAYS_INSTALMENT</th>\n      <th>DAYS_ENTRY_PAYMENT</th>\n      <th>AMT_INSTALMENT</th>\n      <th>AMT_PAYMENT</th>\n    </tr>\n  </thead>\n  <tbody>\n    <tr>\n      <th>0</th>\n      <td>1054186</td>\n      <td>161674</td>\n      <td>1.0</td>\n      <td>6</td>\n      <td>-1180.0</td>\n      <td>-1187.0</td>\n      <td>6948.360</td>\n      <td>6948.360</td>\n    </tr>\n    <tr>\n      <th>1</th>\n      <td>1330831</td>\n      <td>151639</td>\n      <td>0.0</td>\n      <td>34</td>\n      <td>-2156.0</td>\n      <td>-2156.0</td>\n      <td>1716.525</td>\n      <td>1716.525</td>\n    </tr>\n  </tbody>\n</table>\n</div>"
     },
     "execution_count": 16,
     "metadata": {},
     "output_type": "execute_result"
    }
   ],
   "source": [
    "df_installment_payments = pd.read_csv(input_folder+'installments_payments.csv')\n",
    "df_installment_payments.head(2)"
   ],
   "metadata": {
    "collapsed": false,
    "ExecuteTime": {
     "start_time": "2023-05-04T10:32:36.118604Z",
     "end_time": "2023-05-04T10:32:43.399555Z"
    }
   }
  },
  {
   "cell_type": "code",
   "execution_count": 17,
   "outputs": [
    {
     "name": "stdout",
     "output_type": "stream",
     "text": [
      "Forme df Installments Payments :  (13605401, 8)\n"
     ]
    }
   ],
   "source": [
    "print(\"Forme df Installments Payments : \", df_installment_payments.shape)"
   ],
   "metadata": {
    "collapsed": false,
    "ExecuteTime": {
     "start_time": "2023-05-04T10:32:43.399733Z",
     "end_time": "2023-05-04T10:32:43.402605Z"
    }
   }
  },
  {
   "cell_type": "code",
   "execution_count": 18,
   "outputs": [
    {
     "data": {
      "text/plain": "   SK_ID_PREV  SK_ID_CURR  MONTHS_BALANCE  CNT_INSTALMENT  \\\n0     1803195      182943             -31            48.0   \n1     1715348      367990             -33            36.0   \n\n   CNT_INSTALMENT_FUTURE NAME_CONTRACT_STATUS  SK_DPD  SK_DPD_DEF  \n0                   45.0               Active       0           0  \n1                   35.0               Active       0           0  ",
      "text/html": "<div>\n<style scoped>\n    .dataframe tbody tr th:only-of-type {\n        vertical-align: middle;\n    }\n\n    .dataframe tbody tr th {\n        vertical-align: top;\n    }\n\n    .dataframe thead th {\n        text-align: right;\n    }\n</style>\n<table border=\"1\" class=\"dataframe\">\n  <thead>\n    <tr style=\"text-align: right;\">\n      <th></th>\n      <th>SK_ID_PREV</th>\n      <th>SK_ID_CURR</th>\n      <th>MONTHS_BALANCE</th>\n      <th>CNT_INSTALMENT</th>\n      <th>CNT_INSTALMENT_FUTURE</th>\n      <th>NAME_CONTRACT_STATUS</th>\n      <th>SK_DPD</th>\n      <th>SK_DPD_DEF</th>\n    </tr>\n  </thead>\n  <tbody>\n    <tr>\n      <th>0</th>\n      <td>1803195</td>\n      <td>182943</td>\n      <td>-31</td>\n      <td>48.0</td>\n      <td>45.0</td>\n      <td>Active</td>\n      <td>0</td>\n      <td>0</td>\n    </tr>\n    <tr>\n      <th>1</th>\n      <td>1715348</td>\n      <td>367990</td>\n      <td>-33</td>\n      <td>36.0</td>\n      <td>35.0</td>\n      <td>Active</td>\n      <td>0</td>\n      <td>0</td>\n    </tr>\n  </tbody>\n</table>\n</div>"
     },
     "execution_count": 18,
     "metadata": {},
     "output_type": "execute_result"
    }
   ],
   "source": [
    "df_pos_cash_apps = pd.read_csv(input_folder+'POS_CASH_balance.csv')\n",
    "df_pos_cash_apps.head(2)"
   ],
   "metadata": {
    "collapsed": false,
    "ExecuteTime": {
     "start_time": "2023-05-04T10:32:43.404187Z",
     "end_time": "2023-05-04T10:32:46.989378Z"
    }
   }
  },
  {
   "cell_type": "code",
   "execution_count": 19,
   "outputs": [
    {
     "name": "stdout",
     "output_type": "stream",
     "text": [
      "Forme df POS CASH Balance :  (10001358, 8)\n"
     ]
    }
   ],
   "source": [
    "print(\"Forme df POS CASH Balance : \", df_pos_cash_apps.shape)"
   ],
   "metadata": {
    "collapsed": false,
    "ExecuteTime": {
     "start_time": "2023-05-04T10:32:46.991598Z",
     "end_time": "2023-05-04T10:32:46.994268Z"
    }
   }
  },
  {
   "cell_type": "code",
   "execution_count": 20,
   "outputs": [
    {
     "data": {
      "text/plain": "   SK_ID_PREV  SK_ID_CURR NAME_CONTRACT_TYPE  AMT_ANNUITY  AMT_APPLICATION  \\\n0     2030495      271877     Consumer loans     1730.430          17145.0   \n1     2802425      108129         Cash loans    25188.615         607500.0   \n\n   AMT_CREDIT  AMT_DOWN_PAYMENT  AMT_GOODS_PRICE WEEKDAY_APPR_PROCESS_START  \\\n0     17145.0               0.0          17145.0                   SATURDAY   \n1    679671.0               NaN         607500.0                   THURSDAY   \n\n   HOUR_APPR_PROCESS_START  ... NAME_SELLER_INDUSTRY  CNT_PAYMENT  \\\n0                       15  ...         Connectivity         12.0   \n1                       11  ...                  XNA         36.0   \n\n   NAME_YIELD_GROUP       PRODUCT_COMBINATION  DAYS_FIRST_DRAWING  \\\n0            middle  POS mobile with interest            365243.0   \n1        low_action          Cash X-Sell: low            365243.0   \n\n  DAYS_FIRST_DUE DAYS_LAST_DUE_1ST_VERSION  DAYS_LAST_DUE DAYS_TERMINATION  \\\n0          -42.0                     300.0          -42.0            -37.0   \n1         -134.0                     916.0       365243.0         365243.0   \n\n  NFLAG_INSURED_ON_APPROVAL  \n0                       0.0  \n1                       1.0  \n\n[2 rows x 37 columns]",
      "text/html": "<div>\n<style scoped>\n    .dataframe tbody tr th:only-of-type {\n        vertical-align: middle;\n    }\n\n    .dataframe tbody tr th {\n        vertical-align: top;\n    }\n\n    .dataframe thead th {\n        text-align: right;\n    }\n</style>\n<table border=\"1\" class=\"dataframe\">\n  <thead>\n    <tr style=\"text-align: right;\">\n      <th></th>\n      <th>SK_ID_PREV</th>\n      <th>SK_ID_CURR</th>\n      <th>NAME_CONTRACT_TYPE</th>\n      <th>AMT_ANNUITY</th>\n      <th>AMT_APPLICATION</th>\n      <th>AMT_CREDIT</th>\n      <th>AMT_DOWN_PAYMENT</th>\n      <th>AMT_GOODS_PRICE</th>\n      <th>WEEKDAY_APPR_PROCESS_START</th>\n      <th>HOUR_APPR_PROCESS_START</th>\n      <th>...</th>\n      <th>NAME_SELLER_INDUSTRY</th>\n      <th>CNT_PAYMENT</th>\n      <th>NAME_YIELD_GROUP</th>\n      <th>PRODUCT_COMBINATION</th>\n      <th>DAYS_FIRST_DRAWING</th>\n      <th>DAYS_FIRST_DUE</th>\n      <th>DAYS_LAST_DUE_1ST_VERSION</th>\n      <th>DAYS_LAST_DUE</th>\n      <th>DAYS_TERMINATION</th>\n      <th>NFLAG_INSURED_ON_APPROVAL</th>\n    </tr>\n  </thead>\n  <tbody>\n    <tr>\n      <th>0</th>\n      <td>2030495</td>\n      <td>271877</td>\n      <td>Consumer loans</td>\n      <td>1730.430</td>\n      <td>17145.0</td>\n      <td>17145.0</td>\n      <td>0.0</td>\n      <td>17145.0</td>\n      <td>SATURDAY</td>\n      <td>15</td>\n      <td>...</td>\n      <td>Connectivity</td>\n      <td>12.0</td>\n      <td>middle</td>\n      <td>POS mobile with interest</td>\n      <td>365243.0</td>\n      <td>-42.0</td>\n      <td>300.0</td>\n      <td>-42.0</td>\n      <td>-37.0</td>\n      <td>0.0</td>\n    </tr>\n    <tr>\n      <th>1</th>\n      <td>2802425</td>\n      <td>108129</td>\n      <td>Cash loans</td>\n      <td>25188.615</td>\n      <td>607500.0</td>\n      <td>679671.0</td>\n      <td>NaN</td>\n      <td>607500.0</td>\n      <td>THURSDAY</td>\n      <td>11</td>\n      <td>...</td>\n      <td>XNA</td>\n      <td>36.0</td>\n      <td>low_action</td>\n      <td>Cash X-Sell: low</td>\n      <td>365243.0</td>\n      <td>-134.0</td>\n      <td>916.0</td>\n      <td>365243.0</td>\n      <td>365243.0</td>\n      <td>1.0</td>\n    </tr>\n  </tbody>\n</table>\n<p>2 rows × 37 columns</p>\n</div>"
     },
     "execution_count": 20,
     "metadata": {},
     "output_type": "execute_result"
    }
   ],
   "source": [
    "df_previous_apps = pd.read_csv(input_folder+'previous_application.csv')\n",
    "df_previous_apps.head(2)"
   ],
   "metadata": {
    "collapsed": false,
    "ExecuteTime": {
     "start_time": "2023-05-04T10:32:46.994190Z",
     "end_time": "2023-05-04T10:32:51.730883Z"
    }
   }
  },
  {
   "cell_type": "code",
   "execution_count": 21,
   "outputs": [
    {
     "name": "stdout",
     "output_type": "stream",
     "text": [
      "Forme df Previous Applications :  (1670214, 37)\n"
     ]
    }
   ],
   "source": [
    "print(\"Forme df Previous Applications : \", df_previous_apps.shape)"
   ],
   "metadata": {
    "collapsed": false,
    "ExecuteTime": {
     "start_time": "2023-05-04T10:32:51.732166Z",
     "end_time": "2023-05-04T10:32:51.734936Z"
    }
   }
  },
  {
   "cell_type": "markdown",
   "source": [
    "N.B : On a un rejection code"
   ],
   "metadata": {
    "collapsed": false
   }
  },
  {
   "cell_type": "code",
   "execution_count": 22,
   "outputs": [
    {
     "data": {
      "text/plain": "   SK_ID_CURR  TARGET\n0      100001     0.5\n1      100005     0.5",
      "text/html": "<div>\n<style scoped>\n    .dataframe tbody tr th:only-of-type {\n        vertical-align: middle;\n    }\n\n    .dataframe tbody tr th {\n        vertical-align: top;\n    }\n\n    .dataframe thead th {\n        text-align: right;\n    }\n</style>\n<table border=\"1\" class=\"dataframe\">\n  <thead>\n    <tr style=\"text-align: right;\">\n      <th></th>\n      <th>SK_ID_CURR</th>\n      <th>TARGET</th>\n    </tr>\n  </thead>\n  <tbody>\n    <tr>\n      <th>0</th>\n      <td>100001</td>\n      <td>0.5</td>\n    </tr>\n    <tr>\n      <th>1</th>\n      <td>100005</td>\n      <td>0.5</td>\n    </tr>\n  </tbody>\n</table>\n</div>"
     },
     "execution_count": 22,
     "metadata": {},
     "output_type": "execute_result"
    }
   ],
   "source": [
    "df_sample_submissions = pd.read_csv(input_folder+'sample_submission.csv')\n",
    "df_sample_submissions.head(2)"
   ],
   "metadata": {
    "collapsed": false,
    "ExecuteTime": {
     "start_time": "2023-05-04T10:32:51.735753Z",
     "end_time": "2023-05-04T10:32:51.821855Z"
    }
   }
  },
  {
   "cell_type": "code",
   "execution_count": 23,
   "outputs": [
    {
     "name": "stdout",
     "output_type": "stream",
     "text": [
      "Forme df Sample Submissions :  (48744, 2)\n"
     ]
    }
   ],
   "source": [
    "print(\"Forme df Sample Submissions : \", df_sample_submissions.shape)"
   ],
   "metadata": {
    "collapsed": false,
    "ExecuteTime": {
     "start_time": "2023-05-04T10:32:51.777188Z",
     "end_time": "2023-05-04T10:32:51.822178Z"
    }
   }
  },
  {
   "cell_type": "markdown",
   "source": [
    "# 0.1. Etude des colonnes\n",
    "## Dataframes principaux"
   ],
   "metadata": {
    "collapsed": false
   }
  },
  {
   "cell_type": "code",
   "execution_count": 24,
   "outputs": [
    {
     "data": {
      "text/plain": "float64    65\nint64      41\nobject     16\ndtype: int64"
     },
     "execution_count": 24,
     "metadata": {},
     "output_type": "execute_result"
    }
   ],
   "source": [
    "df_dtype = app_train.dtypes.reset_index()\n",
    "app_train.dtypes.value_counts()"
   ],
   "metadata": {
    "collapsed": false,
    "ExecuteTime": {
     "start_time": "2023-05-04T10:32:51.777255Z",
     "end_time": "2023-05-04T10:32:51.822391Z"
    }
   }
  },
  {
   "cell_type": "code",
   "execution_count": 25,
   "outputs": [
    {
     "name": "stdout",
     "output_type": "stream",
     "text": [
      "Nombre de colonnes FLAG_xxx :  28\n",
      "Nombre de colonnes verifiants la presence de documents :  20\n",
      "Premier Flag Doc. : FLAG_DOCUMENT_2 // Dernier Flag Doc. : FLAG_DOCUMENT_21\n",
      "Colonne non associees a la presence de documents : \n",
      "['FLAG_OWN_CAR', 'FLAG_OWN_REALTY', 'FLAG_MOBIL', 'FLAG_EMP_PHONE', 'FLAG_WORK_PHONE', 'FLAG_CONT_MOBILE', 'FLAG_PHONE', 'FLAG_EMAIL']\n"
     ]
    }
   ],
   "source": [
    "flag_columns = [col for col in app_train.columns.to_list() if \"FLAG_\" in col]\n",
    "flag_document_columns = [col for col in flag_columns if \"DOCUMENT\" in col]\n",
    "non_doc_flags = [col for col in flag_columns if col not in flag_document_columns]\n",
    "print(\"Nombre de colonnes FLAG_xxx : \", len(flag_columns))\n",
    "print(\"Nombre de colonnes verifiants la presence de documents : \", len(flag_document_columns))\n",
    "print(f\"Premier Flag Doc. : {flag_document_columns[0]} // Dernier Flag Doc. : {flag_document_columns[-1]}\")\n",
    "print(\"Colonne non associees a la presence de documents : \")\n",
    "print(non_doc_flags)"
   ],
   "metadata": {
    "collapsed": false,
    "ExecuteTime": {
     "start_time": "2023-05-04T10:32:51.777325Z",
     "end_time": "2023-05-04T10:32:51.822550Z"
    }
   }
  },
  {
   "cell_type": "code",
   "execution_count": 26,
   "outputs": [
    {
     "data": {
      "text/plain": "0    290069\n1     17442\nName: FLAG_EMAIL, dtype: int64"
     },
     "execution_count": 26,
     "metadata": {},
     "output_type": "execute_result"
    }
   ],
   "source": [
    "app_train['FLAG_EMAIL'].value_counts()"
   ],
   "metadata": {
    "collapsed": false,
    "ExecuteTime": {
     "start_time": "2023-05-04T10:32:51.777401Z",
     "end_time": "2023-05-04T10:32:51.842074Z"
    }
   }
  },
  {
   "cell_type": "code",
   "execution_count": 27,
   "outputs": [
    {
     "data": {
      "text/plain": "int64     26\nobject     2\nName: 0, dtype: int64"
     },
     "execution_count": 27,
     "metadata": {},
     "output_type": "execute_result"
    }
   ],
   "source": [
    "df_dtype[df_dtype['index'].isin(flag_columns)][0].value_counts()"
   ],
   "metadata": {
    "collapsed": false,
    "ExecuteTime": {
     "start_time": "2023-05-04T10:32:51.821346Z",
     "end_time": "2023-05-04T10:32:51.842343Z"
    }
   }
  },
  {
   "cell_type": "code",
   "execution_count": 28,
   "outputs": [
    {
     "name": "stdout",
     "output_type": "stream",
     "text": [
      "Object Columns : \n",
      "['NAME_CONTRACT_TYPE', 'CODE_GENDER', 'FLAG_OWN_CAR', 'FLAG_OWN_REALTY', 'NAME_TYPE_SUITE', 'NAME_INCOME_TYPE', 'NAME_EDUCATION_TYPE', 'NAME_FAMILY_STATUS', 'NAME_HOUSING_TYPE', 'OCCUPATION_TYPE', 'WEEKDAY_APPR_PROCESS_START', 'ORGANIZATION_TYPE', 'FONDKAPREMONT_MODE', 'HOUSETYPE_MODE', 'WALLSMATERIAL_MODE', 'EMERGENCYSTATE_MODE']\n"
     ]
    }
   ],
   "source": [
    "object_cols = df_dtype[df_dtype[0] == 'object']['index'].values.tolist()\n",
    "print(\"Object Columns : \")\n",
    "print(object_cols)"
   ],
   "metadata": {
    "collapsed": false,
    "ExecuteTime": {
     "start_time": "2023-05-04T10:32:51.821450Z",
     "end_time": "2023-05-04T10:32:51.842522Z"
    }
   }
  },
  {
   "cell_type": "code",
   "execution_count": 29,
   "outputs": [
    {
     "data": {
      "text/plain": "N    202924\nY    104587\nName: FLAG_OWN_CAR, dtype: int64"
     },
     "execution_count": 29,
     "metadata": {},
     "output_type": "execute_result"
    }
   ],
   "source": [
    "app_train['FLAG_OWN_CAR'].value_counts()"
   ],
   "metadata": {
    "collapsed": false,
    "ExecuteTime": {
     "start_time": "2023-05-04T10:32:51.821529Z",
     "end_time": "2023-05-04T10:32:51.842686Z"
    }
   }
  },
  {
   "cell_type": "code",
   "execution_count": 30,
   "outputs": [
    {
     "data": {
      "text/plain": "Y    213312\nN     94199\nName: FLAG_OWN_REALTY, dtype: int64"
     },
     "execution_count": 30,
     "metadata": {},
     "output_type": "execute_result"
    }
   ],
   "source": [
    "app_train['FLAG_OWN_REALTY'].value_counts()"
   ],
   "metadata": {
    "collapsed": false,
    "ExecuteTime": {
     "start_time": "2023-05-04T10:32:51.821598Z",
     "end_time": "2023-05-04T10:32:51.842852Z"
    }
   }
  },
  {
   "cell_type": "markdown",
   "source": [
    "Deux colonnes de Flag sont de type \"Objets\" et contiennent des \"N\"/\"Y\" au lieu de 0 et de 1."
   ],
   "metadata": {
    "collapsed": false
   }
  },
  {
   "cell_type": "code",
   "execution_count": 31,
   "outputs": [
    {
     "data": {
      "text/plain": "F      202448\nM      105059\nXNA         4\nName: CODE_GENDER, dtype: int64"
     },
     "execution_count": 31,
     "metadata": {},
     "output_type": "execute_result"
    }
   ],
   "source": [
    "app_train['CODE_GENDER'].value_counts()"
   ],
   "metadata": {
    "collapsed": false,
    "ExecuteTime": {
     "start_time": "2023-05-04T10:32:51.821715Z",
     "end_time": "2023-05-04T10:32:51.921626Z"
    }
   }
  },
  {
   "cell_type": "markdown",
   "source": [
    "Haha, je n'avais jamais pense que la binarite allait rendre mon travail tellement plus complique (la dummyfication de variables etaient tellement plus simple avant xD)\n"
   ],
   "metadata": {
    "collapsed": false
   }
  },
  {
   "cell_type": "code",
   "execution_count": 32,
   "outputs": [
    {
     "data": {
      "text/plain": "28"
     },
     "execution_count": 32,
     "metadata": {},
     "output_type": "execute_result"
    }
   ],
   "source": [
    "len(flag_document_columns + non_doc_flags)"
   ],
   "metadata": {
    "collapsed": false,
    "ExecuteTime": {
     "start_time": "2023-05-04T10:32:51.865193Z",
     "end_time": "2023-05-04T10:32:51.921888Z"
    }
   }
  },
  {
   "cell_type": "code",
   "execution_count": 33,
   "outputs": [
    {
     "data": {
      "text/plain": "Unaccompanied      248526\nFamily              40149\nSpouse, partner     11370\nChildren             3267\nOther_B              1770\nOther_A               866\nGroup of people       271\nName: NAME_TYPE_SUITE, dtype: int64"
     },
     "execution_count": 33,
     "metadata": {},
     "output_type": "execute_result"
    }
   ],
   "source": [
    "app_train['NAME_TYPE_SUITE'].value_counts()"
   ],
   "metadata": {
    "collapsed": false,
    "ExecuteTime": {
     "start_time": "2023-05-04T10:32:51.865281Z",
     "end_time": "2023-05-04T10:32:51.922123Z"
    }
   }
  },
  {
   "cell_type": "code",
   "execution_count": 34,
   "outputs": [
    {
     "data": {
      "text/plain": "Working                 158774\nCommercial associate     71617\nPensioner                55362\nState servant            21703\nUnemployed                  22\nStudent                     18\nBusinessman                 10\nMaternity leave              5\nName: NAME_INCOME_TYPE, dtype: int64"
     },
     "execution_count": 34,
     "metadata": {},
     "output_type": "execute_result"
    }
   ],
   "source": [
    "app_train['NAME_INCOME_TYPE'].value_counts()"
   ],
   "metadata": {
    "collapsed": false,
    "ExecuteTime": {
     "start_time": "2023-05-04T10:32:51.873510Z",
     "end_time": "2023-05-04T10:32:51.922512Z"
    }
   }
  },
  {
   "cell_type": "code",
   "execution_count": 35,
   "outputs": [
    {
     "data": {
      "text/plain": "Secondary / secondary special    218391\nHigher education                  74863\nIncomplete higher                 10277\nLower secondary                    3816\nAcademic degree                     164\nName: NAME_EDUCATION_TYPE, dtype: int64"
     },
     "execution_count": 35,
     "metadata": {},
     "output_type": "execute_result"
    }
   ],
   "source": [
    "app_train['NAME_EDUCATION_TYPE'].value_counts()"
   ],
   "metadata": {
    "collapsed": false,
    "ExecuteTime": {
     "start_time": "2023-05-04T10:32:51.888602Z",
     "end_time": "2023-05-04T10:32:51.922927Z"
    }
   }
  },
  {
   "cell_type": "code",
   "execution_count": 36,
   "outputs": [
    {
     "data": {
      "text/plain": "Married                 196432\nSingle / not married     45444\nCivil marriage           29775\nSeparated                19770\nWidow                    16088\nUnknown                      2\nName: NAME_FAMILY_STATUS, dtype: int64"
     },
     "execution_count": 36,
     "metadata": {},
     "output_type": "execute_result"
    }
   ],
   "source": [
    "app_train['NAME_FAMILY_STATUS'].value_counts()"
   ],
   "metadata": {
    "collapsed": false,
    "ExecuteTime": {
     "start_time": "2023-05-04T10:32:51.910266Z",
     "end_time": "2023-05-04T10:32:51.951930Z"
    }
   }
  },
  {
   "cell_type": "code",
   "execution_count": 37,
   "outputs": [
    {
     "data": {
      "text/plain": "House / apartment      272868\nWith parents            14840\nMunicipal apartment     11183\nRented apartment         4881\nOffice apartment         2617\nCo-op apartment          1122\nName: NAME_HOUSING_TYPE, dtype: int64"
     },
     "execution_count": 37,
     "metadata": {},
     "output_type": "execute_result"
    }
   ],
   "source": [
    "app_train['NAME_HOUSING_TYPE'].value_counts()"
   ],
   "metadata": {
    "collapsed": false,
    "ExecuteTime": {
     "start_time": "2023-05-04T10:32:51.926024Z",
     "end_time": "2023-05-04T10:32:52.013923Z"
    }
   }
  },
  {
   "cell_type": "code",
   "execution_count": 38,
   "outputs": [
    {
     "data": {
      "text/plain": "0.035792    16408\n0.046220    13442\n0.030755    12163\n0.025164    11950\n0.026392    11601\n            ...  \n0.001417      467\n0.001333      235\n0.000533       39\n0.000938       28\n0.000290        2\nName: REGION_POPULATION_RELATIVE, Length: 81, dtype: int64"
     },
     "execution_count": 38,
     "metadata": {},
     "output_type": "execute_result"
    }
   ],
   "source": [
    "app_train['REGION_POPULATION_RELATIVE'].value_counts()"
   ],
   "metadata": {
    "collapsed": false,
    "ExecuteTime": {
     "start_time": "2023-05-04T10:32:51.969297Z",
     "end_time": "2023-05-04T10:32:52.014522Z"
    }
   }
  },
  {
   "cell_type": "code",
   "execution_count": 39,
   "outputs": [
    {
     "data": {
      "text/plain": "Laborers                 55186\nSales staff              32102\nCore staff               27570\nManagers                 21371\nDrivers                  18603\nHigh skill tech staff    11380\nAccountants               9813\nMedicine staff            8537\nSecurity staff            6721\nCooking staff             5946\nCleaning staff            4653\nPrivate service staff     2652\nLow-skill Laborers        2093\nWaiters/barmen staff      1348\nSecretaries               1305\nRealty agents              751\nHR staff                   563\nIT staff                   526\nName: OCCUPATION_TYPE, dtype: int64"
     },
     "execution_count": 39,
     "metadata": {},
     "output_type": "execute_result"
    }
   ],
   "source": [
    "app_train['OCCUPATION_TYPE'].value_counts()"
   ],
   "metadata": {
    "collapsed": false,
    "ExecuteTime": {
     "start_time": "2023-05-04T10:32:51.969387Z",
     "end_time": "2023-05-04T10:32:52.014900Z"
    }
   }
  },
  {
   "cell_type": "code",
   "execution_count": 40,
   "outputs": [
    {
     "data": {
      "text/plain": "TUESDAY      53901\nWEDNESDAY    51934\nMONDAY       50714\nTHURSDAY     50591\nFRIDAY       50338\nSATURDAY     33852\nSUNDAY       16181\nName: WEEKDAY_APPR_PROCESS_START, dtype: int64"
     },
     "execution_count": 40,
     "metadata": {},
     "output_type": "execute_result"
    }
   ],
   "source": [
    "app_train['WEEKDAY_APPR_PROCESS_START'].value_counts()"
   ],
   "metadata": {
    "collapsed": false,
    "ExecuteTime": {
     "start_time": "2023-05-04T10:32:51.969493Z",
     "end_time": "2023-05-04T10:32:52.038357Z"
    }
   }
  },
  {
   "cell_type": "code",
   "execution_count": 41,
   "outputs": [
    {
     "data": {
      "text/plain": "10    37722\n11    37229\n12    34233\n13    30959\n14    27682\n9     27384\n15    24839\n16    20385\n8     15127\n17    14900\n7      9131\n18     9049\n6      5842\n19     3848\n5      3638\n4      2090\n3      1230\n20     1196\n21      405\n2       305\n22      150\n1        86\n23       41\n0        40\nName: HOUR_APPR_PROCESS_START, dtype: int64"
     },
     "execution_count": 41,
     "metadata": {},
     "output_type": "execute_result"
    }
   ],
   "source": [
    "app_train['HOUR_APPR_PROCESS_START'].value_counts()"
   ],
   "metadata": {
    "collapsed": false,
    "ExecuteTime": {
     "start_time": "2023-05-04T10:32:52.013333Z",
     "end_time": "2023-05-04T10:32:52.044599Z"
    }
   }
  },
  {
   "cell_type": "code",
   "execution_count": 42,
   "outputs": [
    {
     "data": {
      "text/plain": "Business Entity Type 3    67992\nXNA                       55374\nSelf-employed             38412\nOther                     16683\nMedicine                  11193\nBusiness Entity Type 2    10553\nGovernment                10404\nSchool                     8893\nTrade: type 7              7831\nKindergarten               6880\nConstruction               6721\nBusiness Entity Type 1     5984\nTransport: type 4          5398\nTrade: type 3              3492\nIndustry: type 9           3368\nIndustry: type 3           3278\nSecurity                   3247\nHousing                    2958\nIndustry: type 11          2704\nMilitary                   2634\nBank                       2507\nAgriculture                2454\nPolice                     2341\nTransport: type 2          2204\nPostal                     2157\nSecurity Ministries        1974\nTrade: type 2              1900\nRestaurant                 1811\nServices                   1575\nUniversity                 1327\nIndustry: type 7           1307\nTransport: type 3          1187\nIndustry: type 1           1039\nHotel                       966\nElectricity                 950\nIndustry: type 4            877\nTrade: type 6               631\nIndustry: type 5            599\nInsurance                   597\nTelecom                     577\nEmergency                   560\nIndustry: type 2            458\nAdvertising                 429\nRealtor                     396\nCulture                     379\nIndustry: type 12           369\nTrade: type 1               348\nMobile                      317\nLegal Services              305\nCleaning                    260\nTransport: type 1           201\nIndustry: type 6            112\nIndustry: type 10           109\nReligion                     85\nIndustry: type 13            67\nTrade: type 4                64\nTrade: type 5                49\nIndustry: type 8             24\nName: ORGANIZATION_TYPE, dtype: int64"
     },
     "execution_count": 42,
     "metadata": {},
     "output_type": "execute_result"
    }
   ],
   "source": [
    "app_train['ORGANIZATION_TYPE'].value_counts()"
   ],
   "metadata": {
    "collapsed": false,
    "ExecuteTime": {
     "start_time": "2023-05-04T10:32:52.013529Z",
     "end_time": "2023-05-04T10:32:52.045307Z"
    }
   }
  },
  {
   "cell_type": "code",
   "execution_count": 43,
   "outputs": [
    {
     "data": {
      "text/plain": "0.0825    6663\n0.0619    6332\n0.0928    4404\n0.0722    3986\n0.0082    3507\n          ... \n0.3727       1\n0.1075       1\n0.7165       1\n0.8237       1\n0.3466       1\nName: APARTMENTS_AVG, Length: 2339, dtype: int64"
     },
     "execution_count": 43,
     "metadata": {},
     "output_type": "execute_result"
    }
   ],
   "source": [
    "app_train['APARTMENTS_AVG'].value_counts()"
   ],
   "metadata": {
    "collapsed": false,
    "ExecuteTime": {
     "start_time": "2023-05-04T10:32:52.013629Z",
     "end_time": "2023-05-04T10:32:52.045706Z"
    }
   }
  },
  {
   "cell_type": "markdown",
   "source": [
    "# Preparation Dataset\n",
    "## Main DF"
   ],
   "metadata": {
    "collapsed": false
   }
  },
  {
   "cell_type": "code",
   "execution_count": 44,
   "outputs": [
    {
     "name": "stdout",
     "output_type": "stream",
     "text": [
      "Length colonnes a enlever 1 :  14\n",
      "Length colonnes a enlever 1 :  34\n"
     ]
    }
   ],
   "source": [
    "colonnes_a_enlever = ['NAME_TYPE_SUITE', 'OCCUPATION_TYPE',\n",
    "                      'WEEKDAY_APPR_PROCESS_START', 'HOUR_APPR_PROCESS_START',\n",
    "                      'ORGANIZATION_TYPE',\n",
    "                      'EXT_SOURCE_1', 'EXT_SOURCE_2', 'EXT_SOURCE_3',\n",
    "                      'AMT_REQ_CREDIT_BUREAU_HOUR', 'AMT_REQ_CREDIT_BUREAU_DAY',\n",
    "                      'AMT_REQ_CREDIT_BUREAU_WEEK', 'AMT_REQ_CREDIT_BUREAU_MON', 'AMT_REQ_CREDIT_BUREAU_QRT', 'AMT_REQ_CREDIT_BUREAU_YEAR']\n",
    "print(\"Length colonnes a enlever 1 : \", len(colonnes_a_enlever))\n",
    "colonnes_a_enlever += flag_document_columns\n",
    "print(\"Length colonnes a enlever 1 : \", len(colonnes_a_enlever))"
   ],
   "metadata": {
    "collapsed": false,
    "ExecuteTime": {
     "start_time": "2023-05-04T10:32:52.013694Z",
     "end_time": "2023-05-04T10:32:52.046006Z"
    }
   }
  },
  {
   "cell_type": "code",
   "execution_count": 45,
   "outputs": [
    {
     "data": {
      "text/plain": "88"
     },
     "execution_count": 45,
     "metadata": {},
     "output_type": "execute_result"
    }
   ],
   "source": [
    "colonnes_a_conserver = [col for col in app_train.columns.tolist() if col not in colonnes_a_enlever]\n",
    "len(colonnes_a_conserver)"
   ],
   "metadata": {
    "collapsed": false,
    "ExecuteTime": {
     "start_time": "2023-05-04T10:32:52.014141Z",
     "end_time": "2023-05-04T10:32:52.046275Z"
    }
   }
  },
  {
   "cell_type": "code",
   "execution_count": 46,
   "outputs": [
    {
     "data": {
      "text/plain": "float64    56\nint64      20\nobject     12\ndtype: int64"
     },
     "execution_count": 46,
     "metadata": {},
     "output_type": "execute_result"
    }
   ],
   "source": [
    "df_main = app_train[colonnes_a_conserver]\n",
    "df_main.dtypes.value_counts()"
   ],
   "metadata": {
    "collapsed": false,
    "ExecuteTime": {
     "start_time": "2023-05-04T10:32:52.057123Z",
     "end_time": "2023-05-04T10:32:52.094918Z"
    }
   }
  },
  {
   "cell_type": "markdown",
   "source": [
    "Pour avoir un premier modele le plus simple possible, on va, pour l'instant, supprimer toutes les colonnes de type Objet."
   ],
   "metadata": {
    "collapsed": false
   }
  },
  {
   "cell_type": "code",
   "execution_count": 47,
   "outputs": [
    {
     "name": "stdout",
     "output_type": "stream",
     "text": [
      "Object Columns : \n",
      "['NAME_CONTRACT_TYPE', 'CODE_GENDER', 'FLAG_OWN_CAR', 'FLAG_OWN_REALTY', 'NAME_INCOME_TYPE', 'NAME_EDUCATION_TYPE', 'NAME_FAMILY_STATUS', 'NAME_HOUSING_TYPE', 'FONDKAPREMONT_MODE', 'HOUSETYPE_MODE', 'WALLSMATERIAL_MODE', 'EMERGENCYSTATE_MODE']\n"
     ]
    }
   ],
   "source": [
    "df_dtype = df_main.dtypes.reset_index()\n",
    "object_cols = df_dtype[df_dtype[0] == 'object']['index'].values.tolist()\n",
    "print(\"Object Columns : \")\n",
    "print(object_cols)"
   ],
   "metadata": {
    "collapsed": false,
    "ExecuteTime": {
     "start_time": "2023-05-04T10:32:52.079087Z",
     "end_time": "2023-05-04T10:32:52.095616Z"
    }
   }
  },
  {
   "cell_type": "code",
   "execution_count": 48,
   "outputs": [
    {
     "data": {
      "text/plain": "(307511, 76)"
     },
     "execution_count": 48,
     "metadata": {},
     "output_type": "execute_result"
    }
   ],
   "source": [
    "colonnes_a_conserver = [col for col in df_main.columns.tolist() if col not in object_cols]\n",
    "df_main = df_main[colonnes_a_conserver]\n",
    "df_main.shape"
   ],
   "metadata": {
    "collapsed": false,
    "ExecuteTime": {
     "start_time": "2023-05-04T10:32:52.122574Z",
     "end_time": "2023-05-04T10:32:52.154147Z"
    }
   }
  },
  {
   "cell_type": "code",
   "execution_count": 49,
   "outputs": [
    {
     "data": {
      "text/plain": "SK_ID_PREV                 int64\nSK_ID_CURR                 int64\nMONTHS_BALANCE             int64\nCNT_INSTALMENT           float64\nCNT_INSTALMENT_FUTURE    float64\nNAME_CONTRACT_STATUS      object\nSK_DPD                     int64\nSK_DPD_DEF                 int64\ndtype: object"
     },
     "execution_count": 49,
     "metadata": {},
     "output_type": "execute_result"
    }
   ],
   "source": [
    "df_pos_cash_apps.dtypes"
   ],
   "metadata": {
    "collapsed": false,
    "ExecuteTime": {
     "start_time": "2023-05-04T10:33:05.896792Z",
     "end_time": "2023-05-04T10:33:05.928058Z"
    }
   }
  },
  {
   "cell_type": "code",
   "execution_count": null,
   "outputs": [],
   "source": [],
   "metadata": {
    "collapsed": false
   }
  }
 ],
 "metadata": {
  "kernelspec": {
   "display_name": "Python 3",
   "language": "python",
   "name": "python3"
  },
  "language_info": {
   "codemirror_mode": {
    "name": "ipython",
    "version": 2
   },
   "file_extension": ".py",
   "mimetype": "text/x-python",
   "name": "python",
   "nbconvert_exporter": "python",
   "pygments_lexer": "ipython2",
   "version": "2.7.6"
  }
 },
 "nbformat": 4,
 "nbformat_minor": 0
}
