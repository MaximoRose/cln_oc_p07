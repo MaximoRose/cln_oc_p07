{
 "cells": [
  {
   "cell_type": "code",
   "execution_count": 1,
   "metadata": {
    "collapsed": true,
    "ExecuteTime": {
     "start_time": "2023-06-01T11:05:46.087730Z",
     "end_time": "2023-06-01T11:05:47.084341Z"
    }
   },
   "outputs": [],
   "source": [
    "import pandas as pd\n",
    "import gc\n",
    "import time\n",
    "from contextlib import contextmanager\n",
    "import custom_kernel as ckk\n",
    "\n",
    "@contextmanager\n",
    "def timer(name):\n",
    "    t0 = time.time()\n",
    "    yield\n",
    "    print(\"{} - done in {:.0f}s\".format(name, time.time() - t0))\n",
    "\n",
    "GCOLLAB = False\n",
    "GIT_FOLDER = './'\n",
    "INPUT_FOLDER = GIT_FOLDER + 'input_data/'\n",
    "OUTPUT_FOLDER = GIT_FOLDER + 'processed_data/'"
   ]
  },
  {
   "cell_type": "markdown",
   "source": [
    "# Separation Train-Test & Etude Data Drift\n",
    "\n",
    "Traitement realise dans Google Collab, car difficulte a installer et faire tourner l'application en locale, alors que c'est direct dans Google Collab."
   ],
   "metadata": {
    "collapsed": false
   }
  },
  {
   "cell_type": "markdown",
   "source": [
    "# Avoid leakage by splitting Train & Test process"
   ],
   "metadata": {
    "collapsed": false
   }
  },
  {
   "cell_type": "code",
   "execution_count": 2,
   "outputs": [
    {
     "name": "stdout",
     "output_type": "stream",
     "text": [
      "Application dataframe shape:  (307507, 119)\n",
      "application_train and application_test - done in 4s\n",
      "Bureau dataframe shape:  (305811, 76)\n",
      "Bureau and bureau_balance data - done in 13s\n"
     ]
    },
    {
     "name": "stderr",
     "output_type": "stream",
     "text": [
      "/home/maximorose/git_repositories/oc-ds-p07/custom_kernel.py:282: SettingWithCopyWarning: \n",
      "A value is trying to be set on a copy of a slice from a DataFrame.\n",
      "Try using .loc[row_indexer,col_indexer] = value instead\n",
      "\n",
      "See the caveats in the documentation: https://pandas.pydata.org/pandas-docs/stable/user_guide/indexing.html#returning-a-view-versus-a-copy\n",
      "  approved.loc[:, 'DAYS_LAST_DUE_DIFF'] = approved['DAYS_LAST_DUE_1ST_VERSION'] - approved['DAYS_LAST_DUE']\n"
     ]
    },
    {
     "name": "stdout",
     "output_type": "stream",
     "text": [
      "Previous dataframe shape:  (338857, 217)\n",
      "previous_application - done in 27s\n",
      "Pos-cash dataframe shape:  (337252, 21)\n",
      "Installments dataframe shape:  (339587, 36)\n",
      "Credit card dataframe shape:  (103558, 59)\n",
      "previous applications balances - done in 97s\n",
      "Initial df memory usage is 1255.16 MB for 534 columns\n",
      "Final memory usage is: 411.74 MB - decreased by 67.2%\n"
     ]
    }
   ],
   "source": [
    "with timer(\"application_train and application_test\"):\n",
    "    df = ckk.application_processing(path=INPUT_FOLDER, filename='application_train.csv')\n",
    "    print(\"Application dataframe shape: \", df.shape)\n",
    "with timer(\"Bureau and bureau_balance data\"):\n",
    "    bureau_df = ckk.process_bureau(path=INPUT_FOLDER)\n",
    "    df = pd.merge(df, bureau_df, on='SK_ID_CURR', how='left')\n",
    "    print(\"Bureau dataframe shape: \", bureau_df.shape)\n",
    "    del bureau_df; gc.collect()\n",
    "with timer(\"previous_application\"):\n",
    "    prev_df = ckk.get_previous_applications(path=INPUT_FOLDER)\n",
    "    df = pd.merge(df, prev_df, on='SK_ID_CURR', how='left')\n",
    "    print(\"Previous dataframe shape: \", prev_df.shape)\n",
    "    del prev_df; gc.collect()\n",
    "with timer(\"previous applications balances\"):\n",
    "    pos = ckk.get_pos_cash(path=INPUT_FOLDER)\n",
    "    df = pd.merge(df, pos, on='SK_ID_CURR', how='left')\n",
    "    print(\"Pos-cash dataframe shape: \", pos.shape)\n",
    "    del pos; gc.collect()\n",
    "    ins = ckk.kk03_installments_payments(path=INPUT_FOLDER) # kk03 beaucoup plus rapide mais moins bon\n",
    "    df = pd.merge(df, ins, on='SK_ID_CURR', how='left')\n",
    "    print(\"Installments dataframe shape: \", ins.shape)\n",
    "    del ins; gc.collect()\n",
    "    cc = ckk.get_credit_card(path=INPUT_FOLDER)\n",
    "    df = pd.merge(df, cc, on='SK_ID_CURR', how='left')\n",
    "    print(\"Credit card dataframe shape: \", cc.shape)\n",
    "    del cc; gc.collect()\n",
    "# Add ratios and groupby between different tables\n",
    "df = ckk.add_ratios_features(df)\n",
    "df = ckk.reduce_memory(df)\n",
    "\n",
    "df.to_csv(OUTPUT_FOLDER+'kernel03_install_payments_Train_Only.csv', index=False)"
   ],
   "metadata": {
    "collapsed": false,
    "ExecuteTime": {
     "start_time": "2023-06-01T11:05:49.945424Z",
     "end_time": "2023-06-01T11:09:17.460442Z"
    }
   }
  },
  {
   "cell_type": "code",
   "execution_count": 10,
   "outputs": [
    {
     "name": "stdout",
     "output_type": "stream",
     "text": [
      "Train samples: 307511, test samples: 48744\n",
      "Application dataframe shape:  (356250, 120)\n",
      "application_train and application_test - done in 4s\n",
      "Bureau dataframe shape:  (305811, 76)\n",
      "Bureau and bureau_balance data - done in 11s\n"
     ]
    },
    {
     "name": "stderr",
     "output_type": "stream",
     "text": [
      "/home/maximorose/git_repositories/oc-ds-p07/custom_kernel.py:278: SettingWithCopyWarning: \n",
      "A value is trying to be set on a copy of a slice from a DataFrame.\n",
      "Try using .loc[row_indexer,col_indexer] = value instead\n",
      "\n",
      "See the caveats in the documentation: https://pandas.pydata.org/pandas-docs/stable/user_guide/indexing.html#returning-a-view-versus-a-copy\n",
      "  approved.loc[:, 'DAYS_LAST_DUE_DIFF'] = approved['DAYS_LAST_DUE_1ST_VERSION'] - approved['DAYS_LAST_DUE']\n"
     ]
    },
    {
     "name": "stdout",
     "output_type": "stream",
     "text": [
      "Previous dataframe shape:  (338857, 217)\n",
      "previous_application - done in 23s\n",
      "Pos-cash dataframe shape:  (337252, 21)\n",
      "Installments dataframe shape:  (339587, 101)\n",
      "Credit card dataframe shape:  (103558, 59)\n",
      "previous applications balances - done in 803s\n",
      "Initial df memory usage is 1630.78 MB for 599 columns\n",
      "Final memory usage is: 537.48 MB - decreased by 67.0%\n"
     ]
    }
   ],
   "source": [
    "with timer(\"application_train and application_test\"):\n",
    "    df = ckk.application_train_test(ds_folder=INPUT_FOLDER)\n",
    "    print(\"Application dataframe shape: \", df.shape)\n",
    "with timer(\"Bureau and bureau_balance data\"):\n",
    "    bureau_df = ckk.process_bureau(path=INPUT_FOLDER)\n",
    "    df = pd.merge(df, bureau_df, on='SK_ID_CURR', how='left')\n",
    "    print(\"Bureau dataframe shape: \", bureau_df.shape)\n",
    "    del bureau_df; gc.collect()\n",
    "with timer(\"previous_application\"):\n",
    "    prev_df = ckk.get_previous_applications(path=INPUT_FOLDER)\n",
    "    df = pd.merge(df, prev_df, on='SK_ID_CURR', how='left')\n",
    "    print(\"Previous dataframe shape: \", prev_df.shape)\n",
    "    del prev_df; gc.collect()\n",
    "with timer(\"previous applications balances\"):\n",
    "    pos = ckk.get_pos_cash(path=INPUT_FOLDER)\n",
    "    df = pd.merge(df, pos, on='SK_ID_CURR', how='left')\n",
    "    print(\"Pos-cash dataframe shape: \", pos.shape)\n",
    "    del pos; gc.collect()\n",
    "    ins = ckk.kk02_get_installment_payments(path=INPUT_FOLDER) # kk03 beaucoup plus rapide mais moins bon\n",
    "    df = pd.merge(df, ins, on='SK_ID_CURR', how='left')\n",
    "    print(\"Installments dataframe shape: \", ins.shape)\n",
    "    del ins; gc.collect()\n",
    "    cc = ckk.get_credit_card(path=INPUT_FOLDER)\n",
    "    df = pd.merge(df, cc, on='SK_ID_CURR', how='left')\n",
    "    print(\"Credit card dataframe shape: \", cc.shape)\n",
    "    del cc; gc.collect()\n",
    "# Add ratios and groupby between different tables\n",
    "df = ckk.add_ratios_features(df)\n",
    "df = ckk.reduce_memory(df)\n",
    "\n",
    "df.to_csv(OUTPUT_FOLDER+'kernel02_install_payments.csv', index=False)"
   ],
   "metadata": {
    "collapsed": false,
    "ExecuteTime": {
     "start_time": "2023-05-25T17:30:12.235552Z",
     "end_time": "2023-05-25T17:45:52.501014Z"
    }
   }
  },
  {
   "cell_type": "code",
   "execution_count": 3,
   "outputs": [
    {
     "name": "stdout",
     "output_type": "stream",
     "text": [
      "Train samples: 307511, test samples: 48744\n",
      "Cat col in OHE :  ['NAME_CONTRACT_TYPE', 'NAME_TYPE_SUITE', 'NAME_INCOME_TYPE', 'NAME_EDUCATION_TYPE', 'NAME_FAMILY_STATUS', 'NAME_HOUSING_TYPE', 'OCCUPATION_TYPE', 'WEEKDAY_APPR_PROCESS_START', 'ORGANIZATION_TYPE', 'FONDKAPREMONT_MODE', 'HOUSETYPE_MODE', 'WALLSMATERIAL_MODE', 'EMERGENCYSTATE_MODE']\n",
      "Regrouping low cards\n",
      "Colonne a processer :  ['NAME_CONTRACT_TYPE', 'NAME_TYPE_SUITE', 'NAME_INCOME_TYPE', 'NAME_EDUCATION_TYPE', 'NAME_FAMILY_STATUS', 'NAME_HOUSING_TYPE', 'OCCUPATION_TYPE', 'WEEKDAY_APPR_PROCESS_START', 'ORGANIZATION_TYPE', 'FONDKAPREMONT_MODE', 'HOUSETYPE_MODE', 'WALLSMATERIAL_MODE', 'EMERGENCYSTATE_MODE']\n",
      "treshold :  0.03\n",
      "Application dataframe shape:  (356251, 191)\n",
      "\n",
      "application_train and application_test - done in 3s\n",
      "Cat col in OHE :  ['STATUS']\n",
      "Regrouping low cards\n",
      "Colonne a processer :  ['STATUS']\n",
      "treshold :  0.03\n",
      "Cat col in OHE :  ['CREDIT_ACTIVE', 'CREDIT_CURRENCY', 'CREDIT_TYPE']\n",
      "Regrouping low cards\n",
      "Colonne a processer :  ['CREDIT_ACTIVE', 'CREDIT_CURRENCY', 'CREDIT_TYPE']\n",
      "treshold :  0.03\n",
      "Bureau dataframe shape:  (305811, 97)\n",
      "\n",
      "Bureau and bureau_balance data - done in 12s\n",
      "Cat col in OHE :  ['NAME_CONTRACT_TYPE', 'WEEKDAY_APPR_PROCESS_START', 'FLAG_LAST_APPL_PER_CONTRACT', 'NAME_CASH_LOAN_PURPOSE', 'NAME_CONTRACT_STATUS', 'NAME_PAYMENT_TYPE', 'CODE_REJECT_REASON', 'NAME_TYPE_SUITE', 'NAME_CLIENT_TYPE', 'NAME_GOODS_CATEGORY', 'NAME_PORTFOLIO', 'NAME_PRODUCT_TYPE', 'CHANNEL_TYPE', 'NAME_SELLER_INDUSTRY', 'NAME_YIELD_GROUP', 'PRODUCT_COMBINATION']\n",
      "Regrouping low cards\n",
      "Colonne a processer :  ['NAME_CONTRACT_TYPE', 'WEEKDAY_APPR_PROCESS_START', 'FLAG_LAST_APPL_PER_CONTRACT', 'NAME_CASH_LOAN_PURPOSE', 'NAME_CONTRACT_STATUS', 'NAME_PAYMENT_TYPE', 'CODE_REJECT_REASON', 'NAME_TYPE_SUITE', 'NAME_CLIENT_TYPE', 'NAME_GOODS_CATEGORY', 'NAME_PORTFOLIO', 'NAME_PRODUCT_TYPE', 'CHANNEL_TYPE', 'NAME_SELLER_INDUSTRY', 'NAME_YIELD_GROUP', 'PRODUCT_COMBINATION']\n",
      "treshold :  0.03\n",
      "Previous dataframe shape:  (338857, 186)\n",
      "\n",
      "previous_application - done in 15s\n",
      "Cat col in OHE :  ['NAME_CONTRACT_STATUS']\n",
      "Regrouping low cards\n",
      "Colonne a processer :  ['NAME_CONTRACT_STATUS']\n",
      "treshold :  0.03\n",
      "Pos-cash dataframe shape:  (337252, 12)\n",
      "\n",
      "Cat col in OHE :  []\n",
      "Regrouping low cards\n",
      "Colonne a processer :  []\n",
      "treshold :  0.03\n",
      "Installments dataframe shape:  (339587, 26)\n",
      "\n",
      "Cat col in OHE :  ['NAME_CONTRACT_STATUS']\n",
      "Regrouping low cards\n",
      "Colonne a processer :  ['NAME_CONTRACT_STATUS']\n",
      "treshold :  0.03\n",
      "Credit card dataframe shape:  (103558, 121)\n",
      "\n",
      "previous applications balances - done in 34s\n",
      "Initial df memory usage is 1542.45 MB for 633 columns\n",
      "Final memory usage is: 534.42 MB - decreased by 65.4%\n",
      "Forme du DF :  (356251, 633)\n"
     ]
    }
   ],
   "source": [
    "import custom_kernel_RefOC as ck_oc\n",
    "\n",
    "with timer(\"application_train and application_test\"):\n",
    "    df = ck_oc.application_train_test(ds_folder=INPUT_FOLDER)\n",
    "    print(\"Application dataframe shape: \", df.shape)\n",
    "    print()\n",
    "with timer(\"Bureau and bureau_balance data\"):\n",
    "    bureau_df = ck_oc.bureau_and_balance(ds_folder=INPUT_FOLDER)\n",
    "    df = pd.merge(df, bureau_df, on='SK_ID_CURR', how='left')\n",
    "    print(\"Bureau dataframe shape: \", bureau_df.shape)\n",
    "    del bureau_df; gc.collect()\n",
    "    print()\n",
    "with timer(\"previous_application\"):\n",
    "    prev_df = ck_oc.previous_applications(ds_folder=INPUT_FOLDER)\n",
    "    df = pd.merge(df, prev_df, on='SK_ID_CURR', how='left')\n",
    "    print(\"Previous dataframe shape: \", prev_df.shape)\n",
    "    del prev_df; gc.collect()\n",
    "    print()\n",
    "with timer(\"previous applications balances\"):\n",
    "    pos = ck_oc.pos_cash(ds_folder=INPUT_FOLDER)\n",
    "    df = pd.merge(df, pos, on='SK_ID_CURR', how='left')\n",
    "    print(\"Pos-cash dataframe shape: \", pos.shape)\n",
    "    del pos; gc.collect()\n",
    "    print()\n",
    "    ins = ck_oc.installments_payments(ds_folder=INPUT_FOLDER) # kk03 beaucoup plus rapide mais moins bon\n",
    "    df = pd.merge(df, ins, on='SK_ID_CURR', how='left')\n",
    "    print(\"Installments dataframe shape: \", ins.shape)\n",
    "    del ins; gc.collect()\n",
    "    print()\n",
    "    cc = ck_oc.credit_card_balance(ds_folder=INPUT_FOLDER)\n",
    "    df = pd.merge(df, cc, on='SK_ID_CURR', how='left')\n",
    "    print(\"Credit card dataframe shape: \", cc.shape)\n",
    "    del cc; gc.collect()\n",
    "    print()\n",
    "# Add ratios and groupby between different tables\n",
    "df = ckk.reduce_memory(df)\n",
    "print(\"Forme du DF : \", df.shape)\n",
    "\n",
    "df.to_csv(OUTPUT_FOLDER+'OCkernel_customized.csv', index=False)"
   ],
   "metadata": {
    "collapsed": false,
    "ExecuteTime": {
     "start_time": "2023-05-31T12:07:59.011513Z",
     "end_time": "2023-05-31T12:10:20.767305Z"
    }
   }
  },
  {
   "cell_type": "code",
   "execution_count": null,
   "outputs": [],
   "source": [],
   "metadata": {
    "collapsed": false
   }
  }
 ],
 "metadata": {
  "kernelspec": {
   "display_name": "Python 3",
   "language": "python",
   "name": "python3"
  },
  "language_info": {
   "codemirror_mode": {
    "name": "ipython",
    "version": 2
   },
   "file_extension": ".py",
   "mimetype": "text/x-python",
   "name": "python",
   "nbconvert_exporter": "python",
   "pygments_lexer": "ipython2",
   "version": "2.7.6"
  }
 },
 "nbformat": 4,
 "nbformat_minor": 0
}
