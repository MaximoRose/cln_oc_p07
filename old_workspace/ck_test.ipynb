{
 "cells": [
  {
   "cell_type": "code",
   "execution_count": 1,
   "outputs": [],
   "source": [
    "GCOLLAB = False\n",
    "GIT_FOLDER = './'\n",
    "\n",
    "if GCOLLAB :\n",
    "  from google.colab import drive\n",
    "  drive.mount('/content/drive/')\n",
    "  GIT_FOLDER = '/content/drive/MyDrive/4_Open_classrooms/OC_DS_P7/'\n",
    "\n",
    "  import importlib.util\n",
    "  import sys\n",
    "  spec = importlib.util.spec_from_file_location(\"custom_kernel\", GIT_FOLDER+\"custom_kernel.py\")\n",
    "  ckk = importlib.util.module_from_spec(spec)\n",
    "  sys.modules[\"custom_kernel\"] = ckk\n",
    "  spec.loader.exec_module(ckk)\n",
    "\n",
    "else :\n",
    "  import mlflow\n",
    "  import custom_kernel as ckk"
   ],
   "metadata": {
    "collapsed": false,
    "ExecuteTime": {
     "start_time": "2023-05-24T17:32:38.491119Z",
     "end_time": "2023-05-24T17:32:39.452701Z"
    }
   }
  },
  {
   "cell_type": "code",
   "execution_count": 2,
   "metadata": {
    "collapsed": true,
    "ExecuteTime": {
     "start_time": "2023-05-24T17:32:39.493983Z",
     "end_time": "2023-05-24T17:32:39.494296Z"
    }
   },
   "outputs": [],
   "source": [
    "import pandas as pd\n",
    "import numpy as np\n",
    "import gc"
   ]
  },
  {
   "cell_type": "code",
   "execution_count": 3,
   "outputs": [],
   "source": [
    "import time\n",
    "from contextlib import contextmanager"
   ],
   "metadata": {
    "collapsed": false,
    "ExecuteTime": {
     "start_time": "2023-05-24T17:32:39.494286Z",
     "end_time": "2023-05-24T17:32:39.494661Z"
    }
   }
  },
  {
   "cell_type": "code",
   "execution_count": 4,
   "outputs": [],
   "source": [
    "@contextmanager\n",
    "def timer(name):\n",
    "    t0 = time.time()\n",
    "    yield\n",
    "    print(\"{} - done in {:.0f}s\".format(name, time.time() - t0))"
   ],
   "metadata": {
    "collapsed": false,
    "ExecuteTime": {
     "start_time": "2023-05-24T17:32:39.494473Z",
     "end_time": "2023-05-24T17:32:39.494821Z"
    }
   }
  },
  {
   "cell_type": "code",
   "execution_count": 5,
   "outputs": [],
   "source": [
    "INPUT_FOLDER = GIT_FOLDER + 'input_data/'"
   ],
   "metadata": {
    "collapsed": false,
    "ExecuteTime": {
     "start_time": "2023-05-24T17:32:39.494652Z",
     "end_time": "2023-05-24T17:32:39.494947Z"
    }
   }
  },
  {
   "cell_type": "code",
   "execution_count": 6,
   "outputs": [],
   "source": [
    "# ogdf = pd.read_csv(INPUT_FOLDER+'application_train.csv')\n",
    "# df = ckk.application_train_test(ds_folder=INPUT_FOLDER)\n",
    "# print(\"Forme de l'app_train original : \", ogdf.shape)\n",
    "# print(\"Forme de l'app_train transforme : \", df.shape)\n",
    "# print()\n",
    "#\n",
    "# print(\"---\")\n",
    "# ogbureau = pd.read_csv(INPUT_FOLDER+'bureau.csv')\n",
    "# print(\"Forme de bureau original : \", ogbureau.shape)\n",
    "# ogbureaubalance = pd.read_csv(INPUT_FOLDER+'bureau_balance.csv')\n",
    "# dfb = ckk.process_bureau(path=INPUT_FOLDER)\n",
    "# df = pd.merge(df, dfb, on='SK_ID_CURR', how='left')\n",
    "# print(\"Forme de bureau balance original : \", ogbureaubalance.shape)\n",
    "# print(\"Forme du bureau transforme : \", dfb.shape)\n",
    "# print()\n",
    "#\n",
    "# print(\"---\")\n",
    "# ogprevious = pd.read_csv(INPUT_FOLDER+'previous_application.csv')\n",
    "# print(\"Forme de PreviousApp original : \", ogprevious.shape)\n",
    "# dfpr = ckk.get_previous_applications(path=INPUT_FOLDER)\n",
    "# df = pd.merge(df, dfpr, on='SK_ID_CURR', how='left')\n",
    "# print(\"Forme du PreviousApp transforme : \", dfpr.shape)\n",
    "# print()\n",
    "#\n",
    "# print(\"---\")\n",
    "# ogposcash = pd.read_csv(INPUT_FOLDER+'POS_CASH_balance.csv')\n",
    "# print(\"Forme de poscash original : \", ogposcash.shape)\n",
    "# dfposcash = ckk.get_pos_cash(path=INPUT_FOLDER)\n",
    "# df = pd.merge(df, dfposcash, on='SK_ID_CURR', how='left')\n",
    "# print(\"Forme du poscash transforme : \", dfposcash.shape)\n",
    "# print()\n",
    "#\n",
    "# print(\"---\")\n",
    "# install_df_og = pd.read_csv(INPUT_FOLDER+'installments_payments.csv')\n",
    "# print(\"Forme de installment original : \", install_df_og.shape)\n",
    "# install_df = ckk.kk02_get_installment_payments(path=INPUT_FOLDER)\n",
    "# df = pd.merge(df, install_df, on='SK_ID_CURR', how='left')\n",
    "# print(\"Forme du installement transforme : \", install_df.shape)\n",
    "# print()\n",
    "#\n",
    "# del dfb, ogbureau, ogbureaubalance, dfpr, ogprevious, dfposcash, ogposcash, install_df_og, install_df; gc.collect()"
   ],
   "metadata": {
    "collapsed": false,
    "ExecuteTime": {
     "start_time": "2023-05-24T17:32:39.494813Z",
     "end_time": "2023-05-24T17:32:39.495043Z"
    }
   }
  },
  {
   "cell_type": "code",
   "execution_count": 7,
   "outputs": [
    {
     "name": "stdout",
     "output_type": "stream",
     "text": [
      "Train samples: 307511, test samples: 48744\n",
      "Application dataframe shape:  (356250, 120)\n",
      "application_train and application_test - done in 5s\n",
      "Bureau dataframe shape:  (305811, 76)\n",
      "Bureau and bureau_balance data - done in 14s\n"
     ]
    },
    {
     "name": "stderr",
     "output_type": "stream",
     "text": [
      "/home/maximorose/git_repositories/oc-ds-p07/custom_kernel.py:278: SettingWithCopyWarning: \n",
      "A value is trying to be set on a copy of a slice from a DataFrame.\n",
      "Try using .loc[row_indexer,col_indexer] = value instead\n",
      "\n",
      "See the caveats in the documentation: https://pandas.pydata.org/pandas-docs/stable/user_guide/indexing.html#returning-a-view-versus-a-copy\n",
      "  approved.loc[:, 'DAYS_LAST_DUE_DIFF'] = approved['DAYS_LAST_DUE_1ST_VERSION'] - approved['DAYS_LAST_DUE']\n"
     ]
    },
    {
     "name": "stdout",
     "output_type": "stream",
     "text": [
      "Previous dataframe shape:  (338857, 217)\n",
      "previous_application - done in 28s\n",
      "Pos-cash dataframe shape:  (337252, 21)\n",
      "Installments dataframe shape:  (339587, 36)\n",
      "Credit card dataframe shape:  (103558, 59)\n",
      "previous applications balances - done in 99s\n",
      "Initial df memory usage is 1456.83 MB for 535 columns\n",
      "Final memory usage is: 478.36 MB - decreased by 67.2%\n"
     ]
    }
   ],
   "source": [
    "with timer(\"application_train and application_test\"):\n",
    "    df = ckk.application_train_test(ds_folder=INPUT_FOLDER)\n",
    "    print(\"Application dataframe shape: \", df.shape)\n",
    "with timer(\"Bureau and bureau_balance data\"):\n",
    "    bureau_df = ckk.process_bureau(path=INPUT_FOLDER)\n",
    "    df = pd.merge(df, bureau_df, on='SK_ID_CURR', how='left')\n",
    "    print(\"Bureau dataframe shape: \", bureau_df.shape)\n",
    "    del bureau_df; gc.collect()\n",
    "with timer(\"previous_application\"):\n",
    "    prev_df = ckk.get_previous_applications(path=INPUT_FOLDER)\n",
    "    df = pd.merge(df, prev_df, on='SK_ID_CURR', how='left')\n",
    "    print(\"Previous dataframe shape: \", prev_df.shape)\n",
    "    del prev_df; gc.collect()\n",
    "with timer(\"previous applications balances\"):\n",
    "    pos = ckk.get_pos_cash(path=INPUT_FOLDER)\n",
    "    df = pd.merge(df, pos, on='SK_ID_CURR', how='left')\n",
    "    print(\"Pos-cash dataframe shape: \", pos.shape)\n",
    "    del pos; gc.collect()\n",
    "    ins = ckk.kk03_installments_payments(path=INPUT_FOLDER) # kk03 beaucoup plus rapide mais moins bon\n",
    "    df = pd.merge(df, ins, on='SK_ID_CURR', how='left')\n",
    "    print(\"Installments dataframe shape: \", ins.shape)\n",
    "    del ins; gc.collect()\n",
    "    cc = ckk.get_credit_card(path=INPUT_FOLDER)\n",
    "    df = pd.merge(df, cc, on='SK_ID_CURR', how='left')\n",
    "    print(\"Credit card dataframe shape: \", cc.shape)\n",
    "    del cc; gc.collect()\n",
    "# Add ratios and groupby between different tables\n",
    "df = ckk.add_ratios_features(df)\n",
    "df = ckk.reduce_memory(df)"
   ],
   "metadata": {
    "collapsed": false,
    "ExecuteTime": {
     "start_time": "2023-05-24T17:32:39.495179Z",
     "end_time": "2023-05-24T17:35:15.081980Z"
    }
   }
  },
  {
   "cell_type": "markdown",
   "source": [
    "Si on supprime les colonnes avec plus de 30% de valeurs NaN, on ne trouve pas de True Positive. (cf. function \"ckk.remove_too_nany_columns\")"
   ],
   "metadata": {
    "collapsed": false
   }
  },
  {
   "cell_type": "code",
   "execution_count": 8,
   "outputs": [],
   "source": [
    "# ser_tg = df['TARGET']\n",
    "# df_cleaned = ckk.remove_too_nany_columns(df)\n",
    "# df_cleaned['TARGET'] = ser_tg\n",
    "df_cleaned = df # test avec risque d'overfit"
   ],
   "metadata": {
    "collapsed": false,
    "ExecuteTime": {
     "start_time": "2023-05-24T17:35:15.065607Z",
     "end_time": "2023-05-24T17:35:15.082382Z"
    }
   }
  },
  {
   "cell_type": "code",
   "execution_count": 9,
   "outputs": [
    {
     "name": "stdout",
     "output_type": "stream",
     "text": [
      "Train shape: (307506, 535), test shape: (48744, 535)\n"
     ]
    },
    {
     "data": {
      "text/plain": "0"
     },
     "execution_count": 9,
     "metadata": {},
     "output_type": "execute_result"
    }
   ],
   "source": [
    "train_df = df_cleaned[df_cleaned['TARGET'].notnull()]\n",
    "test_df = df_cleaned[df_cleaned['TARGET'].isnull()]\n",
    "print(\"Train shape: {}, test shape: {}\".format(train_df.shape, test_df.shape))\n",
    "del df_cleaned\n",
    "gc.collect()"
   ],
   "metadata": {
    "collapsed": false,
    "ExecuteTime": {
     "start_time": "2023-05-24T17:35:15.065874Z",
     "end_time": "2023-05-24T17:35:15.657286Z"
    }
   }
  },
  {
   "cell_type": "code",
   "execution_count": 10,
   "outputs": [
    {
     "name": "stdout",
     "output_type": "stream",
     "text": [
      "Forme train_df :  (307506, 535)\n",
      "nb target Nan :  0\n"
     ]
    }
   ],
   "source": [
    "print(\"Forme train_df : \", train_df.shape)\n",
    "print(\"nb target Nan : \", train_df['TARGET'].isna().sum())"
   ],
   "metadata": {
    "collapsed": false,
    "ExecuteTime": {
     "start_time": "2023-05-24T17:35:15.653500Z",
     "end_time": "2023-05-24T17:35:15.730308Z"
    }
   }
  },
  {
   "cell_type": "code",
   "execution_count": 36,
   "outputs": [],
   "source": [
    "from sklearn.impute import SimpleImputer\n",
    "from sklearn.preprocessing import StandardScaler, MinMaxScaler\n",
    "from sklearn.dummy import DummyClassifier\n",
    "from sklearn.model_selection import train_test_split, StratifiedKFold, cross_val_score\n",
    "from sklearn.metrics import recall_score, make_scorer\n",
    "from sklearn.linear_model import LogisticRegression\n",
    "# from sklearn.pipeline import Pipeline # Have to use imblearn Pipeline for SMOTE\n",
    "from imblearn.pipeline import Pipeline\n",
    "from sklearn.model_selection import GridSearchCV\n",
    "from sklearn.ensemble import RandomForestClassifier\n",
    "from sklearn.linear_model import SGDClassifier\n",
    "from sklearn.svm import SVC\n",
    "\n",
    "# for SMOTE\n",
    "from imblearn.over_sampling import SMOTE\n",
    "from imblearn.under_sampling import RandomUnderSampler"
   ],
   "metadata": {
    "collapsed": false,
    "ExecuteTime": {
     "start_time": "2023-05-24T18:35:23.739291Z",
     "end_time": "2023-05-24T18:35:23.781238Z"
    }
   }
  },
  {
   "cell_type": "code",
   "execution_count": 12,
   "outputs": [],
   "source": [
    "X = train_df.drop(columns = ['TARGET'])\n",
    "y = train_df['TARGET']"
   ],
   "metadata": {
    "collapsed": false,
    "ExecuteTime": {
     "start_time": "2023-05-24T17:35:15.840510Z",
     "end_time": "2023-05-24T17:35:15.981723Z"
    }
   }
  },
  {
   "cell_type": "code",
   "execution_count": 13,
   "outputs": [],
   "source": [
    "s_imputer = SimpleImputer(missing_values=np.nan, strategy='mean')\n",
    "ss_scaler = StandardScaler()\n",
    "mm_scaler = MinMaxScaler(feature_range=(0,1))\n",
    "# oversample = SMOTE(k_neighbors=3, sampling_strategy=1.0)"
   ],
   "metadata": {
    "collapsed": false,
    "ExecuteTime": {
     "start_time": "2023-05-24T17:35:15.983295Z",
     "end_time": "2023-05-24T17:35:16.040481Z"
    }
   }
  },
  {
   "cell_type": "code",
   "execution_count": 14,
   "outputs": [
    {
     "name": "stdout",
     "output_type": "stream",
     "text": [
      "X_train : (215254, 534) // X_test : (92252, 534)\n",
      "y_train : (215254,) // y_test : (92252,)\n",
      "Accuracy de l'estimateur :  0.9192754628625938\n",
      "Score de rappel :  0.0\n"
     ]
    }
   ],
   "source": [
    "test_size = 0.3\n",
    "random_state = 42\n",
    "# Train-test-split\n",
    "X_train, X_test, y_train, y_test = train_test_split(X, y, test_size=test_size, random_state=random_state, stratify=y)\n",
    "print(f\"X_train : {X_train.shape} // X_test : {X_test.shape}\")\n",
    "print(f\"y_train : {y_train.shape} // y_test : {y_test.shape}\")\n",
    "# estimator dummy\n",
    "estimator =DummyClassifier(strategy='most_frequent')\n",
    "estimator.fit(X_train, y_train)\n",
    "y_pred = estimator.predict(X_test)\n",
    "print(\"Accuracy de l'estimateur : \", estimator.score(X_test, y_test))\n",
    "print(\"Score de rappel : \", recall_score(y_test, y_pred))"
   ],
   "metadata": {
    "collapsed": false,
    "ExecuteTime": {
     "start_time": "2023-05-24T17:35:16.025338Z",
     "end_time": "2023-05-24T17:35:16.865419Z"
    }
   }
  },
  {
   "cell_type": "markdown",
   "source": [
    "On va utiliser un derive du F2 score tel que defini [ici](https://towardsdatascience.com/is-f1-the-appropriate-criterion-to-use-what-about-f2-f3-f-beta-4bd8ef17e285) :\n",
    "F2 = TP/(TP + 0.2FP + 0.8FN)"
   ],
   "metadata": {
    "collapsed": false
   }
  },
  {
   "cell_type": "code",
   "execution_count": 15,
   "outputs": [],
   "source": [
    "# ---------------------------------------------------------------- MAKE SCRORER\n",
    "def custom_metric(y_true, y_pred) :\n",
    "    faux_negs = np.sum((y_true == 1) & (y_pred == 0))\n",
    "    faux_pos = np.sum((y_true == 0) & (y_pred == 1))\n",
    "    true_pos = np.sum((y_true == 1) & (y_pred == 1))\n",
    "    # true_negs = np.sum((y_true == 0) & (y_pred == 0))\n",
    "    f2_score = true_pos/(true_pos + 0.2 * faux_pos + 0.8 * faux_negs)\n",
    "    return f2_score\n",
    "\n",
    "custom_score = make_scorer(custom_metric, greater_is_better=True)"
   ],
   "metadata": {
    "collapsed": false,
    "ExecuteTime": {
     "start_time": "2023-05-24T17:35:16.867472Z",
     "end_time": "2023-05-24T17:35:16.870052Z"
    }
   }
  },
  {
   "cell_type": "markdown",
   "source": [
    "Best versions so far :\n",
    "- estimator = RandomForestClassifier(n_estimators =  100, max_depth=15, class_weight='balanced') : Probleme est qu'il overfit de ouf\n",
    "- estimator = LogisticRegression(penalty='l2', solver='lbfgs', class_weight='balanced') : A mes yeux c'est le mieux mais 30% des mauvais payeurs peuvent ne pas etre identifie comme tel.\n",
    "- estimator = SGDClassifier(loss='perceptron', alpha=0.00001) : nul"
   ],
   "metadata": {
    "collapsed": false
   }
  },
  {
   "cell_type": "code",
   "execution_count": 28,
   "outputs": [
    {
     "name": "stderr",
     "output_type": "stream",
     "text": [
      "2023/05/24 18:02:25 INFO mlflow.tracking.fluent: Autologging successfully enabled for sklearn.\n",
      "2023/05/24 18:02:25 INFO mlflow.utils.autologging_utils: Created MLflow autologging run with ID '1e0d456d5acb4ac4890aed12009a003a', which will track hyperparameters, performance metrics, model artifacts, and lineage information for the current sklearn workflow\n",
      "2023/05/24 18:23:22 INFO mlflow.sklearn.utils: Logging the 5 best runs, no runs will be omitted.\n"
     ]
    },
    {
     "data": {
      "text/plain": "GridSearchCV(cv=StratifiedKFold(n_splits=5, random_state=None, shuffle=False),\n             estimator=Pipeline(steps=[('imputer', SimpleImputer()),\n                                       ('scaler', MinMaxScaler()),\n                                       ('over',\n                                        SMOTE(random_state=42,\n                                              sampling_strategy=0.1)),\n                                       ('under',\n                                        RandomUnderSampler(random_state=42,\n                                                           sampling_strategy=0.5)),\n                                       ('estimator',\n                                        RandomForestClassifier(class_weight='balanced',\n                                                               max_depth=15))]),\n             param_grid={'estimator__n_estimators': [500]},\n             return_train_score=True, scoring=make_scorer(custom_metric))",
      "text/html": "<style>#sk-container-id-10 {color: black;background-color: white;}#sk-container-id-10 pre{padding: 0;}#sk-container-id-10 div.sk-toggleable {background-color: white;}#sk-container-id-10 label.sk-toggleable__label {cursor: pointer;display: block;width: 100%;margin-bottom: 0;padding: 0.3em;box-sizing: border-box;text-align: center;}#sk-container-id-10 label.sk-toggleable__label-arrow:before {content: \"▸\";float: left;margin-right: 0.25em;color: #696969;}#sk-container-id-10 label.sk-toggleable__label-arrow:hover:before {color: black;}#sk-container-id-10 div.sk-estimator:hover label.sk-toggleable__label-arrow:before {color: black;}#sk-container-id-10 div.sk-toggleable__content {max-height: 0;max-width: 0;overflow: hidden;text-align: left;background-color: #f0f8ff;}#sk-container-id-10 div.sk-toggleable__content pre {margin: 0.2em;color: black;border-radius: 0.25em;background-color: #f0f8ff;}#sk-container-id-10 input.sk-toggleable__control:checked~div.sk-toggleable__content {max-height: 200px;max-width: 100%;overflow: auto;}#sk-container-id-10 input.sk-toggleable__control:checked~label.sk-toggleable__label-arrow:before {content: \"▾\";}#sk-container-id-10 div.sk-estimator input.sk-toggleable__control:checked~label.sk-toggleable__label {background-color: #d4ebff;}#sk-container-id-10 div.sk-label input.sk-toggleable__control:checked~label.sk-toggleable__label {background-color: #d4ebff;}#sk-container-id-10 input.sk-hidden--visually {border: 0;clip: rect(1px 1px 1px 1px);clip: rect(1px, 1px, 1px, 1px);height: 1px;margin: -1px;overflow: hidden;padding: 0;position: absolute;width: 1px;}#sk-container-id-10 div.sk-estimator {font-family: monospace;background-color: #f0f8ff;border: 1px dotted black;border-radius: 0.25em;box-sizing: border-box;margin-bottom: 0.5em;}#sk-container-id-10 div.sk-estimator:hover {background-color: #d4ebff;}#sk-container-id-10 div.sk-parallel-item::after {content: \"\";width: 100%;border-bottom: 1px solid gray;flex-grow: 1;}#sk-container-id-10 div.sk-label:hover label.sk-toggleable__label {background-color: #d4ebff;}#sk-container-id-10 div.sk-serial::before {content: \"\";position: absolute;border-left: 1px solid gray;box-sizing: border-box;top: 0;bottom: 0;left: 50%;z-index: 0;}#sk-container-id-10 div.sk-serial {display: flex;flex-direction: column;align-items: center;background-color: white;padding-right: 0.2em;padding-left: 0.2em;position: relative;}#sk-container-id-10 div.sk-item {position: relative;z-index: 1;}#sk-container-id-10 div.sk-parallel {display: flex;align-items: stretch;justify-content: center;background-color: white;position: relative;}#sk-container-id-10 div.sk-item::before, #sk-container-id-10 div.sk-parallel-item::before {content: \"\";position: absolute;border-left: 1px solid gray;box-sizing: border-box;top: 0;bottom: 0;left: 50%;z-index: -1;}#sk-container-id-10 div.sk-parallel-item {display: flex;flex-direction: column;z-index: 1;position: relative;background-color: white;}#sk-container-id-10 div.sk-parallel-item:first-child::after {align-self: flex-end;width: 50%;}#sk-container-id-10 div.sk-parallel-item:last-child::after {align-self: flex-start;width: 50%;}#sk-container-id-10 div.sk-parallel-item:only-child::after {width: 0;}#sk-container-id-10 div.sk-dashed-wrapped {border: 1px dashed gray;margin: 0 0.4em 0.5em 0.4em;box-sizing: border-box;padding-bottom: 0.4em;background-color: white;}#sk-container-id-10 div.sk-label label {font-family: monospace;font-weight: bold;display: inline-block;line-height: 1.2em;}#sk-container-id-10 div.sk-label-container {text-align: center;}#sk-container-id-10 div.sk-container {/* jupyter's `normalize.less` sets `[hidden] { display: none; }` but bootstrap.min.css set `[hidden] { display: none !important; }` so we also need the `!important` here to be able to override the default hidden behavior on the sphinx rendered scikit-learn.org. See: https://github.com/scikit-learn/scikit-learn/issues/21755 */display: inline-block !important;position: relative;}#sk-container-id-10 div.sk-text-repr-fallback {display: none;}</style><div id=\"sk-container-id-10\" class=\"sk-top-container\"><div class=\"sk-text-repr-fallback\"><pre>GridSearchCV(cv=StratifiedKFold(n_splits=5, random_state=None, shuffle=False),\n             estimator=Pipeline(steps=[(&#x27;imputer&#x27;, SimpleImputer()),\n                                       (&#x27;scaler&#x27;, MinMaxScaler()),\n                                       (&#x27;over&#x27;,\n                                        SMOTE(random_state=42,\n                                              sampling_strategy=0.1)),\n                                       (&#x27;under&#x27;,\n                                        RandomUnderSampler(random_state=42,\n                                                           sampling_strategy=0.5)),\n                                       (&#x27;estimator&#x27;,\n                                        RandomForestClassifier(class_weight=&#x27;balanced&#x27;,\n                                                               max_depth=15))]),\n             param_grid={&#x27;estimator__n_estimators&#x27;: [500]},\n             return_train_score=True, scoring=make_scorer(custom_metric))</pre><b>In a Jupyter environment, please rerun this cell to show the HTML representation or trust the notebook. <br />On GitHub, the HTML representation is unable to render, please try loading this page with nbviewer.org.</b></div><div class=\"sk-container\" hidden><div class=\"sk-item sk-dashed-wrapped\"><div class=\"sk-label-container\"><div class=\"sk-label sk-toggleable\"><input class=\"sk-toggleable__control sk-hidden--visually\" id=\"sk-estimator-id-33\" type=\"checkbox\" ><label for=\"sk-estimator-id-33\" class=\"sk-toggleable__label sk-toggleable__label-arrow\">GridSearchCV</label><div class=\"sk-toggleable__content\"><pre>GridSearchCV(cv=StratifiedKFold(n_splits=5, random_state=None, shuffle=False),\n             estimator=Pipeline(steps=[(&#x27;imputer&#x27;, SimpleImputer()),\n                                       (&#x27;scaler&#x27;, MinMaxScaler()),\n                                       (&#x27;over&#x27;,\n                                        SMOTE(random_state=42,\n                                              sampling_strategy=0.1)),\n                                       (&#x27;under&#x27;,\n                                        RandomUnderSampler(random_state=42,\n                                                           sampling_strategy=0.5)),\n                                       (&#x27;estimator&#x27;,\n                                        RandomForestClassifier(class_weight=&#x27;balanced&#x27;,\n                                                               max_depth=15))]),\n             param_grid={&#x27;estimator__n_estimators&#x27;: [500]},\n             return_train_score=True, scoring=make_scorer(custom_metric))</pre></div></div></div><div class=\"sk-parallel\"><div class=\"sk-parallel-item\"><div class=\"sk-item\"><div class=\"sk-label-container\"><div class=\"sk-label sk-toggleable\"><input class=\"sk-toggleable__control sk-hidden--visually\" id=\"sk-estimator-id-34\" type=\"checkbox\" ><label for=\"sk-estimator-id-34\" class=\"sk-toggleable__label sk-toggleable__label-arrow\">estimator: Pipeline</label><div class=\"sk-toggleable__content\"><pre>Pipeline(steps=[(&#x27;imputer&#x27;, SimpleImputer()), (&#x27;scaler&#x27;, MinMaxScaler()),\n                (&#x27;over&#x27;, SMOTE(random_state=42, sampling_strategy=0.1)),\n                (&#x27;under&#x27;,\n                 RandomUnderSampler(random_state=42, sampling_strategy=0.5)),\n                (&#x27;estimator&#x27;,\n                 RandomForestClassifier(class_weight=&#x27;balanced&#x27;,\n                                        max_depth=15))])</pre></div></div></div><div class=\"sk-serial\"><div class=\"sk-item\"><div class=\"sk-serial\"><div class=\"sk-item\"><div class=\"sk-estimator sk-toggleable\"><input class=\"sk-toggleable__control sk-hidden--visually\" id=\"sk-estimator-id-35\" type=\"checkbox\" ><label for=\"sk-estimator-id-35\" class=\"sk-toggleable__label sk-toggleable__label-arrow\">SimpleImputer</label><div class=\"sk-toggleable__content\"><pre>SimpleImputer()</pre></div></div></div><div class=\"sk-item\"><div class=\"sk-estimator sk-toggleable\"><input class=\"sk-toggleable__control sk-hidden--visually\" id=\"sk-estimator-id-36\" type=\"checkbox\" ><label for=\"sk-estimator-id-36\" class=\"sk-toggleable__label sk-toggleable__label-arrow\">MinMaxScaler</label><div class=\"sk-toggleable__content\"><pre>MinMaxScaler()</pre></div></div></div><div class=\"sk-item\"><div class=\"sk-estimator sk-toggleable\"><input class=\"sk-toggleable__control sk-hidden--visually\" id=\"sk-estimator-id-37\" type=\"checkbox\" ><label for=\"sk-estimator-id-37\" class=\"sk-toggleable__label sk-toggleable__label-arrow\">SMOTE</label><div class=\"sk-toggleable__content\"><pre>SMOTE(random_state=42, sampling_strategy=0.1)</pre></div></div></div><div class=\"sk-item\"><div class=\"sk-estimator sk-toggleable\"><input class=\"sk-toggleable__control sk-hidden--visually\" id=\"sk-estimator-id-38\" type=\"checkbox\" ><label for=\"sk-estimator-id-38\" class=\"sk-toggleable__label sk-toggleable__label-arrow\">RandomUnderSampler</label><div class=\"sk-toggleable__content\"><pre>RandomUnderSampler(random_state=42, sampling_strategy=0.5)</pre></div></div></div><div class=\"sk-item\"><div class=\"sk-estimator sk-toggleable\"><input class=\"sk-toggleable__control sk-hidden--visually\" id=\"sk-estimator-id-39\" type=\"checkbox\" ><label for=\"sk-estimator-id-39\" class=\"sk-toggleable__label sk-toggleable__label-arrow\">RandomForestClassifier</label><div class=\"sk-toggleable__content\"><pre>RandomForestClassifier(class_weight=&#x27;balanced&#x27;, max_depth=15)</pre></div></div></div></div></div></div></div></div></div></div></div></div>"
     },
     "execution_count": 28,
     "metadata": {},
     "output_type": "execute_result"
    }
   ],
   "source": [
    "over = SMOTE(sampling_strategy=0.1, random_state=random_state)\n",
    "under = RandomUnderSampler(sampling_strategy=0.5, random_state=random_state) # {'over__sampling_strategy': 0.1, 'under__sampling_strategy': 0.5} voir GridSearch_LogReg_Over-UnderSampling\n",
    "\n",
    "# mlflow.log_params({\"DS\" : \"Only AppTrain, keep NaN cols\"})\n",
    "mlflow.autolog() # Toggle the autolog to activate/deactivate MLFLow\n",
    "\n",
    "# estimator = RandomForestClassifier(n_estimators =  100, max_depth=15, class_weight='balanced') #\n",
    "# estimator = LogisticRegression(penalty='l2', solver='lbfgs') # voir {gridtest_LogReg_CustomMetric + GridSearch_LogReg_OverUnderSampling_ClassWeight} dans MLFlow\n",
    "# estimator = SGDClassifier(loss='perceptron', alpha=0.00001) # voir GridSearch_SGDClass_SMOTE_1 dans MLFlow\n",
    "estimator = SVC()\n",
    "\n",
    "# # Parametres LogisticRegression\n",
    "# params = {\n",
    "#     'estimator__penalty' : ['l2'],\n",
    "#     'estimator__solver' : ['lbfgs', 'newton-cholesky']\n",
    "# }\n",
    "params = {\n",
    "    'estimator__class_weight' : [None, 'balanced']\n",
    "}\n",
    "\n",
    "# # Parametres SGD\n",
    "# params = {\n",
    "#     'estimator__loss' : ['squared_hinge', 'perceptron'],\n",
    "#     'estimator__alpha' : [0.0001, 0.001, 0.01]\n",
    "# }\n",
    "\n",
    "# # Parametres Random Forest\n",
    "# params = {\n",
    "#     'estimator__n_estimators' : [100,300,534],\n",
    "#     'estimator__criterion' : ['gini', 'entropy', 'log_loss']\n",
    "# }\n",
    "params = {\n",
    "    'estimator__n_estimators' : [500]\n",
    "}\n",
    "\n",
    "\n",
    "# Parametres SMOTE\n",
    "# params = {\n",
    "#     'smote__k_neighbors' : [3],\n",
    "#     'smote__sampling_strategy' : [0.75, 0.8, 0.9, 1.0]\n",
    "# }\n",
    "\n",
    "# Parametres SMOTE\n",
    "# params = {\n",
    "#     'over__sampling_strategy' : [0.1, 0.3, 0.5],\n",
    "#     'under__sampling_strategy' : [0.5, 0.4, 0.3]\n",
    "# }\n",
    "# params = {\n",
    "#     'over__sampling_strategy' : [0.1, 0.3]\n",
    "# }\n",
    "\n",
    "pipeline = Pipeline(\n",
    "    [\n",
    "        (\"imputer\", s_imputer),\n",
    "        (\"scaler\", mm_scaler),\n",
    "        (\"over\", over), # SMOTE does not accept missing values encoded as NaN natively.\n",
    "        (\"under\", under), # SMOTE does not accept missing values encoded as NaN natively.\n",
    "        (\"estimator\", estimator)\n",
    "    ]\n",
    ")\n",
    "\n",
    "cv = StratifiedKFold(n_splits=5)\n",
    "\n",
    "model = GridSearchCV(\n",
    "    estimator=pipeline,\n",
    "    param_grid=params,\n",
    "    cv=cv,\n",
    "    scoring=custom_score,\n",
    "    return_train_score=True\n",
    ")\n",
    "\n",
    "model.fit(X_train, y_train)\n",
    "\n",
    "model"
   ],
   "metadata": {
    "collapsed": false,
    "ExecuteTime": {
     "start_time": "2023-05-24T18:02:25.148117Z",
     "end_time": "2023-05-24T18:23:22.489460Z"
    }
   }
  },
  {
   "cell_type": "code",
   "execution_count": 18,
   "outputs": [
    {
     "data": {
      "text/plain": "{'estimator__class_weight': 'balanced'}"
     },
     "execution_count": 18,
     "metadata": {},
     "output_type": "execute_result"
    }
   ],
   "source": [
    "model.best_params_"
   ],
   "metadata": {
    "collapsed": false,
    "ExecuteTime": {
     "start_time": "2023-05-24T17:39:03.124985Z",
     "end_time": "2023-05-24T17:39:03.131665Z"
    }
   }
  },
  {
   "cell_type": "code",
   "execution_count": 19,
   "outputs": [
    {
     "name": "stderr",
     "output_type": "stream",
     "text": [
      "2023/05/24 17:39:08 INFO mlflow.utils.autologging_utils: Created MLflow autologging run with ID 'a37adc05879a433d921df1c13abe9c57', which will track hyperparameters, performance metrics, model artifacts, and lineage information for the current sklearn workflow\n",
      "2023/05/24 17:39:08 WARNING mlflow.sklearn: Training metrics will not be recorded because training labels were not specified. To automatically record training metrics, provide training labels as inputs to the model training function.\n",
      "2023/05/24 17:39:08 WARNING mlflow.sklearn: Failed to infer model signature: the trained model does not specify a `predict` function, which is required in order to infer the signature\n",
      "2023/05/24 17:39:08 WARNING mlflow.sklearn: Model was missing function: predict. Not logging python_function flavor!\n",
      "2023/05/24 17:39:13 INFO mlflow.utils.autologging_utils: Created MLflow autologging run with ID '9bc15a1c8df942a68bb99797f0be3420', which will track hyperparameters, performance metrics, model artifacts, and lineage information for the current sklearn workflow\n",
      "/home/maximorose/.local/lib/python3.10/site-packages/sklearn/linear_model/_logistic.py:458: ConvergenceWarning: lbfgs failed to converge (status=1):\n",
      "STOP: TOTAL NO. of ITERATIONS REACHED LIMIT.\n",
      "\n",
      "Increase the number of iterations (max_iter) or scale the data as shown in:\n",
      "    https://scikit-learn.org/stable/modules/preprocessing.html\n",
      "Please also refer to the documentation for alternative solver options:\n",
      "    https://scikit-learn.org/stable/modules/linear_model.html#logistic-regression\n",
      "  n_iter_i = _check_optimize_result(\n"
     ]
    },
    {
     "data": {
      "text/plain": "Pipeline(steps=[('imputer', SimpleImputer()), ('scaler', MinMaxScaler()),\n                ('over', SMOTE(random_state=42, sampling_strategy=0.1)),\n                ('under',\n                 RandomUnderSampler(random_state=42, sampling_strategy=0.5)),\n                ('estimator', LogisticRegression(class_weight='balanced'))])",
      "text/html": "<style>#sk-container-id-5 {color: black;background-color: white;}#sk-container-id-5 pre{padding: 0;}#sk-container-id-5 div.sk-toggleable {background-color: white;}#sk-container-id-5 label.sk-toggleable__label {cursor: pointer;display: block;width: 100%;margin-bottom: 0;padding: 0.3em;box-sizing: border-box;text-align: center;}#sk-container-id-5 label.sk-toggleable__label-arrow:before {content: \"▸\";float: left;margin-right: 0.25em;color: #696969;}#sk-container-id-5 label.sk-toggleable__label-arrow:hover:before {color: black;}#sk-container-id-5 div.sk-estimator:hover label.sk-toggleable__label-arrow:before {color: black;}#sk-container-id-5 div.sk-toggleable__content {max-height: 0;max-width: 0;overflow: hidden;text-align: left;background-color: #f0f8ff;}#sk-container-id-5 div.sk-toggleable__content pre {margin: 0.2em;color: black;border-radius: 0.25em;background-color: #f0f8ff;}#sk-container-id-5 input.sk-toggleable__control:checked~div.sk-toggleable__content {max-height: 200px;max-width: 100%;overflow: auto;}#sk-container-id-5 input.sk-toggleable__control:checked~label.sk-toggleable__label-arrow:before {content: \"▾\";}#sk-container-id-5 div.sk-estimator input.sk-toggleable__control:checked~label.sk-toggleable__label {background-color: #d4ebff;}#sk-container-id-5 div.sk-label input.sk-toggleable__control:checked~label.sk-toggleable__label {background-color: #d4ebff;}#sk-container-id-5 input.sk-hidden--visually {border: 0;clip: rect(1px 1px 1px 1px);clip: rect(1px, 1px, 1px, 1px);height: 1px;margin: -1px;overflow: hidden;padding: 0;position: absolute;width: 1px;}#sk-container-id-5 div.sk-estimator {font-family: monospace;background-color: #f0f8ff;border: 1px dotted black;border-radius: 0.25em;box-sizing: border-box;margin-bottom: 0.5em;}#sk-container-id-5 div.sk-estimator:hover {background-color: #d4ebff;}#sk-container-id-5 div.sk-parallel-item::after {content: \"\";width: 100%;border-bottom: 1px solid gray;flex-grow: 1;}#sk-container-id-5 div.sk-label:hover label.sk-toggleable__label {background-color: #d4ebff;}#sk-container-id-5 div.sk-serial::before {content: \"\";position: absolute;border-left: 1px solid gray;box-sizing: border-box;top: 0;bottom: 0;left: 50%;z-index: 0;}#sk-container-id-5 div.sk-serial {display: flex;flex-direction: column;align-items: center;background-color: white;padding-right: 0.2em;padding-left: 0.2em;position: relative;}#sk-container-id-5 div.sk-item {position: relative;z-index: 1;}#sk-container-id-5 div.sk-parallel {display: flex;align-items: stretch;justify-content: center;background-color: white;position: relative;}#sk-container-id-5 div.sk-item::before, #sk-container-id-5 div.sk-parallel-item::before {content: \"\";position: absolute;border-left: 1px solid gray;box-sizing: border-box;top: 0;bottom: 0;left: 50%;z-index: -1;}#sk-container-id-5 div.sk-parallel-item {display: flex;flex-direction: column;z-index: 1;position: relative;background-color: white;}#sk-container-id-5 div.sk-parallel-item:first-child::after {align-self: flex-end;width: 50%;}#sk-container-id-5 div.sk-parallel-item:last-child::after {align-self: flex-start;width: 50%;}#sk-container-id-5 div.sk-parallel-item:only-child::after {width: 0;}#sk-container-id-5 div.sk-dashed-wrapped {border: 1px dashed gray;margin: 0 0.4em 0.5em 0.4em;box-sizing: border-box;padding-bottom: 0.4em;background-color: white;}#sk-container-id-5 div.sk-label label {font-family: monospace;font-weight: bold;display: inline-block;line-height: 1.2em;}#sk-container-id-5 div.sk-label-container {text-align: center;}#sk-container-id-5 div.sk-container {/* jupyter's `normalize.less` sets `[hidden] { display: none; }` but bootstrap.min.css set `[hidden] { display: none !important; }` so we also need the `!important` here to be able to override the default hidden behavior on the sphinx rendered scikit-learn.org. See: https://github.com/scikit-learn/scikit-learn/issues/21755 */display: inline-block !important;position: relative;}#sk-container-id-5 div.sk-text-repr-fallback {display: none;}</style><div id=\"sk-container-id-5\" class=\"sk-top-container\"><div class=\"sk-text-repr-fallback\"><pre>Pipeline(steps=[(&#x27;imputer&#x27;, SimpleImputer()), (&#x27;scaler&#x27;, MinMaxScaler()),\n                (&#x27;over&#x27;, SMOTE(random_state=42, sampling_strategy=0.1)),\n                (&#x27;under&#x27;,\n                 RandomUnderSampler(random_state=42, sampling_strategy=0.5)),\n                (&#x27;estimator&#x27;, LogisticRegression(class_weight=&#x27;balanced&#x27;))])</pre><b>In a Jupyter environment, please rerun this cell to show the HTML representation or trust the notebook. <br />On GitHub, the HTML representation is unable to render, please try loading this page with nbviewer.org.</b></div><div class=\"sk-container\" hidden><div class=\"sk-item sk-dashed-wrapped\"><div class=\"sk-label-container\"><div class=\"sk-label sk-toggleable\"><input class=\"sk-toggleable__control sk-hidden--visually\" id=\"sk-estimator-id-17\" type=\"checkbox\" ><label for=\"sk-estimator-id-17\" class=\"sk-toggleable__label sk-toggleable__label-arrow\">Pipeline</label><div class=\"sk-toggleable__content\"><pre>Pipeline(steps=[(&#x27;imputer&#x27;, SimpleImputer()), (&#x27;scaler&#x27;, MinMaxScaler()),\n                (&#x27;over&#x27;, SMOTE(random_state=42, sampling_strategy=0.1)),\n                (&#x27;under&#x27;,\n                 RandomUnderSampler(random_state=42, sampling_strategy=0.5)),\n                (&#x27;estimator&#x27;, LogisticRegression(class_weight=&#x27;balanced&#x27;))])</pre></div></div></div><div class=\"sk-serial\"><div class=\"sk-item\"><div class=\"sk-estimator sk-toggleable\"><input class=\"sk-toggleable__control sk-hidden--visually\" id=\"sk-estimator-id-18\" type=\"checkbox\" ><label for=\"sk-estimator-id-18\" class=\"sk-toggleable__label sk-toggleable__label-arrow\">SimpleImputer</label><div class=\"sk-toggleable__content\"><pre>SimpleImputer()</pre></div></div></div><div class=\"sk-item\"><div class=\"sk-estimator sk-toggleable\"><input class=\"sk-toggleable__control sk-hidden--visually\" id=\"sk-estimator-id-19\" type=\"checkbox\" ><label for=\"sk-estimator-id-19\" class=\"sk-toggleable__label sk-toggleable__label-arrow\">MinMaxScaler</label><div class=\"sk-toggleable__content\"><pre>MinMaxScaler()</pre></div></div></div><div class=\"sk-item\"><div class=\"sk-estimator sk-toggleable\"><input class=\"sk-toggleable__control sk-hidden--visually\" id=\"sk-estimator-id-20\" type=\"checkbox\" ><label for=\"sk-estimator-id-20\" class=\"sk-toggleable__label sk-toggleable__label-arrow\">SMOTE</label><div class=\"sk-toggleable__content\"><pre>SMOTE(random_state=42, sampling_strategy=0.1)</pre></div></div></div><div class=\"sk-item\"><div class=\"sk-estimator sk-toggleable\"><input class=\"sk-toggleable__control sk-hidden--visually\" id=\"sk-estimator-id-21\" type=\"checkbox\" ><label for=\"sk-estimator-id-21\" class=\"sk-toggleable__label sk-toggleable__label-arrow\">RandomUnderSampler</label><div class=\"sk-toggleable__content\"><pre>RandomUnderSampler(random_state=42, sampling_strategy=0.5)</pre></div></div></div><div class=\"sk-item\"><div class=\"sk-estimator sk-toggleable\"><input class=\"sk-toggleable__control sk-hidden--visually\" id=\"sk-estimator-id-22\" type=\"checkbox\" ><label for=\"sk-estimator-id-22\" class=\"sk-toggleable__label sk-toggleable__label-arrow\">LogisticRegression</label><div class=\"sk-toggleable__content\"><pre>LogisticRegression(class_weight=&#x27;balanced&#x27;)</pre></div></div></div></div></div></div></div>"
     },
     "execution_count": 19,
     "metadata": {},
     "output_type": "execute_result"
    }
   ],
   "source": [
    "model_top = Pipeline(\n",
    "    [\n",
    "        (\"imputer\", s_imputer),\n",
    "        (\"scaler\", mm_scaler),\n",
    "        (\"over\", over), # SMOTE does not accept missing values encoded as NaN natively.\n",
    "        (\"under\", under), # SMOTE does not accept missing values encoded as NaN natively.\n",
    "        # (\"estimator\", LogisticRegression(penalty='l2', solver='lbfgs', class_weight='balanced'))\n",
    "        (\"estimator\", LogisticRegression(penalty='l2', solver='lbfgs', class_weight='balanced'))\n",
    "    ]\n",
    ")\n",
    "model_top.fit(X_train, y_train)"
   ],
   "metadata": {
    "collapsed": false,
    "ExecuteTime": {
     "start_time": "2023-05-24T17:39:05.348451Z",
     "end_time": "2023-05-24T17:39:18.424066Z"
    }
   }
  },
  {
   "cell_type": "code",
   "execution_count": 33,
   "outputs": [],
   "source": [
    "y_pred = model_top.predict(X_test)"
   ],
   "metadata": {
    "collapsed": false,
    "ExecuteTime": {
     "start_time": "2023-05-24T18:27:30.675728Z",
     "end_time": "2023-05-24T18:27:31.557239Z"
    }
   }
  },
  {
   "cell_type": "code",
   "execution_count": 23,
   "outputs": [
    {
     "name": "stderr",
     "output_type": "stream",
     "text": [
      "2023/05/24 17:45:01 INFO mlflow.utils.autologging_utils: Created MLflow autologging run with ID '0c591990b8434a0ab16659d78bea0c66', which will track hyperparameters, performance metrics, model artifacts, and lineage information for the current sklearn workflow\n",
      "2023/05/24 17:45:01 WARNING mlflow.sklearn: Training metrics will not be recorded because training labels were not specified. To automatically record training metrics, provide training labels as inputs to the model training function.\n",
      "2023/05/24 17:45:01 WARNING mlflow.sklearn: Failed to infer model signature: the trained model does not specify a `predict` function, which is required in order to infer the signature\n",
      "2023/05/24 17:45:01 WARNING mlflow.sklearn: Model was missing function: predict. Not logging python_function flavor!\n"
     ]
    },
    {
     "name": "stdout",
     "output_type": "stream",
     "text": [
      "X_train :  (215254, 534)\n",
      "Over X_train :  (217664, 534)\n",
      "Over-Under X_train :  (59361, 534)\n",
      "--------------------\n",
      "Nombre PosClass : 19776.0, soit 33.31%\n"
     ]
    }
   ],
   "source": [
    "Xt_nonan = s_imputer.fit_transform(X_train) # Pas de NaN pour oversampler\n",
    "Xt_over, yt_over = over.fit_resample(Xt_nonan, y_train) # over : sample rate : 0.1\n",
    "Xt_over_under, yt_over_under = under.fit_resample(Xt_over, yt_over) # under : sample rate : 0.5\n",
    "print(\"X_train : \", X_train.shape)\n",
    "print(\"Over X_train : \", Xt_over.shape)\n",
    "print(\"Over-Under X_train : \", Xt_over_under.shape)\n",
    "print(\"--------------------\")\n",
    "print(f\"Nombre PosClass : {yt_over_under.sum()}, soit {np.round((yt_over_under.sum()/yt_over_under.shape[0])*100, 2)}%\")"
   ],
   "metadata": {
    "collapsed": false,
    "ExecuteTime": {
     "start_time": "2023-05-24T17:44:57.290913Z",
     "end_time": "2023-05-24T17:45:05.166665Z"
    }
   }
  },
  {
   "cell_type": "code",
   "execution_count": 29,
   "outputs": [
    {
     "data": {
      "text/plain": "   mean_fit_time  std_fit_time  mean_score_time  std_score_time  \\\n0      157.98914      2.099721         4.851042        0.308805   \n\n  param_estimator__n_estimators                            params  \\\n0                           500  {'estimator__n_estimators': 500}   \n\n   mean_test_score  std_test_score  rank_test_score  mean_train_score  \\\n0         0.375468        0.007449                1          0.756201   \n\n   std_train_score  \n0         0.002228  ",
      "text/html": "<div>\n<style scoped>\n    .dataframe tbody tr th:only-of-type {\n        vertical-align: middle;\n    }\n\n    .dataframe tbody tr th {\n        vertical-align: top;\n    }\n\n    .dataframe thead th {\n        text-align: right;\n    }\n</style>\n<table border=\"1\" class=\"dataframe\">\n  <thead>\n    <tr style=\"text-align: right;\">\n      <th></th>\n      <th>mean_fit_time</th>\n      <th>std_fit_time</th>\n      <th>mean_score_time</th>\n      <th>std_score_time</th>\n      <th>param_estimator__n_estimators</th>\n      <th>params</th>\n      <th>mean_test_score</th>\n      <th>std_test_score</th>\n      <th>rank_test_score</th>\n      <th>mean_train_score</th>\n      <th>std_train_score</th>\n    </tr>\n  </thead>\n  <tbody>\n    <tr>\n      <th>0</th>\n      <td>157.98914</td>\n      <td>2.099721</td>\n      <td>4.851042</td>\n      <td>0.308805</td>\n      <td>500</td>\n      <td>{'estimator__n_estimators': 500}</td>\n      <td>0.375468</td>\n      <td>0.007449</td>\n      <td>1</td>\n      <td>0.756201</td>\n      <td>0.002228</td>\n    </tr>\n  </tbody>\n</table>\n</div>"
     },
     "execution_count": 29,
     "metadata": {},
     "output_type": "execute_result"
    }
   ],
   "source": [
    "def grid_resultification(grid) :\n",
    "    res = pd.DataFrame(grid.cv_results_)\n",
    "    keepcols = [col for col in res.columns if \"split\" not in col]\n",
    "    res = res[keepcols]\n",
    "    # res = res.sort_values(by = ['rank_test_r2', 'rank_test_neg_mean_absolute_error'])\n",
    "    return res\n",
    "\n",
    "df_results_grid = grid_resultification(model)\n",
    "df_results_grid"
   ],
   "metadata": {
    "collapsed": false,
    "ExecuteTime": {
     "start_time": "2023-05-24T18:24:02.029381Z",
     "end_time": "2023-05-24T18:24:02.032172Z"
    }
   }
  },
  {
   "cell_type": "code",
   "execution_count": 30,
   "outputs": [],
   "source": [
    "y_pred = model.best_estimator_.predict(X_test)"
   ],
   "metadata": {
    "collapsed": false,
    "ExecuteTime": {
     "start_time": "2023-05-24T18:24:03.366598Z",
     "end_time": "2023-05-24T18:24:13.677611Z"
    }
   }
  },
  {
   "cell_type": "code",
   "execution_count": 34,
   "outputs": [
    {
     "data": {
      "text/plain": "0.6962535249093594"
     },
     "execution_count": 34,
     "metadata": {},
     "output_type": "execute_result"
    }
   ],
   "source": [
    "recall_score(y_test, y_pred)"
   ],
   "metadata": {
    "collapsed": false,
    "ExecuteTime": {
     "start_time": "2023-05-24T18:27:35.833180Z",
     "end_time": "2023-05-24T18:27:35.904113Z"
    }
   }
  },
  {
   "cell_type": "code",
   "execution_count": 35,
   "outputs": [
    {
     "name": "stdout",
     "output_type": "stream",
     "text": [
      "[[0.71 0.29]\n",
      " [0.3  0.7 ]]\n"
     ]
    }
   ],
   "source": [
    "from sklearn.metrics import confusion_matrix\n",
    "\n",
    "mat = np.round(confusion_matrix(y_true=y_test,y_pred=y_pred, normalize='true'), 2)\n",
    "print(mat)"
   ],
   "metadata": {
    "collapsed": false,
    "ExecuteTime": {
     "start_time": "2023-05-24T18:27:38.913455Z",
     "end_time": "2023-05-24T18:27:38.982556Z"
    }
   }
  },
  {
   "cell_type": "code",
   "execution_count": null,
   "outputs": [],
   "source": [
    "y_pred_proba = model_top.predict_proba(X_test)\n",
    "df_rep_proba = pd.DataFrame(y_pred_proba, columns=['proba_0', 'proba_1'])\n",
    "print(\"Forme DF proba : \", df_rep_proba.shape)\n",
    "df_rep_proba['y_pred'] = y_pred\n",
    "df_rep_proba['y_pred'].value_counts()"
   ],
   "metadata": {
    "collapsed": false,
    "ExecuteTime": {
     "start_time": "2023-05-23T12:34:29.692886Z",
     "end_time": "2023-05-23T12:34:30.690685Z"
    }
   }
  },
  {
   "cell_type": "code",
   "execution_count": null,
   "outputs": [],
   "source": [
    "df_rep_proba['y_test'] = np.array(y_test).reshape((len(y_test), 1))\n",
    "df_rep_proba['y_test'].value_counts()"
   ],
   "metadata": {
    "collapsed": false,
    "ExecuteTime": {
     "start_time": "2023-05-23T12:34:37.540145Z",
     "end_time": "2023-05-23T12:34:37.550311Z"
    }
   }
  },
  {
   "cell_type": "code",
   "execution_count": null,
   "outputs": [],
   "source": [
    "false_negs = df_rep_proba[(df_rep_proba['y_test'] == 1) & (df_rep_proba['y_pred'] == 0)]\n",
    "print(\"Forme des false negatives : \", false_negs.shape)\n",
    "false_pos = df_rep_proba[(df_rep_proba['y_pred'] == 1) & (df_rep_proba['y_test'] == 0)]\n",
    "print(\"Forme des false positives : \", false_pos.shape)"
   ],
   "metadata": {
    "collapsed": false,
    "ExecuteTime": {
     "start_time": "2023-05-23T12:34:39.022216Z",
     "end_time": "2023-05-23T12:34:39.032985Z"
    }
   }
  },
  {
   "cell_type": "code",
   "execution_count": null,
   "outputs": [],
   "source": [
    "false_negs['proba_0'].describe()"
   ],
   "metadata": {
    "collapsed": false,
    "ExecuteTime": {
     "start_time": "2023-05-23T12:34:42.727074Z",
     "end_time": "2023-05-23T12:34:42.735743Z"
    }
   }
  },
  {
   "cell_type": "markdown",
   "source": [
    "75% des faux negatifs ont une proba d'etre negatifs a plus de 77%. J'aurais espere voir des probabilite plus nuancees. Ceci est probablement du a des features dont la ponderation influe trop sur la labelisation."
   ],
   "metadata": {
    "collapsed": false
   }
  },
  {
   "cell_type": "code",
   "execution_count": null,
   "outputs": [],
   "source": [],
   "metadata": {
    "collapsed": false,
    "ExecuteTime": {
     "start_time": "2023-05-17T16:55:49.879141Z",
     "end_time": "2023-05-17T16:55:49.922952Z"
    }
   }
  }
 ],
 "metadata": {
  "kernelspec": {
   "display_name": "Python 3",
   "language": "python",
   "name": "python3"
  },
  "language_info": {
   "codemirror_mode": {
    "name": "ipython",
    "version": 2
   },
   "file_extension": ".py",
   "mimetype": "text/x-python",
   "name": "python",
   "nbconvert_exporter": "python",
   "pygments_lexer": "ipython2",
   "version": "2.7.6"
  }
 },
 "nbformat": 4,
 "nbformat_minor": 0
}
