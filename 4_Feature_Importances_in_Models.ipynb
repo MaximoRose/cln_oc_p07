{
 "cells": [
  {
   "cell_type": "markdown",
   "source": [
    "# ANALYSE DES FEATURES IMPORTANCES DANS NOS MODELES\n",
    "\n",
    "Cette analyse peut venir completer l'analyse des corelations pour identifier les features necessaires et suffisantes lors de notre Feature Engineering."
   ],
   "metadata": {
    "collapsed": false
   }
  },
  {
   "cell_type": "code",
   "execution_count": 1,
   "metadata": {
    "collapsed": true,
    "ExecuteTime": {
     "start_time": "2023-06-07T17:12:50.538253Z",
     "end_time": "2023-06-07T17:12:50.542384Z"
    }
   },
   "outputs": [],
   "source": [
    "import pandas as pd\n",
    "import numpy as np\n",
    "import matplotlib.pyplot as plt"
   ]
  },
  {
   "cell_type": "markdown",
   "source": [
    "# Preparation du Dataframe d'etude des feature importance"
   ],
   "metadata": {
    "collapsed": false
   }
  },
  {
   "cell_type": "code",
   "execution_count": 2,
   "outputs": [
    {
     "name": "stdout",
     "output_type": "stream",
     "text": [
      "Feat RF :  (223, 3)\n",
      "Feat Log :  (51, 3)\n",
      "Feat Log :  (51, 3)\n"
     ]
    }
   ],
   "source": [
    "feat_rf = pd.read_csv('./processed_data/featimps_rf_noext_mbrk_v0.csv')\n",
    "print(\"Feat RF : \", feat_rf.shape)\n",
    "feat_rf_new = pd.read_csv('./processed_data/featimps_rf_noext_mbrk_3.csv')\n",
    "print(\"Feat Log : \", feat_rf_new.shape)\n",
    "feat_log = pd.read_csv('./processed_data/featimps_lr_noext_mbrk_v0.csv')\n",
    "print(\"Feat Log : \", feat_rf_new.shape)"
   ],
   "metadata": {
    "collapsed": false,
    "ExecuteTime": {
     "start_time": "2023-06-07T17:12:50.542837Z",
     "end_time": "2023-06-07T17:12:50.553540Z"
    }
   }
  },
  {
   "cell_type": "code",
   "execution_count": 3,
   "outputs": [],
   "source": [
    "old_top_50 = feat_rf.sort_values(by=['poids'], ascending=False).iloc[:50, :]['feature'].values.tolist()\n",
    "diff_col = [col for col in old_top_50 if col not in feat_rf_new['feature'].values.tolist()]"
   ],
   "metadata": {
    "collapsed": false,
    "ExecuteTime": {
     "start_time": "2023-06-07T17:12:50.552013Z",
     "end_time": "2023-06-07T17:12:50.607742Z"
    }
   }
  },
  {
   "cell_type": "code",
   "execution_count": 4,
   "outputs": [
    {
     "data": {
      "text/plain": "28"
     },
     "execution_count": 4,
     "metadata": {},
     "output_type": "execute_result"
    }
   ],
   "source": [
    "len(diff_col)"
   ],
   "metadata": {
    "collapsed": false,
    "ExecuteTime": {
     "start_time": "2023-06-07T17:12:50.594650Z",
     "end_time": "2023-06-07T17:12:50.608112Z"
    }
   }
  },
  {
   "cell_type": "code",
   "execution_count": 5,
   "outputs": [
    {
     "data": {
      "text/plain": "    Unnamed: 0                                            feature     poids\n7           84                      BURO_AMT_CREDIT_SUM_DEBT_MEAN  0.025792\n8           42                            EMPLOYED_TO_BIRTH_RATIO  0.022666\n9           54                           NAME_INCOME_TYPE_Working  0.020777\n10          80                      BURO_DAYS_CREDIT_ENDDATE_MEAN  0.019597\n11          92                             ACTIVE_DAYS_CREDIT_MAX  0.018675\n14          93                            ACTIVE_DAYS_CREDIT_MEAN  0.017890\n16          96                 ACTIVE_AMT_CREDIT_MAX_OVERDUE_MEAN  0.016612\n17          78                               BURO_DAYS_CREDIT_MAX  0.015308\n19          16                               REGION_RATING_CLIENT  0.012701\n21         135             PREV_NAME_CONTRACT_STATUS_Refused_MEAN  0.010743\n22           4                                    AMT_GOODS_PRICE  0.010466\n23         141                   PREV_CODE_REJECT_REASON_XAP_MEAN  0.010084\n25         143                     PREV_NAME_CLIENT_TYPE_New_MEAN  0.009199\n29           5                         REGION_POPULATION_RELATIVE  0.008507\n30         149  PREV_NAME_PRODUCT_TYPE_NAME_PRODUCT_TYPE_diver...  0.008459\n32         132            PREV_NAME_CONTRACT_STATUS_Approved_MEAN  0.008153\n33           2                                         AMT_CREDIT  0.008070\n34         104                            CLOSED_DAYS_CREDIT_MEAN  0.007917\n35         122                            PREV_DAYS_DECISION_MEAN  0.007846\n37         117                          PREV_APP_CREDIT_PERC_MEAN  0.007577\n40          94                    ACTIVE_DAYS_CREDIT_ENDDATE_MEAN  0.007240\n41         215                   CC_CNT_DRAWINGS_ATM_CURRENT_MEAN  0.006871\n42          69                           OCCUPATION_TYPE_Laborers  0.006555\n43         118                         PREV_AMT_DOWN_PAYMENT_MEAN  0.006090\n45          98                    ACTIVE_AMT_CREDIT_SUM_DEBT_MEAN  0.005737\n47         173                     APPROVED_AMT_DOWN_PAYMENT_MEAN  0.005425\n48         162                    PREV_NAME_YIELD_GROUP_high_MEAN  0.005409\n49         169                          APPROVED_AMT_ANNUITY_MEAN  0.005340",
      "text/html": "<div>\n<style scoped>\n    .dataframe tbody tr th:only-of-type {\n        vertical-align: middle;\n    }\n\n    .dataframe tbody tr th {\n        vertical-align: top;\n    }\n\n    .dataframe thead th {\n        text-align: right;\n    }\n</style>\n<table border=\"1\" class=\"dataframe\">\n  <thead>\n    <tr style=\"text-align: right;\">\n      <th></th>\n      <th>Unnamed: 0</th>\n      <th>feature</th>\n      <th>poids</th>\n    </tr>\n  </thead>\n  <tbody>\n    <tr>\n      <th>7</th>\n      <td>84</td>\n      <td>BURO_AMT_CREDIT_SUM_DEBT_MEAN</td>\n      <td>0.025792</td>\n    </tr>\n    <tr>\n      <th>8</th>\n      <td>42</td>\n      <td>EMPLOYED_TO_BIRTH_RATIO</td>\n      <td>0.022666</td>\n    </tr>\n    <tr>\n      <th>9</th>\n      <td>54</td>\n      <td>NAME_INCOME_TYPE_Working</td>\n      <td>0.020777</td>\n    </tr>\n    <tr>\n      <th>10</th>\n      <td>80</td>\n      <td>BURO_DAYS_CREDIT_ENDDATE_MEAN</td>\n      <td>0.019597</td>\n    </tr>\n    <tr>\n      <th>11</th>\n      <td>92</td>\n      <td>ACTIVE_DAYS_CREDIT_MAX</td>\n      <td>0.018675</td>\n    </tr>\n    <tr>\n      <th>14</th>\n      <td>93</td>\n      <td>ACTIVE_DAYS_CREDIT_MEAN</td>\n      <td>0.017890</td>\n    </tr>\n    <tr>\n      <th>16</th>\n      <td>96</td>\n      <td>ACTIVE_AMT_CREDIT_MAX_OVERDUE_MEAN</td>\n      <td>0.016612</td>\n    </tr>\n    <tr>\n      <th>17</th>\n      <td>78</td>\n      <td>BURO_DAYS_CREDIT_MAX</td>\n      <td>0.015308</td>\n    </tr>\n    <tr>\n      <th>19</th>\n      <td>16</td>\n      <td>REGION_RATING_CLIENT</td>\n      <td>0.012701</td>\n    </tr>\n    <tr>\n      <th>21</th>\n      <td>135</td>\n      <td>PREV_NAME_CONTRACT_STATUS_Refused_MEAN</td>\n      <td>0.010743</td>\n    </tr>\n    <tr>\n      <th>22</th>\n      <td>4</td>\n      <td>AMT_GOODS_PRICE</td>\n      <td>0.010466</td>\n    </tr>\n    <tr>\n      <th>23</th>\n      <td>141</td>\n      <td>PREV_CODE_REJECT_REASON_XAP_MEAN</td>\n      <td>0.010084</td>\n    </tr>\n    <tr>\n      <th>25</th>\n      <td>143</td>\n      <td>PREV_NAME_CLIENT_TYPE_New_MEAN</td>\n      <td>0.009199</td>\n    </tr>\n    <tr>\n      <th>29</th>\n      <td>5</td>\n      <td>REGION_POPULATION_RELATIVE</td>\n      <td>0.008507</td>\n    </tr>\n    <tr>\n      <th>30</th>\n      <td>149</td>\n      <td>PREV_NAME_PRODUCT_TYPE_NAME_PRODUCT_TYPE_diver...</td>\n      <td>0.008459</td>\n    </tr>\n    <tr>\n      <th>32</th>\n      <td>132</td>\n      <td>PREV_NAME_CONTRACT_STATUS_Approved_MEAN</td>\n      <td>0.008153</td>\n    </tr>\n    <tr>\n      <th>33</th>\n      <td>2</td>\n      <td>AMT_CREDIT</td>\n      <td>0.008070</td>\n    </tr>\n    <tr>\n      <th>34</th>\n      <td>104</td>\n      <td>CLOSED_DAYS_CREDIT_MEAN</td>\n      <td>0.007917</td>\n    </tr>\n    <tr>\n      <th>35</th>\n      <td>122</td>\n      <td>PREV_DAYS_DECISION_MEAN</td>\n      <td>0.007846</td>\n    </tr>\n    <tr>\n      <th>37</th>\n      <td>117</td>\n      <td>PREV_APP_CREDIT_PERC_MEAN</td>\n      <td>0.007577</td>\n    </tr>\n    <tr>\n      <th>40</th>\n      <td>94</td>\n      <td>ACTIVE_DAYS_CREDIT_ENDDATE_MEAN</td>\n      <td>0.007240</td>\n    </tr>\n    <tr>\n      <th>41</th>\n      <td>215</td>\n      <td>CC_CNT_DRAWINGS_ATM_CURRENT_MEAN</td>\n      <td>0.006871</td>\n    </tr>\n    <tr>\n      <th>42</th>\n      <td>69</td>\n      <td>OCCUPATION_TYPE_Laborers</td>\n      <td>0.006555</td>\n    </tr>\n    <tr>\n      <th>43</th>\n      <td>118</td>\n      <td>PREV_AMT_DOWN_PAYMENT_MEAN</td>\n      <td>0.006090</td>\n    </tr>\n    <tr>\n      <th>45</th>\n      <td>98</td>\n      <td>ACTIVE_AMT_CREDIT_SUM_DEBT_MEAN</td>\n      <td>0.005737</td>\n    </tr>\n    <tr>\n      <th>47</th>\n      <td>173</td>\n      <td>APPROVED_AMT_DOWN_PAYMENT_MEAN</td>\n      <td>0.005425</td>\n    </tr>\n    <tr>\n      <th>48</th>\n      <td>162</td>\n      <td>PREV_NAME_YIELD_GROUP_high_MEAN</td>\n      <td>0.005409</td>\n    </tr>\n    <tr>\n      <th>49</th>\n      <td>169</td>\n      <td>APPROVED_AMT_ANNUITY_MEAN</td>\n      <td>0.005340</td>\n    </tr>\n  </tbody>\n</table>\n</div>"
     },
     "execution_count": 5,
     "metadata": {},
     "output_type": "execute_result"
    }
   ],
   "source": [
    "feat_rf[feat_rf['feature'].isin(diff_col)].sort_values(by=['poids'], ascending=False).iloc[:50, :]"
   ],
   "metadata": {
    "collapsed": false,
    "ExecuteTime": {
     "start_time": "2023-06-07T17:12:50.594722Z",
     "end_time": "2023-06-07T17:12:50.608257Z"
    }
   }
  },
  {
   "cell_type": "code",
   "execution_count": 6,
   "outputs": [
    {
     "data": {
      "text/plain": "['BURO_AMT_CREDIT_SUM_DEBT_MEAN',\n 'EMPLOYED_TO_BIRTH_RATIO',\n 'NAME_INCOME_TYPE_Working',\n 'BURO_DAYS_CREDIT_ENDDATE_MEAN',\n 'ACTIVE_DAYS_CREDIT_MAX',\n 'ACTIVE_DAYS_CREDIT_MEAN',\n 'ACTIVE_AMT_CREDIT_MAX_OVERDUE_MEAN',\n 'BURO_DAYS_CREDIT_MAX',\n 'REGION_RATING_CLIENT',\n 'PREV_NAME_CONTRACT_STATUS_Refused_MEAN',\n 'AMT_GOODS_PRICE',\n 'PREV_CODE_REJECT_REASON_XAP_MEAN',\n 'PREV_NAME_CLIENT_TYPE_New_MEAN',\n 'REGION_POPULATION_RELATIVE',\n 'PREV_NAME_PRODUCT_TYPE_NAME_PRODUCT_TYPE_divers_MEAN',\n 'PREV_NAME_CONTRACT_STATUS_Approved_MEAN',\n 'AMT_CREDIT',\n 'CLOSED_DAYS_CREDIT_MEAN',\n 'PREV_DAYS_DECISION_MEAN',\n 'PREV_APP_CREDIT_PERC_MEAN',\n 'ACTIVE_DAYS_CREDIT_ENDDATE_MEAN',\n 'CC_CNT_DRAWINGS_ATM_CURRENT_MEAN',\n 'OCCUPATION_TYPE_Laborers',\n 'PREV_AMT_DOWN_PAYMENT_MEAN',\n 'ACTIVE_AMT_CREDIT_SUM_DEBT_MEAN',\n 'APPROVED_AMT_DOWN_PAYMENT_MEAN',\n 'PREV_NAME_YIELD_GROUP_high_MEAN',\n 'APPROVED_AMT_ANNUITY_MEAN']"
     },
     "execution_count": 6,
     "metadata": {},
     "output_type": "execute_result"
    }
   ],
   "source": [
    "diff_col"
   ],
   "metadata": {
    "collapsed": false,
    "ExecuteTime": {
     "start_time": "2023-06-07T17:12:50.594830Z",
     "end_time": "2023-06-07T17:12:50.608473Z"
    }
   }
  },
  {
   "cell_type": "code",
   "execution_count": 7,
   "outputs": [
    {
     "name": "stdout",
     "output_type": "stream",
     "text": [
      "(223, 3)\n"
     ]
    }
   ],
   "source": [
    "feat_rf = feat_rf[~feat_rf['feature'].isin([feat for feat in feat_rf['feature'].values.tolist() if feat not in feat_log['feature'].values.tolist()])]\n",
    "print(feat_rf.shape)"
   ],
   "metadata": {
    "collapsed": false,
    "ExecuteTime": {
     "start_time": "2023-06-07T17:12:50.594927Z",
     "end_time": "2023-06-07T17:12:50.678950Z"
    }
   }
  },
  {
   "cell_type": "code",
   "execution_count": 8,
   "outputs": [],
   "source": [
    "sdf = feat_rf.merge(feat_log, how='left', on='feature')\n",
    "sdf.rename(columns = {'poids' : 'rf_poids'}, inplace=True)\n",
    "sdf = sdf[['feature', 'rf_poids', 'coeflogreg']]"
   ],
   "metadata": {
    "collapsed": false,
    "ExecuteTime": {
     "start_time": "2023-06-07T17:12:50.638458Z",
     "end_time": "2023-06-07T17:12:50.679201Z"
    }
   }
  },
  {
   "cell_type": "code",
   "execution_count": 9,
   "outputs": [
    {
     "data": {
      "text/plain": "                                          feature  rf_poids  coeflogreg\n0                           BURO_DAYS_CREDIT_MEAN  0.042087    0.200766\n1                       NAME_EDUCATION_TYPE_CATed  0.040875   -0.147630\n2                                   DAYS_EMPLOYED  0.034732    0.010792\n3                           CREDIT_TO_GOODS_RATIO  0.034631    0.098294\n4                                 INSTAL_DPD_MEAN  0.032725    0.051481\n..                                            ...       ...         ...\n218             CLOSED_AMT_CREDIT_SUM_OVERDUE_MAX  0.000004    0.242572\n219                CLOSED_CREDIT_DAY_OVERDUE_MEAN  0.000003   -0.040561\n220      NAME_INCOME_TYPE_NAME_INCOME_TYPE_divers  0.000002   -0.016607\n221  NAME_FAMILY_STATUS_NAME_FAMILY_STATUS_divers  0.000000    0.000533\n222                                    FLAG_MOBIL  0.000000    0.000000\n\n[223 rows x 3 columns]",
      "text/html": "<div>\n<style scoped>\n    .dataframe tbody tr th:only-of-type {\n        vertical-align: middle;\n    }\n\n    .dataframe tbody tr th {\n        vertical-align: top;\n    }\n\n    .dataframe thead th {\n        text-align: right;\n    }\n</style>\n<table border=\"1\" class=\"dataframe\">\n  <thead>\n    <tr style=\"text-align: right;\">\n      <th></th>\n      <th>feature</th>\n      <th>rf_poids</th>\n      <th>coeflogreg</th>\n    </tr>\n  </thead>\n  <tbody>\n    <tr>\n      <th>0</th>\n      <td>BURO_DAYS_CREDIT_MEAN</td>\n      <td>0.042087</td>\n      <td>0.200766</td>\n    </tr>\n    <tr>\n      <th>1</th>\n      <td>NAME_EDUCATION_TYPE_CATed</td>\n      <td>0.040875</td>\n      <td>-0.147630</td>\n    </tr>\n    <tr>\n      <th>2</th>\n      <td>DAYS_EMPLOYED</td>\n      <td>0.034732</td>\n      <td>0.010792</td>\n    </tr>\n    <tr>\n      <th>3</th>\n      <td>CREDIT_TO_GOODS_RATIO</td>\n      <td>0.034631</td>\n      <td>0.098294</td>\n    </tr>\n    <tr>\n      <th>4</th>\n      <td>INSTAL_DPD_MEAN</td>\n      <td>0.032725</td>\n      <td>0.051481</td>\n    </tr>\n    <tr>\n      <th>...</th>\n      <td>...</td>\n      <td>...</td>\n      <td>...</td>\n    </tr>\n    <tr>\n      <th>218</th>\n      <td>CLOSED_AMT_CREDIT_SUM_OVERDUE_MAX</td>\n      <td>0.000004</td>\n      <td>0.242572</td>\n    </tr>\n    <tr>\n      <th>219</th>\n      <td>CLOSED_CREDIT_DAY_OVERDUE_MEAN</td>\n      <td>0.000003</td>\n      <td>-0.040561</td>\n    </tr>\n    <tr>\n      <th>220</th>\n      <td>NAME_INCOME_TYPE_NAME_INCOME_TYPE_divers</td>\n      <td>0.000002</td>\n      <td>-0.016607</td>\n    </tr>\n    <tr>\n      <th>221</th>\n      <td>NAME_FAMILY_STATUS_NAME_FAMILY_STATUS_divers</td>\n      <td>0.000000</td>\n      <td>0.000533</td>\n    </tr>\n    <tr>\n      <th>222</th>\n      <td>FLAG_MOBIL</td>\n      <td>0.000000</td>\n      <td>0.000000</td>\n    </tr>\n  </tbody>\n</table>\n<p>223 rows × 3 columns</p>\n</div>"
     },
     "execution_count": 9,
     "metadata": {},
     "output_type": "execute_result"
    }
   ],
   "source": [
    "sdf"
   ],
   "metadata": {
    "collapsed": false,
    "ExecuteTime": {
     "start_time": "2023-06-07T17:12:50.638519Z",
     "end_time": "2023-06-07T17:12:50.679407Z"
    }
   }
  },
  {
   "cell_type": "code",
   "execution_count": 10,
   "outputs": [],
   "source": [
    "sdf['rf_poids'] = np.abs(sdf['rf_poids'])\n",
    "sdf['rforder'] = np.argsort(-sdf['rf_poids'])\n",
    "sdf['coeflogreg'] = np.abs(sdf['coeflogreg'])\n",
    "sdf['lrorder'] = np.argsort(-sdf['coeflogreg'])"
   ],
   "metadata": {
    "collapsed": false,
    "ExecuteTime": {
     "start_time": "2023-06-07T17:12:50.638583Z",
     "end_time": "2023-06-07T17:12:50.679471Z"
    }
   }
  },
  {
   "cell_type": "code",
   "execution_count": 11,
   "outputs": [
    {
     "data": {
      "text/plain": "                                          feature  rf_poids  coeflogreg  \\\n0                           BURO_DAYS_CREDIT_MEAN  0.042087    0.200766   \n1                       NAME_EDUCATION_TYPE_CATed  0.040875    0.147630   \n2                                   DAYS_EMPLOYED  0.034732    0.010792   \n3                           CREDIT_TO_GOODS_RATIO  0.034631    0.098294   \n4                                 INSTAL_DPD_MEAN  0.032725    0.051481   \n..                                            ...       ...         ...   \n218             CLOSED_AMT_CREDIT_SUM_OVERDUE_MAX  0.000004    0.242572   \n219                CLOSED_CREDIT_DAY_OVERDUE_MEAN  0.000003    0.040561   \n220      NAME_INCOME_TYPE_NAME_INCOME_TYPE_divers  0.000002    0.016607   \n221  NAME_FAMILY_STATUS_NAME_FAMILY_STATUS_divers  0.000000    0.000533   \n222                                    FLAG_MOBIL  0.000000    0.000000   \n\n     rforder  lrorder  \n0          0       69  \n1          1       66  \n2          2      142  \n3          3       77  \n4          4      134  \n..       ...      ...  \n218      218      221  \n219      219       84  \n220      220      136  \n221      221      157  \n222      222      222  \n\n[223 rows x 5 columns]",
      "text/html": "<div>\n<style scoped>\n    .dataframe tbody tr th:only-of-type {\n        vertical-align: middle;\n    }\n\n    .dataframe tbody tr th {\n        vertical-align: top;\n    }\n\n    .dataframe thead th {\n        text-align: right;\n    }\n</style>\n<table border=\"1\" class=\"dataframe\">\n  <thead>\n    <tr style=\"text-align: right;\">\n      <th></th>\n      <th>feature</th>\n      <th>rf_poids</th>\n      <th>coeflogreg</th>\n      <th>rforder</th>\n      <th>lrorder</th>\n    </tr>\n  </thead>\n  <tbody>\n    <tr>\n      <th>0</th>\n      <td>BURO_DAYS_CREDIT_MEAN</td>\n      <td>0.042087</td>\n      <td>0.200766</td>\n      <td>0</td>\n      <td>69</td>\n    </tr>\n    <tr>\n      <th>1</th>\n      <td>NAME_EDUCATION_TYPE_CATed</td>\n      <td>0.040875</td>\n      <td>0.147630</td>\n      <td>1</td>\n      <td>66</td>\n    </tr>\n    <tr>\n      <th>2</th>\n      <td>DAYS_EMPLOYED</td>\n      <td>0.034732</td>\n      <td>0.010792</td>\n      <td>2</td>\n      <td>142</td>\n    </tr>\n    <tr>\n      <th>3</th>\n      <td>CREDIT_TO_GOODS_RATIO</td>\n      <td>0.034631</td>\n      <td>0.098294</td>\n      <td>3</td>\n      <td>77</td>\n    </tr>\n    <tr>\n      <th>4</th>\n      <td>INSTAL_DPD_MEAN</td>\n      <td>0.032725</td>\n      <td>0.051481</td>\n      <td>4</td>\n      <td>134</td>\n    </tr>\n    <tr>\n      <th>...</th>\n      <td>...</td>\n      <td>...</td>\n      <td>...</td>\n      <td>...</td>\n      <td>...</td>\n    </tr>\n    <tr>\n      <th>218</th>\n      <td>CLOSED_AMT_CREDIT_SUM_OVERDUE_MAX</td>\n      <td>0.000004</td>\n      <td>0.242572</td>\n      <td>218</td>\n      <td>221</td>\n    </tr>\n    <tr>\n      <th>219</th>\n      <td>CLOSED_CREDIT_DAY_OVERDUE_MEAN</td>\n      <td>0.000003</td>\n      <td>0.040561</td>\n      <td>219</td>\n      <td>84</td>\n    </tr>\n    <tr>\n      <th>220</th>\n      <td>NAME_INCOME_TYPE_NAME_INCOME_TYPE_divers</td>\n      <td>0.000002</td>\n      <td>0.016607</td>\n      <td>220</td>\n      <td>136</td>\n    </tr>\n    <tr>\n      <th>221</th>\n      <td>NAME_FAMILY_STATUS_NAME_FAMILY_STATUS_divers</td>\n      <td>0.000000</td>\n      <td>0.000533</td>\n      <td>221</td>\n      <td>157</td>\n    </tr>\n    <tr>\n      <th>222</th>\n      <td>FLAG_MOBIL</td>\n      <td>0.000000</td>\n      <td>0.000000</td>\n      <td>222</td>\n      <td>222</td>\n    </tr>\n  </tbody>\n</table>\n<p>223 rows × 5 columns</p>\n</div>"
     },
     "execution_count": 11,
     "metadata": {},
     "output_type": "execute_result"
    }
   ],
   "source": [
    "sdf.sort_values(by=['rf_poids'], ascending=False)"
   ],
   "metadata": {
    "collapsed": false,
    "ExecuteTime": {
     "start_time": "2023-06-07T17:12:50.638664Z",
     "end_time": "2023-06-07T17:12:50.679673Z"
    }
   }
  },
  {
   "cell_type": "code",
   "execution_count": 12,
   "outputs": [],
   "source": [
    "common_feat = sdf[(sdf['rforder']<50) & (sdf['lrorder']<50)]"
   ],
   "metadata": {
    "collapsed": false,
    "ExecuteTime": {
     "start_time": "2023-06-07T17:12:50.643264Z",
     "end_time": "2023-06-07T17:12:50.700114Z"
    }
   }
  },
  {
   "cell_type": "code",
   "execution_count": 13,
   "outputs": [
    {
     "data": {
      "text/plain": "['ACTIVE_DAYS_CREDIT_MEAN',\n 'REGION_POPULATION_RELATIVE',\n 'CLOSED_DAYS_CREDIT_MEAN',\n 'ACTIVE_AMT_CREDIT_SUM_DEBT_MEAN',\n 'APPROVED_AMT_DOWN_PAYMENT_MEAN']"
     },
     "execution_count": 13,
     "metadata": {},
     "output_type": "execute_result"
    }
   ],
   "source": [
    "[feat for feat in common_feat['feature'].values.tolist() if feat not in feat_rf_new['feature'].values.tolist()]"
   ],
   "metadata": {
    "collapsed": false,
    "ExecuteTime": {
     "start_time": "2023-06-07T17:12:50.657390Z",
     "end_time": "2023-06-07T17:12:50.783842Z"
    }
   }
  },
  {
   "cell_type": "markdown",
   "source": [
    "# Etude correlation\n",
    "15 top features des deux modeles"
   ],
   "metadata": {
    "collapsed": false
   }
  },
  {
   "cell_type": "code",
   "execution_count": 14,
   "outputs": [
    {
     "name": "stdout",
     "output_type": "stream",
     "text": [
      "Loaded dataframe shape :  (307511, 122)\n",
      "Forme initiale du Dataframe :  (307511, 122)\n"
     ]
    },
    {
     "name": "stderr",
     "output_type": "stream",
     "text": [
      "/home/maximorose/git_repositories/cln_oc_p07/outils_feature_engineering_810.py:51: SettingWithCopyWarning: \n",
      "A value is trying to be set on a copy of a slice from a DataFrame\n",
      "\n",
      "See the caveats in the documentation: https://pandas.pydata.org/pandas-docs/stable/user_guide/indexing.html#returning-a-view-versus-a-copy\n",
      "  res_df.drop(columns=['taux_nan'], inplace=True)\n",
      "/home/maximorose/git_repositories/cln_oc_p07/mbr_kernel.py:179: SettingWithCopyWarning: \n",
      "A value is trying to be set on a copy of a slice from a DataFrame\n",
      "\n",
      "See the caveats in the documentation: https://pandas.pydata.org/pandas-docs/stable/user_guide/indexing.html#returning-a-view-versus-a-copy\n",
      "  df.loc[:, 'DAYS_EMPLOYED'].replace(365243, np.nan, inplace=True)\n",
      "/home/maximorose/git_repositories/cln_oc_p07/mbr_kernel.py:186: SettingWithCopyWarning: \n",
      "A value is trying to be set on a copy of a slice from a DataFrame\n",
      "\n",
      "See the caveats in the documentation: https://pandas.pydata.org/pandas-docs/stable/user_guide/indexing.html#returning-a-view-versus-a-copy\n",
      "  df.drop(columns=['FLAG_OWN_CAR', 'FLAG_OWN_REALTY'], inplace=True)\n",
      "/home/maximorose/git_repositories/cln_oc_p07/mbr_kernel.py:195: SettingWithCopyWarning: \n",
      "A value is trying to be set on a copy of a slice from a DataFrame.\n",
      "Try using .loc[row_indexer,col_indexer] = value instead\n",
      "\n",
      "See the caveats in the documentation: https://pandas.pydata.org/pandas-docs/stable/user_guide/indexing.html#returning-a-view-versus-a-copy\n",
      "  df.loc[:, 'CREDIT_TO_ANNUITY_RATIO'] = df['AMT_CREDIT'] / df['AMT_ANNUITY']\n",
      "/home/maximorose/git_repositories/cln_oc_p07/mbr_kernel.py:196: SettingWithCopyWarning: \n",
      "A value is trying to be set on a copy of a slice from a DataFrame.\n",
      "Try using .loc[row_indexer,col_indexer] = value instead\n",
      "\n",
      "See the caveats in the documentation: https://pandas.pydata.org/pandas-docs/stable/user_guide/indexing.html#returning-a-view-versus-a-copy\n",
      "  df.loc[:, 'CREDIT_TO_GOODS_RATIO'] = df['AMT_CREDIT'] / df['AMT_GOODS_PRICE']\n",
      "/home/maximorose/git_repositories/cln_oc_p07/mbr_kernel.py:198: SettingWithCopyWarning: \n",
      "A value is trying to be set on a copy of a slice from a DataFrame.\n",
      "Try using .loc[row_indexer,col_indexer] = value instead\n",
      "\n",
      "See the caveats in the documentation: https://pandas.pydata.org/pandas-docs/stable/user_guide/indexing.html#returning-a-view-versus-a-copy\n",
      "  df.loc[:, 'ANNUITY_TO_INCOME_RATIO'] = df['AMT_ANNUITY'] / df['AMT_INCOME_TOTAL']\n",
      "/home/maximorose/git_repositories/cln_oc_p07/mbr_kernel.py:201: SettingWithCopyWarning: \n",
      "A value is trying to be set on a copy of a slice from a DataFrame.\n",
      "Try using .loc[row_indexer,col_indexer] = value instead\n",
      "\n",
      "See the caveats in the documentation: https://pandas.pydata.org/pandas-docs/stable/user_guide/indexing.html#returning-a-view-versus-a-copy\n",
      "  df.loc[:, 'INCOME_TO_EMPLOYED_RATIO'] = df['AMT_INCOME_TOTAL'] / df['DAYS_EMPLOYED']\n",
      "/home/maximorose/git_repositories/cln_oc_p07/mbr_kernel.py:202: SettingWithCopyWarning: \n",
      "A value is trying to be set on a copy of a slice from a DataFrame.\n",
      "Try using .loc[row_indexer,col_indexer] = value instead\n",
      "\n",
      "See the caveats in the documentation: https://pandas.pydata.org/pandas-docs/stable/user_guide/indexing.html#returning-a-view-versus-a-copy\n",
      "  df.loc[:, 'INCOME_TO_BIRTH_RATIO'] = df['AMT_INCOME_TOTAL'] / df['DAYS_BIRTH']\n"
     ]
    },
    {
     "name": "stdout",
     "output_type": "stream",
     "text": [
      "Forme du Dataframe apres traitement :  (219656, 122)\n",
      "\n",
      "Application dataframe shape:  (219656, 17)\n",
      "application processing - done in 1s\n",
      "Forme initiale du Dataframe :  (1716428, 17)\n",
      "Forme du Dataframe apres traitement :  (1716428, 17)\n",
      "Bureau dataframe shape:  (305811, 8)\n",
      "Bureau and bureau_balance processing - done in 12s\n",
      "Forme initiale du Dataframe :  (1670214, 37)\n"
     ]
    },
    {
     "name": "stderr",
     "output_type": "stream",
     "text": [
      "/home/maximorose/git_repositories/cln_oc_p07/outils_feature_engineering_810.py:51: SettingWithCopyWarning: \n",
      "A value is trying to be set on a copy of a slice from a DataFrame\n",
      "\n",
      "See the caveats in the documentation: https://pandas.pydata.org/pandas-docs/stable/user_guide/indexing.html#returning-a-view-versus-a-copy\n",
      "  res_df.drop(columns=['taux_nan'], inplace=True)\n"
     ]
    },
    {
     "name": "stdout",
     "output_type": "stream",
     "text": [
      "Forme du Dataframe apres traitement :  (1234578, 37)\n",
      "Forme initiale du Dataframe :  (13605401, 8)\n",
      "Forme du Dataframe apres traitement :  (13605401, 8)\n",
      "Previous Application dataframe shape:  (338308, 12)\n",
      "Previous application processing - done in 39s\n",
      "Pos-Cash dataframe shape:  (337252, 3)\n",
      "Pos-Cash processing - done in 8s\n",
      "Installement dataframe shape:  (339587, 7)\n",
      "Installment processing - done in 31s\n",
      "CC dataframe shape:  (103558, 6)\n",
      "CC processing - done in 10s\n"
     ]
    }
   ],
   "source": [
    "import mbr_kernel as mkn\n",
    "\n",
    "GIT_FOLDER = './'\n",
    "INPUT_FOLDER = GIT_FOLDER + 'input_data/'\n",
    "\n",
    "df_train = pd.read_csv('./input_data/application_train.csv')\n",
    "print(\"Loaded dataframe shape : \", df_train.shape)\n",
    "df = mkn.full_feature_engineering(df_input=df_train, df_folder=INPUT_FOLDER,encoding_treshold=0.04, nan_treshold=0.4)"
   ],
   "metadata": {
    "collapsed": false,
    "ExecuteTime": {
     "start_time": "2023-06-07T17:12:50.698481Z",
     "end_time": "2023-06-07T17:14:34.957842Z"
    }
   }
  },
  {
   "cell_type": "code",
   "execution_count": 15,
   "outputs": [
    {
     "data": {
      "text/plain": "   SK_ID_CURR  AMT_ANNUITY  DAYS_BIRTH  DAYS_EMPLOYED  DAYS_ID_PUBLISH  \\\n0   -1.733018    -0.221432    1.469844       0.761176         0.569747   \n1   -1.733008     0.516461   -0.259450       0.509543         1.780743   \n\n   REGION_RATING_CLIENT_W_CITY  HOUR_APPR_PROCESS_START  EXT_SOURCE_1  \\\n0                     0.011708                -0.676501     -2.771432   \n1                    -1.935112                -0.372892     -1.267103   \n\n   EXT_SOURCE_2  EXT_SOURCE_3  ...  INSTAL_PAYMENT_DIFF_MEAN  \\\n0     -1.426540     -2.058712  ...                  0.074077   \n1      0.500434      0.113067  ...                  0.074077   \n\n   INSTAL_AMT_PAYMENT_MEAN  INSTAL_DAYS_ENTRY_PAYMENT_MEAN  INSTAL_COUNT  \\\n0                -0.287737                        1.065073     -0.509010   \n1                 1.761740                       -0.778501     -0.360101   \n\n   CC_MONTHS_BALANCE_MEAN  CC_AMT_BALANCE_MEAN  CC_CNT_DRAWINGS_CURRENT_MEAN  \\\n0                0.224515            -0.210799                     -0.185977   \n1                0.224515            -0.210799                     -0.185977   \n\n   CC_LIMIT_USE_MEAN  CC_LATE_PAYMENT_MEAN  CC_DRAWING_LIMIT_RATIO_MEAN  \n0          -0.125349              -0.13924                    -0.120657  \n1          -0.125349              -0.13924                    -0.120657  \n\n[2 rows x 52 columns]",
      "text/html": "<div>\n<style scoped>\n    .dataframe tbody tr th:only-of-type {\n        vertical-align: middle;\n    }\n\n    .dataframe tbody tr th {\n        vertical-align: top;\n    }\n\n    .dataframe thead th {\n        text-align: right;\n    }\n</style>\n<table border=\"1\" class=\"dataframe\">\n  <thead>\n    <tr style=\"text-align: right;\">\n      <th></th>\n      <th>SK_ID_CURR</th>\n      <th>AMT_ANNUITY</th>\n      <th>DAYS_BIRTH</th>\n      <th>DAYS_EMPLOYED</th>\n      <th>DAYS_ID_PUBLISH</th>\n      <th>REGION_RATING_CLIENT_W_CITY</th>\n      <th>HOUR_APPR_PROCESS_START</th>\n      <th>EXT_SOURCE_1</th>\n      <th>EXT_SOURCE_2</th>\n      <th>EXT_SOURCE_3</th>\n      <th>...</th>\n      <th>INSTAL_PAYMENT_DIFF_MEAN</th>\n      <th>INSTAL_AMT_PAYMENT_MEAN</th>\n      <th>INSTAL_DAYS_ENTRY_PAYMENT_MEAN</th>\n      <th>INSTAL_COUNT</th>\n      <th>CC_MONTHS_BALANCE_MEAN</th>\n      <th>CC_AMT_BALANCE_MEAN</th>\n      <th>CC_CNT_DRAWINGS_CURRENT_MEAN</th>\n      <th>CC_LIMIT_USE_MEAN</th>\n      <th>CC_LATE_PAYMENT_MEAN</th>\n      <th>CC_DRAWING_LIMIT_RATIO_MEAN</th>\n    </tr>\n  </thead>\n  <tbody>\n    <tr>\n      <th>0</th>\n      <td>-1.733018</td>\n      <td>-0.221432</td>\n      <td>1.469844</td>\n      <td>0.761176</td>\n      <td>0.569747</td>\n      <td>0.011708</td>\n      <td>-0.676501</td>\n      <td>-2.771432</td>\n      <td>-1.426540</td>\n      <td>-2.058712</td>\n      <td>...</td>\n      <td>0.074077</td>\n      <td>-0.287737</td>\n      <td>1.065073</td>\n      <td>-0.509010</td>\n      <td>0.224515</td>\n      <td>-0.210799</td>\n      <td>-0.185977</td>\n      <td>-0.125349</td>\n      <td>-0.13924</td>\n      <td>-0.120657</td>\n    </tr>\n    <tr>\n      <th>1</th>\n      <td>-1.733008</td>\n      <td>0.516461</td>\n      <td>-0.259450</td>\n      <td>0.509543</td>\n      <td>1.780743</td>\n      <td>-1.935112</td>\n      <td>-0.372892</td>\n      <td>-1.267103</td>\n      <td>0.500434</td>\n      <td>0.113067</td>\n      <td>...</td>\n      <td>0.074077</td>\n      <td>1.761740</td>\n      <td>-0.778501</td>\n      <td>-0.360101</td>\n      <td>0.224515</td>\n      <td>-0.210799</td>\n      <td>-0.185977</td>\n      <td>-0.125349</td>\n      <td>-0.13924</td>\n      <td>-0.120657</td>\n    </tr>\n  </tbody>\n</table>\n<p>2 rows × 52 columns</p>\n</div>"
     },
     "execution_count": 15,
     "metadata": {},
     "output_type": "execute_result"
    }
   ],
   "source": [
    "from sklearn.impute import SimpleImputer\n",
    "from sklearn.preprocessing import StandardScaler\n",
    "\n",
    "imputer = SimpleImputer(missing_values=np.nan, strategy='median')\n",
    "scaler = StandardScaler()\n",
    "\n",
    "X = df.drop(columns = ['TARGET'])\n",
    "y = df['TARGET']\n",
    "\n",
    "imputer = SimpleImputer(missing_values=np.nan, strategy='median')\n",
    "X_imp = imputer.fit_transform(X)\n",
    "\n",
    "scaler = StandardScaler()\n",
    "X_sc = scaler.fit_transform(X_imp)\n",
    "\n",
    "X = pd.DataFrame(X_sc, columns=X.columns.tolist())\n",
    "\n",
    "X.head(2)"
   ],
   "metadata": {
    "collapsed": false,
    "ExecuteTime": {
     "start_time": "2023-06-07T17:14:34.956744Z",
     "end_time": "2023-06-07T17:14:37.397156Z"
    }
   }
  },
  {
   "cell_type": "code",
   "execution_count": 16,
   "outputs": [
    {
     "ename": "ModuleNotFoundError",
     "evalue": "No module named 'utilitaires_810'",
     "output_type": "error",
     "traceback": [
      "\u001B[0;31m---------------------------------------------------------------------------\u001B[0m",
      "\u001B[0;31mModuleNotFoundError\u001B[0m                       Traceback (most recent call last)",
      "Cell \u001B[0;32mIn[16], line 1\u001B[0m\n\u001B[0;32m----> 1\u001B[0m \u001B[38;5;28;01mimport\u001B[39;00m \u001B[38;5;21;01mutilitaires_810\u001B[39;00m \u001B[38;5;28;01mas\u001B[39;00m \u001B[38;5;21;01mu810\u001B[39;00m\n\u001B[1;32m      2\u001B[0m \u001B[38;5;66;03m# smdf = X\u001B[39;00m\n\u001B[1;32m      3\u001B[0m \u001B[38;5;66;03m# smdf['TARGET'] = y\u001B[39;00m\n\u001B[1;32m      4\u001B[0m corrmat \u001B[38;5;241m=\u001B[39m X\u001B[38;5;241m.\u001B[39mcorr()\n",
      "\u001B[0;31mModuleNotFoundError\u001B[0m: No module named 'utilitaires_810'"
     ]
    }
   ],
   "source": [
    "import utilitaires_810 as u810\n",
    "# smdf = X\n",
    "# smdf['TARGET'] = y\n",
    "corrmat = X.corr()\n",
    "u810.display_corrmat(corrmat, annot=False)"
   ],
   "metadata": {
    "collapsed": false,
    "ExecuteTime": {
     "start_time": "2023-06-05T12:16:33.464025Z",
     "end_time": "2023-06-05T12:16:35.881019Z"
    }
   }
  },
  {
   "cell_type": "markdown",
   "source": [
    "# rf<50 & lr<50"
   ],
   "metadata": {
    "collapsed": false
   }
  },
  {
   "cell_type": "code",
   "execution_count": null,
   "outputs": [],
   "source": [
    "sub_X = X[sdf[(sdf['rforder']<50) & (sdf['lrorder']<50)]['feature'].values.tolist()]\n",
    "sub_X.shape"
   ],
   "metadata": {
    "collapsed": false,
    "ExecuteTime": {
     "start_time": "2023-06-04T02:28:00.007845Z",
     "end_time": "2023-06-04T02:28:00.010928Z"
    }
   }
  },
  {
   "cell_type": "code",
   "execution_count": null,
   "outputs": [],
   "source": [
    "import utilitaires_810 as u810\n",
    "\n",
    "df_y = sub_X\n",
    "df_y['TARGET'] = y\n",
    "corrmat = df_y.corr()\n",
    "u810.display_corrmat(corrmat)"
   ],
   "metadata": {
    "collapsed": false,
    "ExecuteTime": {
     "start_time": "2023-06-04T02:28:00.055719Z",
     "end_time": "2023-06-04T02:28:00.715016Z"
    }
   }
  },
  {
   "cell_type": "code",
   "execution_count": null,
   "outputs": [],
   "source": [
    "to_remove = ['REFUSED_DAYS_DECISION_MEAN', 'REGION_POPULATION_RELATIVE']\n",
    "to_keep_list = [col for col in sdf[(sdf['rforder']<50) & (sdf['lrorder']<50)]['feature'].values.tolist() if col not in to_remove]\n",
    "len(to_keep_list)"
   ],
   "metadata": {
    "collapsed": false,
    "ExecuteTime": {
     "start_time": "2023-06-04T02:28:00.714548Z",
     "end_time": "2023-06-04T02:28:00.715168Z"
    }
   }
  },
  {
   "cell_type": "markdown",
   "source": [
    "# rf<50 & lr>50"
   ],
   "metadata": {
    "collapsed": false
   }
  },
  {
   "cell_type": "code",
   "execution_count": null,
   "outputs": [],
   "source": [
    "masked_df = sdf[(sdf['rforder']<50) & (sdf['lrorder']>50)]\n",
    "print(\"shape masked df : \", masked_df.shape)\n",
    "wip_feature = [col for col in masked_df['feature'].values.tolist() if (col not in to_remove)|(col not in to_keep_list)]\n",
    "print(wip_feature)\n",
    "len(wip_feature)"
   ],
   "metadata": {
    "collapsed": false,
    "ExecuteTime": {
     "start_time": "2023-06-04T02:28:00.716319Z",
     "end_time": "2023-06-04T02:28:00.726922Z"
    }
   }
  },
  {
   "cell_type": "code",
   "execution_count": null,
   "outputs": [],
   "source": [
    "sub_X = X[wip_feature]\n",
    "sub_X.shape"
   ],
   "metadata": {
    "collapsed": false,
    "ExecuteTime": {
     "start_time": "2023-06-04T02:28:00.735184Z",
     "end_time": "2023-06-04T02:28:00.921289Z"
    }
   }
  },
  {
   "cell_type": "code",
   "execution_count": null,
   "outputs": [],
   "source": [
    "df_y = sub_X\n",
    "smdf = df_y.iloc[:, 30:40]\n",
    "smdf['TARGET'] = y\n",
    "corrmat = smdf.corr()\n",
    "u810.display_corrmat(corrmat)"
   ],
   "metadata": {
    "collapsed": false,
    "ExecuteTime": {
     "start_time": "2023-06-04T02:55:30.220853Z",
     "end_time": "2023-06-04T02:55:30.568947Z"
    }
   }
  },
  {
   "cell_type": "code",
   "execution_count": null,
   "outputs": [],
   "source": [
    "sdf[sdf['feature'].isin(['PREV_CHANNEL_TYPE_Credit and cash offices_MEAN', 'PREV_PRODUCT_COMBINATION_Cash_MEAN', 'LIVE_CITY_NOT_WORK_CITY','LIVE_REGION_NOT_WORK_REGION'])]"
   ],
   "metadata": {
    "collapsed": false,
    "ExecuteTime": {
     "start_time": "2023-06-04T03:14:57.238082Z",
     "end_time": "2023-06-04T03:14:57.280487Z"
    }
   }
  },
  {
   "cell_type": "code",
   "execution_count": null,
   "outputs": [],
   "source": [
    "[col for col in X.columns if \"BAD\" in col]"
   ],
   "metadata": {
    "collapsed": false,
    "ExecuteTime": {
     "start_time": "2023-06-04T02:57:49.776328Z",
     "end_time": "2023-06-04T02:57:49.788323Z"
    }
   }
  },
  {
   "cell_type": "code",
   "execution_count": null,
   "outputs": [],
   "source": [
    "prev = pd.read_csv('./input_data/previous_application.csv')"
   ],
   "metadata": {
    "collapsed": false,
    "ExecuteTime": {
     "start_time": "2023-06-04T03:17:11.556673Z",
     "end_time": "2023-06-04T03:17:16.671088Z"
    }
   }
  },
  {
   "cell_type": "code",
   "execution_count": null,
   "outputs": [],
   "source": [
    "prev['CHANNEL_TYPE'].value_counts()"
   ],
   "metadata": {
    "collapsed": false,
    "ExecuteTime": {
     "start_time": "2023-06-04T03:17:44.191850Z",
     "end_time": "2023-06-04T03:17:44.259117Z"
    }
   }
  },
  {
   "cell_type": "markdown",
   "source": [
    "# rf>50 & lf<50"
   ],
   "metadata": {
    "collapsed": false
   }
  },
  {
   "cell_type": "code",
   "execution_count": null,
   "outputs": [],
   "source": [
    "masked_df = sdf[(sdf['rforder']>50) & (sdf['lrorder']<50)]\n",
    "print(\"shape masked df : \", masked_df.shape)\n",
    "wip_feature = [col for col in masked_df['feature'].values.tolist() if (col not in to_remove)|(col not in to_keep_list)]\n",
    "print(wip_feature)\n",
    "len(wip_feature)"
   ],
   "metadata": {
    "collapsed": false,
    "ExecuteTime": {
     "start_time": "2023-06-04T02:59:30.491857Z",
     "end_time": "2023-06-04T02:59:30.536234Z"
    }
   }
  },
  {
   "cell_type": "code",
   "execution_count": null,
   "outputs": [],
   "source": [
    "sub_X = X[wip_feature]\n",
    "sub_X.shape"
   ],
   "metadata": {
    "collapsed": false,
    "ExecuteTime": {
     "start_time": "2023-06-04T02:59:51.714914Z",
     "end_time": "2023-06-04T02:59:51.730306Z"
    }
   }
  },
  {
   "cell_type": "code",
   "execution_count": null,
   "outputs": [],
   "source": [
    "df_y = sub_X\n",
    "smdf = df_y.iloc[:, 25:40]\n",
    "smdf['TARGET'] = y\n",
    "corrmat = smdf.corr()\n",
    "u810.display_corrmat(corrmat)"
   ],
   "metadata": {
    "collapsed": false,
    "ExecuteTime": {
     "start_time": "2023-06-04T03:10:10.757937Z",
     "end_time": "2023-06-04T03:10:11.305744Z"
    }
   }
  },
  {
   "cell_type": "code",
   "execution_count": null,
   "outputs": [],
   "source": [
    "df['PREV_CHANNEL_TYPE_Credit and cash offices_MEAN', 'PREV_PRODUCT_COMBINATION_Cash_MEAN', 'LIVE_CITY_NOT_WORK_CITY','LIVE_REGION_NOT_WORK_REGION']"
   ],
   "metadata": {
    "collapsed": false
   }
  },
  {
   "cell_type": "code",
   "execution_count": null,
   "outputs": [],
   "source": [],
   "metadata": {
    "collapsed": false
   }
  }
 ],
 "metadata": {
  "kernelspec": {
   "display_name": "Python 3",
   "language": "python",
   "name": "python3"
  },
  "language_info": {
   "codemirror_mode": {
    "name": "ipython",
    "version": 2
   },
   "file_extension": ".py",
   "mimetype": "text/x-python",
   "name": "python",
   "nbconvert_exporter": "python",
   "pygments_lexer": "ipython2",
   "version": "2.7.6"
  }
 },
 "nbformat": 4,
 "nbformat_minor": 0
}
