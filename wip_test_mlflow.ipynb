{
 "cells": [
  {
   "cell_type": "code",
   "execution_count": 2,
   "metadata": {
    "collapsed": true,
    "ExecuteTime": {
     "start_time": "2023-06-11T13:02:57.110611Z",
     "end_time": "2023-06-11T13:02:57.793231Z"
    }
   },
   "outputs": [],
   "source": [
    "import mlflow.pyfunc\n",
    "import pandas as pd\n",
    "import mbr_kernel as mkn\n",
    "from sklearn.model_selection import train_test_split\n",
    "\n",
    "NOM_MODELE_ML='Best_XGBoost_EXTvar_mkn'\n",
    "VERSION_MODEL = 1\n",
    "\n",
    "TEST_SIZE = 0.2\n",
    "RANDOM_STATE = 42"
   ]
  },
  {
   "cell_type": "code",
   "execution_count": 3,
   "outputs": [
    {
     "name": "stdout",
     "output_type": "stream",
     "text": [
      "Forme initiale du Dataframe :  (307511, 122)\n"
     ]
    },
    {
     "name": "stderr",
     "output_type": "stream",
     "text": [
      "/home/maximorose/git_repositories/cln_oc_p07/outils_feature_engineering_810.py:51: SettingWithCopyWarning: \n",
      "A value is trying to be set on a copy of a slice from a DataFrame\n",
      "\n",
      "See the caveats in the documentation: https://pandas.pydata.org/pandas-docs/stable/user_guide/indexing.html#returning-a-view-versus-a-copy\n",
      "  res_df.drop(columns=['taux_nan'], inplace=True)\n",
      "/home/maximorose/git_repositories/cln_oc_p07/mbr_kernel.py:179: SettingWithCopyWarning: \n",
      "A value is trying to be set on a copy of a slice from a DataFrame\n",
      "\n",
      "See the caveats in the documentation: https://pandas.pydata.org/pandas-docs/stable/user_guide/indexing.html#returning-a-view-versus-a-copy\n",
      "  df.loc[:, 'DAYS_EMPLOYED'].replace(365243, np.nan, inplace=True)\n",
      "/home/maximorose/git_repositories/cln_oc_p07/mbr_kernel.py:186: SettingWithCopyWarning: \n",
      "A value is trying to be set on a copy of a slice from a DataFrame\n",
      "\n",
      "See the caveats in the documentation: https://pandas.pydata.org/pandas-docs/stable/user_guide/indexing.html#returning-a-view-versus-a-copy\n",
      "  df.drop(columns=['FLAG_OWN_CAR', 'FLAG_OWN_REALTY'], inplace=True)\n",
      "/home/maximorose/git_repositories/cln_oc_p07/mbr_kernel.py:195: SettingWithCopyWarning: \n",
      "A value is trying to be set on a copy of a slice from a DataFrame.\n",
      "Try using .loc[row_indexer,col_indexer] = value instead\n",
      "\n",
      "See the caveats in the documentation: https://pandas.pydata.org/pandas-docs/stable/user_guide/indexing.html#returning-a-view-versus-a-copy\n",
      "  df.loc[:, 'CREDIT_TO_ANNUITY_RATIO'] = df['AMT_CREDIT'] / df['AMT_ANNUITY']\n",
      "/home/maximorose/git_repositories/cln_oc_p07/mbr_kernel.py:196: SettingWithCopyWarning: \n",
      "A value is trying to be set on a copy of a slice from a DataFrame.\n",
      "Try using .loc[row_indexer,col_indexer] = value instead\n",
      "\n",
      "See the caveats in the documentation: https://pandas.pydata.org/pandas-docs/stable/user_guide/indexing.html#returning-a-view-versus-a-copy\n",
      "  df.loc[:, 'CREDIT_TO_GOODS_RATIO'] = df['AMT_CREDIT'] / df['AMT_GOODS_PRICE']\n",
      "/home/maximorose/git_repositories/cln_oc_p07/mbr_kernel.py:198: SettingWithCopyWarning: \n",
      "A value is trying to be set on a copy of a slice from a DataFrame.\n",
      "Try using .loc[row_indexer,col_indexer] = value instead\n",
      "\n",
      "See the caveats in the documentation: https://pandas.pydata.org/pandas-docs/stable/user_guide/indexing.html#returning-a-view-versus-a-copy\n",
      "  df.loc[:, 'ANNUITY_TO_INCOME_RATIO'] = df['AMT_ANNUITY'] / df['AMT_INCOME_TOTAL']\n",
      "/home/maximorose/git_repositories/cln_oc_p07/mbr_kernel.py:201: SettingWithCopyWarning: \n",
      "A value is trying to be set on a copy of a slice from a DataFrame.\n",
      "Try using .loc[row_indexer,col_indexer] = value instead\n",
      "\n",
      "See the caveats in the documentation: https://pandas.pydata.org/pandas-docs/stable/user_guide/indexing.html#returning-a-view-versus-a-copy\n",
      "  df.loc[:, 'INCOME_TO_EMPLOYED_RATIO'] = df['AMT_INCOME_TOTAL'] / df['DAYS_EMPLOYED']\n",
      "/home/maximorose/git_repositories/cln_oc_p07/mbr_kernel.py:202: SettingWithCopyWarning: \n",
      "A value is trying to be set on a copy of a slice from a DataFrame.\n",
      "Try using .loc[row_indexer,col_indexer] = value instead\n",
      "\n",
      "See the caveats in the documentation: https://pandas.pydata.org/pandas-docs/stable/user_guide/indexing.html#returning-a-view-versus-a-copy\n",
      "  df.loc[:, 'INCOME_TO_BIRTH_RATIO'] = df['AMT_INCOME_TOTAL'] / df['DAYS_BIRTH']\n"
     ]
    },
    {
     "name": "stdout",
     "output_type": "stream",
     "text": [
      "Forme du Dataframe apres traitement :  (219656, 122)\n",
      "\n",
      "Application dataframe shape:  (219656, 17)\n",
      "application processing - done in 1s\n",
      "Forme initiale du Dataframe :  (1716428, 17)\n",
      "Forme du Dataframe apres traitement :  (1716428, 17)\n",
      "Bureau dataframe shape:  (305811, 8)\n",
      "Bureau and bureau_balance processing - done in 7s\n",
      "Forme initiale du Dataframe :  (1670214, 37)\n"
     ]
    },
    {
     "name": "stderr",
     "output_type": "stream",
     "text": [
      "/home/maximorose/git_repositories/cln_oc_p07/outils_feature_engineering_810.py:51: SettingWithCopyWarning: \n",
      "A value is trying to be set on a copy of a slice from a DataFrame\n",
      "\n",
      "See the caveats in the documentation: https://pandas.pydata.org/pandas-docs/stable/user_guide/indexing.html#returning-a-view-versus-a-copy\n",
      "  res_df.drop(columns=['taux_nan'], inplace=True)\n"
     ]
    },
    {
     "name": "stdout",
     "output_type": "stream",
     "text": [
      "Forme du Dataframe apres traitement :  (1234578, 37)\n",
      "Forme initiale du Dataframe :  (13605401, 8)\n",
      "Forme du Dataframe apres traitement :  (13605401, 8)\n",
      "Previous Application dataframe shape:  (338308, 12)\n",
      "Previous application processing - done in 23s\n",
      "Pos-Cash dataframe shape:  (337252, 3)\n",
      "Pos-Cash processing - done in 5s\n",
      "Installement dataframe shape:  (339587, 7)\n",
      "Installment processing - done in 14s\n",
      "CC dataframe shape:  (103558, 6)\n",
      "CC processing - done in 6s\n",
      "X_train : (175724, 51) // X_test : (43932, 51)\n",
      "y_train : (175724,) // y_test : (43932,)\n"
     ]
    }
   ],
   "source": [
    "df_train = pd.read_csv('./input_data/application_train.csv')\n",
    "df = mkn.full_feature_engineering(df_input=df_train, df_folder='./input_data/',encoding_treshold=0.04, nan_treshold=0.4)\n",
    "X = df.drop(columns = ['SK_ID_CURR', 'TARGET'])\n",
    "y = df['TARGET']\n",
    "\n",
    "X_train, X_test, y_train, y_test = train_test_split(X, y, test_size=TEST_SIZE, random_state=RANDOM_STATE, stratify=y)\n",
    "print(f\"X_train : {X_train.shape} // X_test : {X_test.shape}\")\n",
    "print(f\"y_train : {y_train.shape} // y_test : {y_test.shape}\")"
   ],
   "metadata": {
    "collapsed": false,
    "ExecuteTime": {
     "start_time": "2023-06-11T13:03:00.469465Z",
     "end_time": "2023-06-11T13:03:58.374008Z"
    }
   }
  },
  {
   "cell_type": "markdown",
   "source": [
    "# Transitioning model stages\n",
    "\n",
    "cf [ici](https://mlflow.org/docs/latest/model-registry.html#transitioning-an-mlflow-models-stage)"
   ],
   "metadata": {
    "collapsed": false
   }
  },
  {
   "cell_type": "code",
   "execution_count": 11,
   "outputs": [],
   "source": [
    "from mlflow import MlflowClient"
   ],
   "metadata": {
    "collapsed": false,
    "ExecuteTime": {
     "start_time": "2023-06-11T13:30:05.159012Z",
     "end_time": "2023-06-11T13:30:05.200249Z"
    }
   }
  },
  {
   "cell_type": "code",
   "execution_count": 10,
   "outputs": [
    {
     "data": {
      "text/plain": "<ModelVersion: aliases=[], creation_timestamp=1686392839285, current_stage='Staging', description='', last_updated_timestamp=1686482034313, name='Best_XGBoost_EXTvar_mkn', run_id='188275be980b4b8c82916f2352755dae', run_link='', source='file:///home/maximorose/git_repositories/cln_oc_p07/mlruns/0/188275be980b4b8c82916f2352755dae/artifacts/XGBoost', status='READY', status_message=None, tags={}, user_id=None, version=1>"
     },
     "execution_count": 10,
     "metadata": {},
     "output_type": "execute_result"
    }
   ],
   "source": [
    "# client = MlflowClient()\n",
    "# client.transition_model_version_stage(\n",
    "#     name=NOM_MODELE_ML, version=VERSION_MODEL, stage=\"Staging\"\n",
    "# )"
   ],
   "metadata": {
    "collapsed": false,
    "ExecuteTime": {
     "start_time": "2023-06-11T13:13:54.315013Z",
     "end_time": "2023-06-11T13:13:54.356060Z"
    }
   }
  },
  {
   "cell_type": "markdown",
   "source": [
    "# Fetching model\n",
    "\n",
    "Source : [ici](https://mlflow.org/docs/latest/model-registry.html#id8)\n",
    "\n",
    "## 1. by version ref'"
   ],
   "metadata": {
    "collapsed": false
   }
  },
  {
   "cell_type": "code",
   "execution_count": 7,
   "outputs": [],
   "source": [
    "model_name = NOM_MODELE_ML\n",
    "model_version = VERSION_MODEL\n",
    "\n",
    "model = mlflow.pyfunc.load_model(model_uri=f\"models:/{model_name}/{model_version}\")"
   ],
   "metadata": {
    "collapsed": false,
    "ExecuteTime": {
     "start_time": "2023-06-11T13:05:36.358437Z",
     "end_time": "2023-06-11T13:05:36.401778Z"
    }
   }
  },
  {
   "cell_type": "markdown",
   "source": [
    "## 2. by stage"
   ],
   "metadata": {
    "collapsed": false
   }
  },
  {
   "cell_type": "code",
   "execution_count": null,
   "outputs": [],
   "source": [
    "possible_stages = ['Staging', 'Production']\n",
    "model_name = NOM_MODELE_ML\n",
    "stage =possible_stages[0]\n",
    "\n",
    "model = mlflow.pyfunc.load_model(model_uri=f\"models:/{model_name}/{stage}\")"
   ],
   "metadata": {
    "collapsed": false
   }
  },
  {
   "cell_type": "markdown",
   "source": [
    "# Serving model\n",
    "\n",
    "__N.B :__ Necessite le demarrage preablable de MLFlow\n",
    "\n",
    "From Terminal :\n",
    "- Set environment variable for the tracking URL where the Model Registry resides\n",
    "- pyenv for version management related to flavors\n",
    "- Call serving function and specify port to avoid exception\n",
    "\n",
    "\n",
    "`export MLFLOW_TRACKING_URI=http://localhost:5000`\n",
    "\n",
    "`export PATH=\"$HOME/.pyenv/bin:$PATH\"`\n",
    "\n",
    "`mlflow models serve -m \"models:/Best_XGBoost_EXTvar_mkn/Staging\" -p 5001`\n",
    "\n",
    "\n",
    "Apres quoi, le terminal affichera l'URI pour appeler le model :\n",
    "`http://127.0.0.1:5001`\n"
   ],
   "metadata": {
    "collapsed": false
   }
  },
  {
   "cell_type": "code",
   "execution_count": null,
   "outputs": [],
   "source": [],
   "metadata": {
    "collapsed": false
   }
  }
 ],
 "metadata": {
  "kernelspec": {
   "display_name": "Python 3",
   "language": "python",
   "name": "python3"
  },
  "language_info": {
   "codemirror_mode": {
    "name": "ipython",
    "version": 2
   },
   "file_extension": ".py",
   "mimetype": "text/x-python",
   "name": "python",
   "nbconvert_exporter": "python",
   "pygments_lexer": "ipython2",
   "version": "2.7.6"
  }
 },
 "nbformat": 4,
 "nbformat_minor": 0
}
