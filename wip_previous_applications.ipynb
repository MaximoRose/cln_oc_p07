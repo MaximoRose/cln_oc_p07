{
 "cells": [
  {
   "cell_type": "code",
   "execution_count": 9,
   "metadata": {
    "collapsed": true,
    "ExecuteTime": {
     "start_time": "2023-06-05T11:54:59.124952Z",
     "end_time": "2023-06-05T11:54:59.170862Z"
    }
   },
   "outputs": [],
   "source": [
    "import pandas as pd\n",
    "import numpy as np\n",
    "import utilitaires_810 as u810\n",
    "import gc\n",
    "\n",
    "DEFAULT_CATEGORY_MEAN_FREQ = 0.03\n",
    "DEFAULT_EMPTY_FEAT_TRESHOLD_FOR_ROW = 0.4"
   ]
  },
  {
   "cell_type": "markdown",
   "source": [
    "# PREVIOUS APP"
   ],
   "metadata": {
    "collapsed": false
   }
  },
  {
   "cell_type": "code",
   "execution_count": 10,
   "outputs": [],
   "source": [
    "og = pd.read_csv('./input_data/previous_application.csv')"
   ],
   "metadata": {
    "collapsed": false,
    "ExecuteTime": {
     "start_time": "2023-06-05T11:54:59.169811Z",
     "end_time": "2023-06-05T11:55:03.249732Z"
    }
   }
  },
  {
   "cell_type": "code",
   "execution_count": 11,
   "outputs": [
    {
     "data": {
      "text/plain": "Approved        1036781\nCanceled         316319\nRefused          290678\nUnused offer      26436\nName: NAME_CONTRACT_STATUS, dtype: int64"
     },
     "execution_count": 11,
     "metadata": {},
     "output_type": "execute_result"
    }
   ],
   "source": [
    "og['NAME_CONTRACT_STATUS'].value_counts()"
   ],
   "metadata": {
    "collapsed": false,
    "ExecuteTime": {
     "start_time": "2023-06-05T11:55:03.308025Z",
     "end_time": "2023-06-05T11:55:03.353029Z"
    }
   }
  },
  {
   "cell_type": "code",
   "execution_count": 15,
   "outputs": [],
   "source": [
    "def previous_applications(num_rows=None, nan_as_category=False, path='./input_data/',\n",
    "                          encoding_treshold=DEFAULT_CATEGORY_MEAN_FREQ,\n",
    "                          nan_treshold=DEFAULT_EMPTY_FEAT_TRESHOLD_FOR_ROW):\n",
    "    features_torem = ['WEEKDAY_APPR_PROCESS_START',\n",
    "                      'NAME_TYPE_SUITE',  # On ne doit pas prendre en compte cet element\n",
    "                      'NAME_GOODS_CATEGORY',  # Peu importe ce que la personne a achete precedemment\n",
    "                      'CODE_REJECT_REASON',  # Apporte peu d'info mais ajoute 9 features + aggregation\n",
    "                      'DAYS_DECISION',\n",
    "                      # I dont see the connection between a decision we made and a demand they make (logreg doest care (212) while RF does (35) + highly correlated to INSTALL_DAYS_ENTRY_PAYMENT ...\n",
    "                      'CHANNEL_TYPE',\n",
    "                      # Peu d'interet de connaitre le canal d'acquisition, alors que ce va nous rajouter des colonnes en dummyfiant\n",
    "                      'NAME_CONTRACT_TYPE',  # Cree des colonnes additionnelles tres correlees\n",
    "                      'NAME_PRODUCT_TYPE',  # Je ne vois pas l'interet et ca ajoute des colonnes\n",
    "                      'NAME_SELLER_INDUSTRY',  # Peu d'interet. Patronizing\n",
    "                      'FLAG_LAST_APPL_PER_CONTRACT', # Peu d'interet alors que ca cree beaucoup de colonnes\n",
    "                      'NAME_CASH_LOAN_PURPOSE', # TMI\n",
    "                      'NAME_PAYMENT_TYPE', # tmi\n",
    "                      'NAME_CLIENT_TYPE', # Ne doit pas entrer en ligne de compte pour accorder un pret\n",
    "                      'NAME_PORTFOLIO',\n",
    "                      'PRODUCT_COMBINATION', # Beaucoup de categories et peu d'infos\n",
    "                      'HOUR_APPR_PROCESS_START'\n",
    "                      ]\n",
    "    prev = pd.read_csv(path + 'previous_application.csv', nrows=num_rows)\n",
    "    prev = u810.remove_too_nany_observations(prev)\n",
    "    install = pd.read_csv(path + 'installments_payments.csv', nrows=num_rows)\n",
    "    install = u810.remove_too_nany_observations(install)\n",
    "\n",
    "    # Pas d'interet de conserver les demarches abandonnees, elles faussent nos indicateurs\n",
    "    prev = prev[(prev['NAME_CONTRACT_STATUS']!='Canceled') & (prev['NAME_CONTRACT_STATUS']!='Unused offer')]\n",
    "\n",
    "    prev.loc[:, 'YIELD_GROUP_HIGH'] = 0\n",
    "    prev.loc[prev['NAME_YIELD_GROUP'] == 'high', 'YIELD_GROUP_HIGH'] = 1\n",
    "    prev.drop(columns=['NAME_YIELD_GROUP'], inplace=True)\n",
    "\n",
    "    # Feature engineering: ratios and difference\n",
    "    prev['APP_CREDIT_PERC'] = prev['AMT_APPLICATION'] / prev['AMT_CREDIT']\n",
    "    prev['CREDIT_TO_ANNUITY_RATIO'] = prev['AMT_CREDIT'] / prev['AMT_ANNUITY']\n",
    "    prev['DOWN_PAYMENT_TO_CREDIT'] = prev['AMT_DOWN_PAYMENT'] / prev['AMT_CREDIT']\n",
    "\n",
    "    # Interest ratio on previous application (simplified)\n",
    "    total_payment = prev['AMT_ANNUITY'] * prev['CNT_PAYMENT']\n",
    "    prev['SIMPLE_INTERESTS'] = (total_payment / prev['AMT_CREDIT'] - 1) / prev['CNT_PAYMENT']\n",
    "\n",
    "\n",
    "\n",
    "\n",
    "    prev.loc[:, 'HAS_REFUSED'] = 0\n",
    "    prev.loc[prev['NAME_CONTRACT_STATUS'] == 'Refused', 'HAS_REFUSED'] = 1\n",
    "    prev.loc[:, 'HAS_ACTIVE'] = 0\n",
    "    prev.loc[(prev['NAME_CONTRACT_STATUS'] == 'Approved') & (prev['DAYS_LAST_DUE'] == 365243), 'HAS_ACTIVE'] = 1\n",
    "\n",
    "\n",
    "\n",
    "    # CREDITS ACTIFS\n",
    "    # Active loans - approved and not complete yet (last_due 365243) - valeur speciale !\n",
    "    approved = prev[prev['NAME_CONTRACT_STATUS'] == \"Approved\"]\n",
    "    active_df = approved[approved['DAYS_LAST_DUE'] == 365243]\n",
    "    # Find how much was already payed in active loans (using installments csv)\n",
    "    active_pay = install[install['SK_ID_PREV'].isin(active_df['SK_ID_PREV'])]\n",
    "\n",
    "    active_pay_agg = active_pay.groupby('SK_ID_PREV')[['AMT_INSTALMENT', 'AMT_PAYMENT']].sum()\n",
    "    active_pay_agg.reset_index(inplace=True)\n",
    "    active_pay_agg['INSTALMENT_PAYMENT_DIFF'] = active_pay_agg['AMT_INSTALMENT'] - active_pay_agg['AMT_PAYMENT']\n",
    "\n",
    "    # Merge with active_df\n",
    "    active_df = active_df.merge(active_pay_agg, on='SK_ID_PREV', how='left')\n",
    "\n",
    "    active_df['REMAINING_DEBT'] = active_df['AMT_CREDIT'] - active_df['AMT_PAYMENT']\n",
    "\n",
    "    bureau_active_agg = {\n",
    "        'REMAINING_DEBT': ['sum'],\n",
    "        'AMT_INSTALMENT': ['sum'],\n",
    "    }\n",
    "    active_agg_df = active_df.groupby('SK_ID_CURR').agg({**bureau_active_agg})\n",
    "    active_agg_df.columns = pd.Index(['ACTIVE_' + e[0] + \"_\" + e[1].upper() for e in active_agg_df.columns.tolist()])\n",
    "\n",
    "    # active_agg_df['TOTAL_REPAYMENT_RATIO'] = active_agg_df['ACTIVE_AMT_PAYMENT_SUM'] / active_agg_df[\n",
    "    #     'ACTIVE_AMT_CREDIT_SUM']\n",
    "    # active_agg_df.drop(columns=['ACTIVE_AMT_PAYMENT_SUM', 'ACTIVE_AMT_CREDIT_SUM'], inplace=True)\n",
    "    del active_pay, active_pay_agg, active_df;\n",
    "    gc.collect()\n",
    "\n",
    "\n",
    "    # CREDITS REFUSED\n",
    "    # Aggregations for approved and refused loans\n",
    "    refused = prev[prev['NAME_CONTRACT_STATUS'] == \"Refused\"]\n",
    "    bureau_refused_agg = {\n",
    "        'APP_CREDIT_PERC': ['mean'],\n",
    "        'DAYS_DECISION': ['mean']\n",
    "    }\n",
    "    refused_agg_df = refused.groupby('SK_ID_CURR').agg({**bureau_refused_agg})\n",
    "    refused_agg_df.columns = pd.Index(['REFUSED_' + e[0] + \"_\" + e[1].upper() for e in refused_agg_df.columns.tolist()])\n",
    "    del refused; gc.collect()\n",
    "\n",
    "\n",
    "    # CREDITS APPROVED\n",
    "    bureau_approved_agg = {\n",
    "        'AMT_DOWN_PAYMENT': ['sum']\n",
    "    }\n",
    "    approved_agg_df = approved.groupby('SK_ID_CURR').agg({**bureau_approved_agg})\n",
    "    approved_agg_df.columns = pd.Index(['APPROVED_' + e[0] + \"_\" + e[1].upper() for e in approved_agg_df.columns.tolist()])\n",
    "    del approved; gc.collect()\n",
    "\n",
    "\n",
    "    # LATE PAYMENTS\n",
    "    # Get the SK_ID_PREV for loans with late payments (days past due)\n",
    "    install['LATE_PAYMENT'] = install['DAYS_ENTRY_PAYMENT'] - install['DAYS_INSTALMENT']\n",
    "    install['LATE_PAYMENT'] = install['LATE_PAYMENT'].apply(lambda x: 1 if x > 0 else 0)\n",
    "    dpd_id = install[install['LATE_PAYMENT'] > 0]['SK_ID_PREV'].unique()\n",
    "\n",
    "    prev.loc[:, 'HAD_LATE_PAYMENTS'] = 0\n",
    "    prev.loc[prev['SK_ID_PREV'].isin(dpd_id), 'HAD_LATE_PAYMENTS'] = 1\n",
    "\n",
    "\n",
    "    # Change 365.243 values to nan (missing)\n",
    "    prev['DAYS_FIRST_DRAWING'].replace(365243, np.nan, inplace=True)\n",
    "    prev['DAYS_FIRST_DUE'].replace(365243, np.nan, inplace=True)\n",
    "    prev['DAYS_LAST_DUE_1ST_VERSION'].replace(365243, np.nan, inplace=True)\n",
    "    prev['DAYS_LAST_DUE'].replace(365243, np.nan, inplace=True)\n",
    "    prev['DAYS_TERMINATION'].replace(365243, np.nan, inplace=True)\n",
    "    # Days last due difference (scheduled x done)\n",
    "    prev['DAYS_LAST_DUE_DIFF'] = prev['DAYS_LAST_DUE_1ST_VERSION'] - prev['DAYS_LAST_DUE']\n",
    "\n",
    "    prev = prev[[col for col in prev.columns if col not in features_torem]]\n",
    "\n",
    "    prev_aggregation = {\n",
    "        'CREDIT_TO_ANNUITY_RATIO': ['mean'],\n",
    "        'SIMPLE_INTERESTS': ['mean'],\n",
    "        'DOWN_PAYMENT_TO_CREDIT': ['mean'],\n",
    "        'DAYS_LAST_DUE_DIFF': ['mean'],\n",
    "        'YIELD_GROUP_HIGH': ['sum'],\n",
    "        'HAS_REFUSED':['sum'],\n",
    "        'HAS_ACTIVE':['sum'],\n",
    "        'HAD_LATE_PAYMENTS':['mean']\n",
    "    }\n",
    "\n",
    "    prev = prev.groupby('SK_ID_CURR').agg({**prev_aggregation})  # , **cat_aggregations\n",
    "    prev.columns = pd.Index(['PREV_' + e[0] + \"_\" + e[1].upper() for e in prev.columns.tolist()])\n",
    "\n",
    "\n",
    "    # MERGE ALL DF\n",
    "    prev = prev.merge(active_agg_df, how='left', on='SK_ID_CURR')\n",
    "    del active_agg_df;\n",
    "    gc.collect()\n",
    "    prev = prev.merge(refused_agg_df, how='left', on='SK_ID_CURR')\n",
    "    del refused_agg_df;\n",
    "    gc.collect()\n",
    "    prev = prev.merge(approved_agg_df, how='left', on='SK_ID_CURR')\n",
    "    del approved_agg_df;\n",
    "    gc.collect()\n",
    "\n",
    "\n",
    "\n",
    "\n",
    "    prev.loc[prev['PREV_HAS_ACTIVE_SUM'] == 0, 'ACTIVE_REMAINING_DEBT_SUM'] = 0\n",
    "    prev.loc[prev['PREV_HAS_ACTIVE_SUM'] == 0, 'ACTIVE_AMT_INSTALMENT_SUM'] = 0\n",
    "\n",
    "    prev.loc[prev['PREV_HAS_REFUSED_SUM'] == 0, 'REFUSED_APP_CREDIT_PERC_MEAN'] = 0\n",
    "    prev.loc[prev['PREV_HAS_REFUSED_SUM'] == 0, 'REFUSED_DAYS_DECISION_MEAN'] = 0\n",
    "\n",
    "    # prev.drop(columns = ['PREV_HAS_ACTIVE_SUM'], inplace=True)\n",
    "    # Comme on a peut etre fait des divisions par 0 ...\n",
    "    prev = u810.replace_infinite_by_nan(df=prev, list_new_columns=prev.columns.tolist())\n",
    "    return prev"
   ],
   "metadata": {
    "collapsed": false,
    "ExecuteTime": {
     "start_time": "2023-06-05T11:55:56.511492Z",
     "end_time": "2023-06-05T11:55:56.516443Z"
    }
   }
  },
  {
   "cell_type": "code",
   "execution_count": 16,
   "outputs": [
    {
     "name": "stdout",
     "output_type": "stream",
     "text": [
      "Forme initiale du Dataframe :  (1670214, 37)\n"
     ]
    },
    {
     "name": "stderr",
     "output_type": "stream",
     "text": [
      "/home/maximorose/git_repositories/oc-ds-p07/utilitaires_810.py:77: SettingWithCopyWarning: \n",
      "A value is trying to be set on a copy of a slice from a DataFrame\n",
      "\n",
      "See the caveats in the documentation: https://pandas.pydata.org/pandas-docs/stable/user_guide/indexing.html#returning-a-view-versus-a-copy\n",
      "  res_df.drop(columns=['taux_nan'], inplace=True)\n"
     ]
    },
    {
     "name": "stdout",
     "output_type": "stream",
     "text": [
      "Forme du Dataframe apres traitement :  (1234578, 37)\n",
      "Forme initiale du Dataframe :  (13605401, 8)\n",
      "Forme du Dataframe apres traitement :  (13605401, 8)\n"
     ]
    }
   ],
   "source": [
    "pv=previous_applications()"
   ],
   "metadata": {
    "collapsed": false,
    "ExecuteTime": {
     "start_time": "2023-06-05T11:55:56.949852Z",
     "end_time": "2023-06-05T11:56:16.941270Z"
    }
   }
  },
  {
   "cell_type": "code",
   "execution_count": 18,
   "outputs": [
    {
     "data": {
      "text/plain": "PREV_CREDIT_TO_ANNUITY_RATIO_MEAN        23\nPREV_SIMPLE_INTERESTS_MEAN           104300\nPREV_DOWN_PAYMENT_TO_CREDIT_MEAN      20396\nPREV_DAYS_LAST_DUE_DIFF_MEAN          26045\nREFUSED_APP_CREDIT_PERC_MEAN              6\nAPPROVED_AMT_DOWN_PAYMENT_SUM           626\ndtype: int64"
     },
     "execution_count": 18,
     "metadata": {},
     "output_type": "execute_result"
    }
   ],
   "source": [
    "pv.isna().sum()[pv.isna().sum()!=0]"
   ],
   "metadata": {
    "collapsed": false,
    "ExecuteTime": {
     "start_time": "2023-06-05T11:56:45.200757Z",
     "end_time": "2023-06-05T11:56:45.244935Z"
    }
   }
  },
  {
   "cell_type": "markdown",
   "source": [
    "# BUREAU"
   ],
   "metadata": {
    "collapsed": false
   }
  },
  {
   "cell_type": "code",
   "execution_count": 21,
   "outputs": [],
   "source": [
    "bur = pd.read_csv('./input_data/bureau.csv')"
   ],
   "metadata": {
    "collapsed": false,
    "ExecuteTime": {
     "start_time": "2023-06-05T12:32:57.523578Z",
     "end_time": "2023-06-05T12:32:59.128460Z"
    }
   }
  },
  {
   "cell_type": "code",
   "execution_count": 22,
   "outputs": [
    {
     "data": {
      "text/plain": "Closed      1079273\nActive       630607\nSold           6527\nBad debt         21\nName: CREDIT_ACTIVE, dtype: int64"
     },
     "execution_count": 22,
     "metadata": {},
     "output_type": "execute_result"
    }
   ],
   "source": [
    "bur['CREDIT_ACTIVE'].value_counts()"
   ],
   "metadata": {
    "collapsed": false,
    "ExecuteTime": {
     "start_time": "2023-06-05T12:32:59.142112Z",
     "end_time": "2023-06-05T12:32:59.146121Z"
    }
   }
  },
  {
   "cell_type": "code",
   "execution_count": null,
   "outputs": [],
   "source": [],
   "metadata": {
    "collapsed": false
   }
  }
 ],
 "metadata": {
  "kernelspec": {
   "display_name": "Python 3",
   "language": "python",
   "name": "python3"
  },
  "language_info": {
   "codemirror_mode": {
    "name": "ipython",
    "version": 2
   },
   "file_extension": ".py",
   "mimetype": "text/x-python",
   "name": "python",
   "nbconvert_exporter": "python",
   "pygments_lexer": "ipython2",
   "version": "2.7.6"
  }
 },
 "nbformat": 4,
 "nbformat_minor": 0
}
